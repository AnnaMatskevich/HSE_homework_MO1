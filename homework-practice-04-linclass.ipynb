{
 "cells": [
  {
   "cell_type": "markdown",
   "metadata": {
    "id": "LTlmjXExP75I"
   },
   "source": [
    "# Машинное обучение, ФКН ВШЭ\n",
    "\n",
    "## Практическое задание 4. Классификация"
   ]
  },
  {
   "cell_type": "markdown",
   "metadata": {
    "id": "kH11bAAV2SoV"
   },
   "source": [
    "### Общая информация\n",
    "Дата выдачи: 04.11.2022\n",
    "\n",
    "Мягкий дедлайн: 23:59MSK 16.11.2022\n",
    "\n",
    "Жесткий дедлайн: 23:59MSK 23.11.2022"
   ]
  },
  {
   "cell_type": "markdown",
   "metadata": {
    "id": "iWjJuhqS3Ucc"
   },
   "source": [
    "### О задании\n",
    "\n",
    "В этом задании вы:\n",
    "- ознакомитесь с тем, что происходит \"внутри\" метода опорных векторов и логистической регрессии\n",
    "- познакомитесь с калибровкой вероятности\n",
    "- изучите методы трансформации переменных и методы отбора признаков\n",
    "- попробуете оценить экономический эффект модели\n",
    "\n",
    "----\n",
    "\n",
    "#### Самостоятельная оценка результатов\n",
    "\n",
    "Для удобства проверки, исходя из набора решенных задач, посчитайте свою максимальную оценку.\n",
    "\n",
    "**Оценка**:"
   ]
  },
  {
   "cell_type": "markdown",
   "metadata": {
    "id": "Or0r6z5v1Mmt"
   },
   "source": [
    "### Оценивание и штрафы"
   ]
  },
  {
   "cell_type": "markdown",
   "metadata": {
    "id": "CecLXG_w3zs0"
   },
   "source": [
    "Каждая из задач имеет определенную «стоимость» (указана в скобках около задачи). Максимально допустимая оценка за работу — 10 баллов.\n",
    "\n",
    "Сдавать задание после указанного жёсткого дедлайна нельзя. При выставлении неполного балла за задание в связи с наличием ошибок на усмотрение проверяющего предусмотрена возможность исправить работу на указанных в ответном письме условиях.\n",
    "\n",
    "Задание выполняется самостоятельно. «Похожие» решения считаются плагиатом и все задействованные студенты (в том числе те, у кого списали) не могут получить за него больше 0 баллов (подробнее о плагиате см. на странице курса). Если вы нашли решение какого-то из заданий (или его часть) в открытом источнике, необходимо указать ссылку на этот источник в отдельном блоке в конце вашей работы (скорее всего вы будете не единственным, кто это нашел, поэтому чтобы исключить подозрение в плагиате, необходима ссылка на источник).\n",
    "\n",
    "Неэффективная реализация кода может негативно отразиться на оценке."
   ]
  },
  {
   "cell_type": "markdown",
   "metadata": {
    "id": "eMwMhTpA1MwR"
   },
   "source": [
    "### Формат сдачи"
   ]
  },
  {
   "cell_type": "markdown",
   "metadata": {
    "id": "O5qs8FC_35h7"
   },
   "source": [
    "Для сдачи задания переименуйте получившийся файл *.ipynb в соответствии со следующим форматом: homework-practice-04-linclass-__Username__.ipynb, где Username — ваша фамилия и имя на латинице именно в таком порядке (например, homework-practice-04-linclass-__IvanovIvan__.ipynb)."
   ]
  },
  {
   "cell_type": "markdown",
   "metadata": {
    "id": "KGWDDNDyP75O"
   },
   "source": [
    "# Часть 1. SVM, LR и калибровка вероятностей"
   ]
  },
  {
   "cell_type": "code",
   "metadata": {
    "id": "jDyI9TST-3Ou",
    "ExecuteTime": {
     "end_time": "2025-01-28T12:52:29.723578Z",
     "start_time": "2025-01-28T12:52:13.880494Z"
    }
   },
   "source": "from sklearn.linear_model import LogisticRegression !pip install --upgrade scikit-learn",
   "outputs": [
    {
     "name": "stdout",
     "output_type": "stream",
     "text": [
      "Requirement already satisfied: scikit-learn in c:\\users\\annam\\anaconda3\\lib\\site-packages (1.4.2)\n",
      "Collecting scikit-learn\n",
      "  Downloading scikit_learn-1.6.1-cp312-cp312-win_amd64.whl.metadata (15 kB)\n",
      "Requirement already satisfied: numpy>=1.19.5 in c:\\users\\annam\\anaconda3\\lib\\site-packages (from scikit-learn) (1.26.4)\n",
      "Requirement already satisfied: scipy>=1.6.0 in c:\\users\\annam\\anaconda3\\lib\\site-packages (from scikit-learn) (1.13.1)\n",
      "Requirement already satisfied: joblib>=1.2.0 in c:\\users\\annam\\anaconda3\\lib\\site-packages (from scikit-learn) (1.4.2)\n",
      "Collecting threadpoolctl>=3.1.0 (from scikit-learn)\n",
      "  Downloading threadpoolctl-3.5.0-py3-none-any.whl.metadata (13 kB)\n",
      "Downloading scikit_learn-1.6.1-cp312-cp312-win_amd64.whl (11.1 MB)\n",
      "   ---------------------------------------- 0.0/11.1 MB ? eta -:--:--\n",
      "   ---------------------------------------- 0.0/11.1 MB 1.4 MB/s eta 0:00:09\n",
      "   ---------------------------------------- 0.1/11.1 MB 1.7 MB/s eta 0:00:07\n",
      "    --------------------------------------- 0.2/11.1 MB 2.1 MB/s eta 0:00:06\n",
      "   - -------------------------------------- 0.5/11.1 MB 3.1 MB/s eta 0:00:04\n",
      "   --- ------------------------------------ 1.0/11.1 MB 5.1 MB/s eta 0:00:02\n",
      "   ------- -------------------------------- 2.1/11.1 MB 8.0 MB/s eta 0:00:02\n",
      "   --------------- ------------------------ 4.2/11.1 MB 14.1 MB/s eta 0:00:01\n",
      "   ------------------------ --------------- 6.8/11.1 MB 19.9 MB/s eta 0:00:01\n",
      "   ----------------------------- ---------- 8.2/11.1 MB 21.7 MB/s eta 0:00:01\n",
      "   ---------------------------------------  11.0/11.1 MB 38.6 MB/s eta 0:00:01\n",
      "   ---------------------------------------- 11.1/11.1 MB 38.4 MB/s eta 0:00:00\n",
      "Downloading threadpoolctl-3.5.0-py3-none-any.whl (18 kB)\n",
      "Installing collected packages: threadpoolctl, scikit-learn\n",
      "  Attempting uninstall: threadpoolctl\n",
      "    Found existing installation: threadpoolctl 2.2.0\n",
      "    Uninstalling threadpoolctl-2.2.0:\n",
      "      Successfully uninstalled threadpoolctl-2.2.0\n",
      "  Attempting uninstall: scikit-learn\n",
      "    Found existing installation: scikit-learn 1.4.2\n",
      "    Uninstalling scikit-learn-1.4.2:\n",
      "      Successfully uninstalled scikit-learn-1.4.2\n",
      "Successfully installed scikit-learn-1.6.1 threadpoolctl-3.5.0\n"
     ]
    }
   ],
   "execution_count": 1
  },
  {
   "cell_type": "code",
   "metadata": {
    "id": "KyqoX1BNP75N",
    "ExecuteTime": {
     "end_time": "2025-01-30T20:49:20.886714Z",
     "start_time": "2025-01-30T20:49:20.880689Z"
    }
   },
   "source": [
    "import numpy as np\n",
    "import pandas as pd\n",
    "import matplotlib.pyplot as plt\n",
    "%matplotlib inline\n",
    "\n",
    "pd.set_option('display.max_rows', 100)\n",
    "pd.set_option('display.max_columns', 100)"
   ],
   "outputs": [],
   "execution_count": 227
  },
  {
   "cell_type": "markdown",
   "metadata": {
    "id": "xvhLtt4OP75Q"
   },
   "source": [
    "#### __Задание 1.1  Сравнение методов__ (0.5 балла)\n",
    "\n"
   ]
  },
  {
   "cell_type": "markdown",
   "metadata": {
    "id": "LZw2aOq9P75O"
   },
   "source": [
    "Сгенерируем синтетические данные."
   ]
  },
  {
   "cell_type": "code",
   "metadata": {
    "id": "mqkczFrQP75P",
    "ExecuteTime": {
     "end_time": "2025-01-30T20:49:22.428216Z",
     "start_time": "2025-01-30T20:49:22.401490Z"
    }
   },
   "source": [
    "from sklearn.datasets import make_classification\n",
    "from sklearn.model_selection import train_test_split\n",
    "\n",
    "# фиксируем random_state для воспроизводимости результатов\n",
    "X, y = make_classification(\n",
    "    n_samples=10000, n_features=10, n_informative=5, n_redundant=5, random_state=42)\n",
    "\n",
    "X_train, X_test, y_train, y_test = train_test_split(X, y, test_size=0.3, random_state=42)"
   ],
   "outputs": [],
   "execution_count": 228
  },
  {
   "cell_type": "markdown",
   "metadata": {
    "id": "BdPx-lQbtaRe"
   },
   "source": [
    "__Случайный классификатор__\n",
    "\n",
    "Для начала зададим самую простую модель, которая на каждом объекте выдаёт один из двух классов с равными вероятностями. По тестовой выборке вычислим AUC-ROC, AUC-PR."
   ]
  },
  {
   "cell_type": "code",
   "metadata": {
    "colab": {
     "base_uri": "https://localhost:8080/"
    },
    "id": "0rqepy-AtZXc",
    "outputId": "4d532d1d-9654-4a63-e456-60f44a098443",
    "ExecuteTime": {
     "end_time": "2025-01-30T12:33:39.043646Z",
     "start_time": "2025-01-30T12:33:39.031385Z"
    }
   },
   "source": [
    "np.random.seed(42)\n",
    "\n",
    "# наш случайный классификатор\n",
    "y_random = np.random.choice([0, 1], size=len(y_test), p=[0.5, 0.5])\n",
    "y_random"
   ],
   "outputs": [
    {
     "data": {
      "text/plain": [
       "array([0, 1, 1, ..., 0, 0, 1])"
      ]
     },
     "execution_count": 113,
     "metadata": {},
     "output_type": "execute_result"
    }
   ],
   "execution_count": 113
  },
  {
   "cell_type": "markdown",
   "metadata": {
    "id": "LnmZFwEYDVqx"
   },
   "source": [
    "*Ниже приведен **пример** работы* со встроенными функциями `sklearn` для отрисовки ROC и PR кривых, сохранения метрик. Пайплайн можно изменять как вам удобно, за особенно эффективные или красивые варианты может быть начислен небольшой бонус :)"
   ]
  },
  {
   "cell_type": "code",
   "metadata": {
    "id": "gNJLhNj7DkLx",
    "ExecuteTime": {
     "end_time": "2025-01-30T12:33:39.813359Z",
     "start_time": "2025-01-30T12:33:39.806386Z"
    }
   },
   "source": [
    "from sklearn.metrics import auc\n",
    "from sklearn.metrics import average_precision_score\n",
    "from sklearn.metrics import precision_recall_curve\n",
    "from sklearn.metrics import PrecisionRecallDisplay\n",
    "\n",
    "from sklearn.metrics import roc_auc_score\n",
    "from sklearn.metrics import RocCurveDisplay"
   ],
   "outputs": [],
   "execution_count": 114
  },
  {
   "cell_type": "code",
   "metadata": {
    "colab": {
     "base_uri": "https://localhost:8080/",
     "height": 403
    },
    "id": "-WHELzN6_fsQ",
    "outputId": "47285a42-dd22-4591-af46-56bb8b54dfb2",
    "ExecuteTime": {
     "end_time": "2025-01-30T12:33:40.414012Z",
     "start_time": "2025-01-30T12:33:40.097479Z"
    }
   },
   "source": [
    "fig, ax = plt.subplots(1, 2, figsize=(11, 5))\n",
    "\n",
    "PrecisionRecallDisplay.from_predictions(y_test, y_random, ax=ax[0])\n",
    "precision, recall, _ = precision_recall_curve(y_test, y_random)\n",
    "print('AUC-PR: %.5f' % auc(recall, precision))\n",
    "ax[0].set_title(\"PRC for Random Classifier\")\n",
    "ax[0].set_ylim(0, 1.1)\n",
    "\n",
    "RocCurveDisplay.from_predictions(y_test, y_random, ax=ax[1])\n",
    "print('AUC-ROC: %.5f' % roc_auc_score(y_test, y_random))\n",
    "ax[1].set_title(\"ROC for Random Classifier\")\n",
    "ax[1].set_ylim(0, 1.1)\n",
    "\n",
    "plt.tight_layout()"
   ],
   "outputs": [
    {
     "name": "stdout",
     "output_type": "stream",
     "text": [
      "AUC-PR: 0.63340\n",
      "AUC-ROC: 0.50394\n"
     ]
    },
    {
     "data": {
      "text/plain": [
       "<Figure size 1100x500 with 2 Axes>"
      ],
      "image/png": "[encoded data removed]"
     },
     "metadata": {},
     "output_type": "display_data"
    }
   ],
   "execution_count": 115
  },
  {
   "cell_type": "code",
   "metadata": {
    "colab": {
     "base_uri": "https://localhost:8080/",
     "height": 80
    },
    "id": "pSugCdAAEF2z",
    "outputId": "9cc380d1-eb63-4e9f-a707-46e76092b4ed",
    "ExecuteTime": {
     "end_time": "2025-01-30T12:33:40.441730Z",
     "start_time": "2025-01-30T12:33:40.416545Z"
    }
   },
   "source": [
    "# dataframe для сравнения \n",
    "# методов классификации по метрикам\n",
    "df_metrics = pd.DataFrame(columns=['AUC_PR', 'AUC_ROC', 'reg_const'])\n",
    "\n",
    "# добавление очередной строки с характеристиками метода\n",
    "df_metrics.loc['Random Classifier'] = [\n",
    "    auc(recall, precision),\n",
    "    roc_auc_score(y_test, y_random),\n",
    "    None\n",
    "]\n",
    "\n",
    "# по аналогии результаты следующих экспериментов можно будет собрать в табличку\n",
    "df_metrics"
   ],
   "outputs": [
    {
     "data": {
      "text/plain": [
       "                     AUC_PR   AUC_ROC  reg_const\n",
       "Random Classifier  0.633402  0.503944        NaN"
      ],
      "text/html": [
       "<div>\n",
       "<style scoped>\n",
       "    .dataframe tbody tr th:only-of-type {\n",
       "        vertical-align: middle;\n",
       "    }\n",
       "\n",
       "    .dataframe tbody tr th {\n",
       "        vertical-align: top;\n",
       "    }\n",
       "\n",
       "    .dataframe thead th {\n",
       "        text-align: right;\n",
       "    }\n",
       "</style>\n",
       "<table border=\"1\" class=\"dataframe\">\n",
       "  <thead>\n",
       "    <tr style=\"text-align: right;\">\n",
       "      <th></th>\n",
       "      <th>AUC_PR</th>\n",
       "      <th>AUC_ROC</th>\n",
       "      <th>reg_const</th>\n",
       "    </tr>\n",
       "  </thead>\n",
       "  <tbody>\n",
       "    <tr>\n",
       "      <th>Random Classifier</th>\n",
       "      <td>0.633402</td>\n",
       "      <td>0.503944</td>\n",
       "      <td>NaN</td>\n",
       "    </tr>\n",
       "  </tbody>\n",
       "</table>\n",
       "</div>"
      ]
     },
     "execution_count": 116,
     "metadata": {},
     "output_type": "execute_result"
    }
   ],
   "execution_count": 116
  },
  {
   "cell_type": "markdown",
   "metadata": {
    "id": "9IwDobmQtW2P"
   },
   "source": [
    "__Support Vector Machine (Linear Kernel)__\n",
    "\n",
    "Обучите метод опорных векторов. На занятиях мы проходили линейный вариант без ядрового перехода, что соответствует линейному ядру (`LinearSVC` или же `SVC(kernel='linear')` в `sklearn.svm`). Подберите параметр регуляризации `C` (можете воспользоваться кросс-валидацией или отделить валидационную выборку от обучающей).\n",
    "\n",
    "__NB!__ Здесь и далее, если не сказано иначе, подбирайте __оптимальные гиперпараметры с точки зрения AUC-PR.__"
   ]
  },
  {
   "cell_type": "code",
   "metadata": {
    "id": "eyjF-qc3P75Q",
    "ExecuteTime": {
     "end_time": "2025-01-30T12:35:46.708825Z",
     "start_time": "2025-01-30T12:33:40.726460Z"
    }
   },
   "source": [
    "from sklearn.metrics import make_scorer\n",
    "import sklearn\n",
    "from sklearn.model_selection import GridSearchCV\n",
    "\n",
    "svm = sklearn.svm.SVC(kernel='linear', probability=True, random_state=42)\n",
    "param_grid = {'C': [0.01, 0.1, 1, 10]}\n",
    "grid_search = GridSearchCV(svm, param_grid, scoring=make_scorer(average_precision_score), cv=5)\n",
    "grid_search.fit(X_train, y_train)\n",
    "\n"
   ],
   "outputs": [
    {
     "data": {
      "text/plain": [
       "GridSearchCV(cv=5,\n",
       "             estimator=SVC(kernel='linear', probability=True, random_state=42),\n",
       "             param_grid={'C': [0.01, 0.1, 1, 10]},\n",
       "             scoring=make_scorer(average_precision_score, response_method='predict'))"
      ],
      "text/html": [
       "<style>#sk-container-id-1 {\n",
       "  /* Definition of color scheme common for light and dark mode */\n",
       "  --sklearn-color-text: #000;\n",
       "  --sklearn-color-text-muted: #666;\n",
       "  --sklearn-color-line: gray;\n",
       "  /* Definition of color scheme for unfitted estimators */\n",
       "  --sklearn-color-unfitted-level-0: #fff5e6;\n",
       "  --sklearn-color-unfitted-level-1: #f6e4d2;\n",
       "  --sklearn-color-unfitted-level-2: #ffe0b3;\n",
       "  --sklearn-color-unfitted-level-3: chocolate;\n",
       "  /* Definition of color scheme for fitted estimators */\n",
       "  --sklearn-color-fitted-level-0: #f0f8ff;\n",
       "  --sklearn-color-fitted-level-1: #d4ebff;\n",
       "  --sklearn-color-fitted-level-2: #b3dbfd;\n",
       "  --sklearn-color-fitted-level-3: cornflowerblue;\n",
       "\n",
       "  /* Specific color for light theme */\n",
       "  --sklearn-color-text-on-default-background: var(--sg-text-color, var(--theme-code-foreground, var(--jp-content-font-color1, black)));\n",
       "  --sklearn-color-background: var(--sg-background-color, var(--theme-background, var(--jp-layout-color0, white)));\n",
       "  --sklearn-color-border-box: var(--sg-text-color, var(--theme-code-foreground, var(--jp-content-font-color1, black)));\n",
       "  --sklearn-color-icon: #696969;\n",
       "\n",
       "  @media (prefers-color-scheme: dark) {\n",
       "    /* Redefinition of color scheme for dark theme */\n",
       "    --sklearn-color-text-on-default-background: var(--sg-text-color, var(--theme-code-foreground, var(--jp-content-font-color1, white)));\n",
       "    --sklearn-color-background: var(--sg-background-color, var(--theme-background, var(--jp-layout-color0, #111)));\n",
       "    --sklearn-color-border-box: var(--sg-text-color, var(--theme-code-foreground, var(--jp-content-font-color1, white)));\n",
       "    --sklearn-color-icon: #878787;\n",
       "  }\n",
       "}\n",
       "\n",
       "#sk-container-id-1 {\n",
       "  color: var(--sklearn-color-text);\n",
       "}\n",
       "\n",
       "#sk-container-id-1 pre {\n",
       "  padding: 0;\n",
       "}\n",
       "\n",
       "#sk-container-id-1 input.sk-hidden--visually {\n",
       "  border: 0;\n",
       "  clip: rect(1px 1px 1px 1px);\n",
       "  clip: rect(1px, 1px, 1px, 1px);\n",
       "  height: 1px;\n",
       "  margin: -1px;\n",
       "  overflow: hidden;\n",
       "  padding: 0;\n",
       "  position: absolute;\n",
       "  width: 1px;\n",
       "}\n",
       "\n",
       "#sk-container-id-1 div.sk-dashed-wrapped {\n",
       "  border: 1px dashed var(--sklearn-color-line);\n",
       "  margin: 0 0.4em 0.5em 0.4em;\n",
       "  box-sizing: border-box;\n",
       "  padding-bottom: 0.4em;\n",
       "  background-color: var(--sklearn-color-background);\n",
       "}\n",
       "\n",
       "#sk-container-id-1 div.sk-container {\n",
       "  /* jupyter's `normalize.less` sets `[hidden] { display: none; }`\n",
       "     but bootstrap.min.css set `[hidden] { display: none !important; }`\n",
       "     so we also need the `!important` here to be able to override the\n",
       "     default hidden behavior on the sphinx rendered scikit-learn.org.\n",
       "     See: https://github.com/scikit-learn/scikit-learn/issues/21755 */\n",
       "  display: inline-block !important;\n",
       "  position: relative;\n",
       "}\n",
       "\n",
       "#sk-container-id-1 div.sk-text-repr-fallback {\n",
       "  display: none;\n",
       "}\n",
       "\n",
       "div.sk-parallel-item,\n",
       "div.sk-serial,\n",
       "div.sk-item {\n",
       "  /* draw centered vertical line to link estimators */\n",
       "  background-image: linear-gradient(var(--sklearn-color-text-on-default-background), var(--sklearn-color-text-on-default-background));\n",
       "  background-size: 2px 100%;\n",
       "  background-repeat: no-repeat;\n",
       "  background-position: center center;\n",
       "}\n",
       "\n",
       "/* Parallel-specific style estimator block */\n",
       "\n",
       "#sk-container-id-1 div.sk-parallel-item::after {\n",
       "  content: \"\";\n",
       "  width: 100%;\n",
       "  border-bottom: 2px solid var(--sklearn-color-text-on-default-background);\n",
       "  flex-grow: 1;\n",
       "}\n",
       "\n",
       "#sk-container-id-1 div.sk-parallel {\n",
       "  display: flex;\n",
       "  align-items: stretch;\n",
       "  justify-content: center;\n",
       "  background-color: var(--sklearn-color-background);\n",
       "  position: relative;\n",
       "}\n",
       "\n",
       "#sk-container-id-1 div.sk-parallel-item {\n",
       "  display: flex;\n",
       "  flex-direction: column;\n",
       "}\n",
       "\n",
       "#sk-container-id-1 div.sk-parallel-item:first-child::after {\n",
       "  align-self: flex-end;\n",
       "  width: 50%;\n",
       "}\n",
       "\n",
       "#sk-container-id-1 div.sk-parallel-item:last-child::after {\n",
       "  align-self: flex-start;\n",
       "  width: 50%;\n",
       "}\n",
       "\n",
       "#sk-container-id-1 div.sk-parallel-item:only-child::after {\n",
       "  width: 0;\n",
       "}\n",
       "\n",
       "/* Serial-specific style estimator block */\n",
       "\n",
       "#sk-container-id-1 div.sk-serial {\n",
       "  display: flex;\n",
       "  flex-direction: column;\n",
       "  align-items: center;\n",
       "  background-color: var(--sklearn-color-background);\n",
       "  padding-right: 1em;\n",
       "  padding-left: 1em;\n",
       "}\n",
       "\n",
       "\n",
       "/* Toggleable style: style used for estimator/Pipeline/ColumnTransformer box that is\n",
       "clickable and can be expanded/collapsed.\n",
       "- Pipeline and ColumnTransformer use this feature and define the default style\n",
       "- Estimators will overwrite some part of the style using the `sk-estimator` class\n",
       "*/\n",
       "\n",
       "/* Pipeline and ColumnTransformer style (default) */\n",
       "\n",
       "#sk-container-id-1 div.sk-toggleable {\n",
       "  /* Default theme specific background. It is overwritten whether we have a\n",
       "  specific estimator or a Pipeline/ColumnTransformer */\n",
       "  background-color: var(--sklearn-color-background);\n",
       "}\n",
       "\n",
       "/* Toggleable label */\n",
       "#sk-container-id-1 label.sk-toggleable__label {\n",
       "  cursor: pointer;\n",
       "  display: flex;\n",
       "  width: 100%;\n",
       "  margin-bottom: 0;\n",
       "  padding: 0.5em;\n",
       "  box-sizing: border-box;\n",
       "  text-align: center;\n",
       "  align-items: start;\n",
       "  justify-content: space-between;\n",
       "  gap: 0.5em;\n",
       "}\n",
       "\n",
       "#sk-container-id-1 label.sk-toggleable__label .caption {\n",
       "  font-size: 0.6rem;\n",
       "  font-weight: lighter;\n",
       "  color: var(--sklearn-color-text-muted);\n",
       "}\n",
       "\n",
       "#sk-container-id-1 label.sk-toggleable__label-arrow:before {\n",
       "  /* Arrow on the left of the label */\n",
       "  content: \"▸\";\n",
       "  float: left;\n",
       "  margin-right: 0.25em;\n",
       "  color: var(--sklearn-color-icon);\n",
       "}\n",
       "\n",
       "#sk-container-id-1 label.sk-toggleable__label-arrow:hover:before {\n",
       "  color: var(--sklearn-color-text);\n",
       "}\n",
       "\n",
       "/* Toggleable content - dropdown */\n",
       "\n",
       "#sk-container-id-1 div.sk-toggleable__content {\n",
       "  max-height: 0;\n",
       "  max-width: 0;\n",
       "  overflow: hidden;\n",
       "  text-align: left;\n",
       "  /* unfitted */\n",
       "  background-color: var(--sklearn-color-unfitted-level-0);\n",
       "}\n",
       "\n",
       "#sk-container-id-1 div.sk-toggleable__content.fitted {\n",
       "  /* fitted */\n",
       "  background-color: var(--sklearn-color-fitted-level-0);\n",
       "}\n",
       "\n",
       "#sk-container-id-1 div.sk-toggleable__content pre {\n",
       "  margin: 0.2em;\n",
       "  border-radius: 0.25em;\n",
       "  color: var(--sklearn-color-text);\n",
       "  /* unfitted */\n",
       "  background-color: var(--sklearn-color-unfitted-level-0);\n",
       "}\n",
       "\n",
       "#sk-container-id-1 div.sk-toggleable__content.fitted pre {\n",
       "  /* unfitted */\n",
       "  background-color: var(--sklearn-color-fitted-level-0);\n",
       "}\n",
       "\n",
       "#sk-container-id-1 input.sk-toggleable__control:checked~div.sk-toggleable__content {\n",
       "  /* Expand drop-down */\n",
       "  max-height: 200px;\n",
       "  max-width: 100%;\n",
       "  overflow: auto;\n",
       "}\n",
       "\n",
       "#sk-container-id-1 input.sk-toggleable__control:checked~label.sk-toggleable__label-arrow:before {\n",
       "  content: \"▾\";\n",
       "}\n",
       "\n",
       "/* Pipeline/ColumnTransformer-specific style */\n",
       "\n",
       "#sk-container-id-1 div.sk-label input.sk-toggleable__control:checked~label.sk-toggleable__label {\n",
       "  color: var(--sklearn-color-text);\n",
       "  background-color: var(--sklearn-color-unfitted-level-2);\n",
       "}\n",
       "\n",
       "#sk-container-id-1 div.sk-label.fitted input.sk-toggleable__control:checked~label.sk-toggleable__label {\n",
       "  background-color: var(--sklearn-color-fitted-level-2);\n",
       "}\n",
       "\n",
       "/* Estimator-specific style */\n",
       "\n",
       "/* Colorize estimator box */\n",
       "#sk-container-id-1 div.sk-estimator input.sk-toggleable__control:checked~label.sk-toggleable__label {\n",
       "  /* unfitted */\n",
       "  background-color: var(--sklearn-color-unfitted-level-2);\n",
       "}\n",
       "\n",
       "#sk-container-id-1 div.sk-estimator.fitted input.sk-toggleable__control:checked~label.sk-toggleable__label {\n",
       "  /* fitted */\n",
       "  background-color: var(--sklearn-color-fitted-level-2);\n",
       "}\n",
       "\n",
       "#sk-container-id-1 div.sk-label label.sk-toggleable__label,\n",
       "#sk-container-id-1 div.sk-label label {\n",
       "  /* The background is the default theme color */\n",
       "  color: var(--sklearn-color-text-on-default-background);\n",
       "}\n",
       "\n",
       "/* On hover, darken the color of the background */\n",
       "#sk-container-id-1 div.sk-label:hover label.sk-toggleable__label {\n",
       "  color: var(--sklearn-color-text);\n",
       "  background-color: var(--sklearn-color-unfitted-level-2);\n",
       "}\n",
       "\n",
       "/* Label box, darken color on hover, fitted */\n",
       "#sk-container-id-1 div.sk-label.fitted:hover label.sk-toggleable__label.fitted {\n",
       "  color: var(--sklearn-color-text);\n",
       "  background-color: var(--sklearn-color-fitted-level-2);\n",
       "}\n",
       "\n",
       "/* Estimator label */\n",
       "\n",
       "#sk-container-id-1 div.sk-label label {\n",
       "  font-family: monospace;\n",
       "  font-weight: bold;\n",
       "  display: inline-block;\n",
       "  line-height: 1.2em;\n",
       "}\n",
       "\n",
       "#sk-container-id-1 div.sk-label-container {\n",
       "  text-align: center;\n",
       "}\n",
       "\n",
       "/* Estimator-specific */\n",
       "#sk-container-id-1 div.sk-estimator {\n",
       "  font-family: monospace;\n",
       "  border: 1px dotted var(--sklearn-color-border-box);\n",
       "  border-radius: 0.25em;\n",
       "  box-sizing: border-box;\n",
       "  margin-bottom: 0.5em;\n",
       "  /* unfitted */\n",
       "  background-color: var(--sklearn-color-unfitted-level-0);\n",
       "}\n",
       "\n",
       "#sk-container-id-1 div.sk-estimator.fitted {\n",
       "  /* fitted */\n",
       "  background-color: var(--sklearn-color-fitted-level-0);\n",
       "}\n",
       "\n",
       "/* on hover */\n",
       "#sk-container-id-1 div.sk-estimator:hover {\n",
       "  /* unfitted */\n",
       "  background-color: var(--sklearn-color-unfitted-level-2);\n",
       "}\n",
       "\n",
       "#sk-container-id-1 div.sk-estimator.fitted:hover {\n",
       "  /* fitted */\n",
       "  background-color: var(--sklearn-color-fitted-level-2);\n",
       "}\n",
       "\n",
       "/* Specification for estimator info (e.g. \"i\" and \"?\") */\n",
       "\n",
       "/* Common style for \"i\" and \"?\" */\n",
       "\n",
       ".sk-estimator-doc-link,\n",
       "a:link.sk-estimator-doc-link,\n",
       "a:visited.sk-estimator-doc-link {\n",
       "  float: right;\n",
       "  font-size: smaller;\n",
       "  line-height: 1em;\n",
       "  font-family: monospace;\n",
       "  background-color: var(--sklearn-color-background);\n",
       "  border-radius: 1em;\n",
       "  height: 1em;\n",
       "  width: 1em;\n",
       "  text-decoration: none !important;\n",
       "  margin-left: 0.5em;\n",
       "  text-align: center;\n",
       "  /* unfitted */\n",
       "  border: var(--sklearn-color-unfitted-level-1) 1pt solid;\n",
       "  color: var(--sklearn-color-unfitted-level-1);\n",
       "}\n",
       "\n",
       ".sk-estimator-doc-link.fitted,\n",
       "a:link.sk-estimator-doc-link.fitted,\n",
       "a:visited.sk-estimator-doc-link.fitted {\n",
       "  /* fitted */\n",
       "  border: var(--sklearn-color-fitted-level-1) 1pt solid;\n",
       "  color: var(--sklearn-color-fitted-level-1);\n",
       "}\n",
       "\n",
       "/* On hover */\n",
       "div.sk-estimator:hover .sk-estimator-doc-link:hover,\n",
       ".sk-estimator-doc-link:hover,\n",
       "div.sk-label-container:hover .sk-estimator-doc-link:hover,\n",
       ".sk-estimator-doc-link:hover {\n",
       "  /* unfitted */\n",
       "  background-color: var(--sklearn-color-unfitted-level-3);\n",
       "  color: var(--sklearn-color-background);\n",
       "  text-decoration: none;\n",
       "}\n",
       "\n",
       "div.sk-estimator.fitted:hover .sk-estimator-doc-link.fitted:hover,\n",
       ".sk-estimator-doc-link.fitted:hover,\n",
       "div.sk-label-container:hover .sk-estimator-doc-link.fitted:hover,\n",
       ".sk-estimator-doc-link.fitted:hover {\n",
       "  /* fitted */\n",
       "  background-color: var(--sklearn-color-fitted-level-3);\n",
       "  color: var(--sklearn-color-background);\n",
       "  text-decoration: none;\n",
       "}\n",
       "\n",
       "/* Span, style for the box shown on hovering the info icon */\n",
       ".sk-estimator-doc-link span {\n",
       "  display: none;\n",
       "  z-index: 9999;\n",
       "  position: relative;\n",
       "  font-weight: normal;\n",
       "  right: .2ex;\n",
       "  padding: .5ex;\n",
       "  margin: .5ex;\n",
       "  width: min-content;\n",
       "  min-width: 20ex;\n",
       "  max-width: 50ex;\n",
       "  color: var(--sklearn-color-text);\n",
       "  box-shadow: 2pt 2pt 4pt #999;\n",
       "  /* unfitted */\n",
       "  background: var(--sklearn-color-unfitted-level-0);\n",
       "  border: .5pt solid var(--sklearn-color-unfitted-level-3);\n",
       "}\n",
       "\n",
       ".sk-estimator-doc-link.fitted span {\n",
       "  /* fitted */\n",
       "  background: var(--sklearn-color-fitted-level-0);\n",
       "  border: var(--sklearn-color-fitted-level-3);\n",
       "}\n",
       "\n",
       ".sk-estimator-doc-link:hover span {\n",
       "  display: block;\n",
       "}\n",
       "\n",
       "/* \"?\"-specific style due to the `<a>` HTML tag */\n",
       "\n",
       "#sk-container-id-1 a.estimator_doc_link {\n",
       "  float: right;\n",
       "  font-size: 1rem;\n",
       "  line-height: 1em;\n",
       "  font-family: monospace;\n",
       "  background-color: var(--sklearn-color-background);\n",
       "  border-radius: 1rem;\n",
       "  height: 1rem;\n",
       "  width: 1rem;\n",
       "  text-decoration: none;\n",
       "  /* unfitted */\n",
       "  color: var(--sklearn-color-unfitted-level-1);\n",
       "  border: var(--sklearn-color-unfitted-level-1) 1pt solid;\n",
       "}\n",
       "\n",
       "#sk-container-id-1 a.estimator_doc_link.fitted {\n",
       "  /* fitted */\n",
       "  border: var(--sklearn-color-fitted-level-1) 1pt solid;\n",
       "  color: var(--sklearn-color-fitted-level-1);\n",
       "}\n",
       "\n",
       "/* On hover */\n",
       "#sk-container-id-1 a.estimator_doc_link:hover {\n",
       "  /* unfitted */\n",
       "  background-color: var(--sklearn-color-unfitted-level-3);\n",
       "  color: var(--sklearn-color-background);\n",
       "  text-decoration: none;\n",
       "}\n",
       "\n",
       "#sk-container-id-1 a.estimator_doc_link.fitted:hover {\n",
       "  /* fitted */\n",
       "  background-color: var(--sklearn-color-fitted-level-3);\n",
       "}\n",
       "</style><div id=\"sk-container-id-1\" class=\"sk-top-container\"><div class=\"sk-text-repr-fallback\"><pre>GridSearchCV(cv=5,\n",
       "             estimator=SVC(kernel=&#x27;linear&#x27;, probability=True, random_state=42),\n",
       "             param_grid={&#x27;C&#x27;: [0.01, 0.1, 1, 10]},\n",
       "             scoring=make_scorer(average_precision_score, response_method=&#x27;predict&#x27;))</pre><b>In a Jupyter environment, please rerun this cell to show the HTML representation or trust the notebook. <br />On GitHub, the HTML representation is unable to render, please try loading this page with nbviewer.org.</b></div><div class=\"sk-container\" hidden><div class=\"sk-item sk-dashed-wrapped\"><div class=\"sk-label-container\"><div class=\"sk-label fitted sk-toggleable\"><input class=\"sk-toggleable__control sk-hidden--visually\" id=\"sk-estimator-id-1\" type=\"checkbox\" ><label for=\"sk-estimator-id-1\" class=\"sk-toggleable__label fitted sk-toggleable__label-arrow\"><div><div>GridSearchCV</div></div><div><a class=\"sk-estimator-doc-link fitted\" rel=\"noreferrer\" target=\"_blank\" href=\"https://scikit-learn.org/1.6/modules/generated/sklearn.model_selection.GridSearchCV.html\">?<span>Documentation for GridSearchCV</span></a><span class=\"sk-estimator-doc-link fitted\">i<span>Fitted</span></span></div></label><div class=\"sk-toggleable__content fitted\"><pre>GridSearchCV(cv=5,\n",
       "             estimator=SVC(kernel=&#x27;linear&#x27;, probability=True, random_state=42),\n",
       "             param_grid={&#x27;C&#x27;: [0.01, 0.1, 1, 10]},\n",
       "             scoring=make_scorer(average_precision_score, response_method=&#x27;predict&#x27;))</pre></div> </div></div><div class=\"sk-parallel\"><div class=\"sk-parallel-item\"><div class=\"sk-item\"><div class=\"sk-label-container\"><div class=\"sk-label fitted sk-toggleable\"><input class=\"sk-toggleable__control sk-hidden--visually\" id=\"sk-estimator-id-2\" type=\"checkbox\" ><label for=\"sk-estimator-id-2\" class=\"sk-toggleable__label fitted sk-toggleable__label-arrow\"><div><div>best_estimator_: SVC</div></div></label><div class=\"sk-toggleable__content fitted\"><pre>SVC(C=0.1, kernel=&#x27;linear&#x27;, probability=True, random_state=42)</pre></div> </div></div><div class=\"sk-serial\"><div class=\"sk-item\"><div class=\"sk-estimator fitted sk-toggleable\"><input class=\"sk-toggleable__control sk-hidden--visually\" id=\"sk-estimator-id-3\" type=\"checkbox\" ><label for=\"sk-estimator-id-3\" class=\"sk-toggleable__label fitted sk-toggleable__label-arrow\"><div><div>SVC</div></div><div><a class=\"sk-estimator-doc-link fitted\" rel=\"noreferrer\" target=\"_blank\" href=\"https://scikit-learn.org/1.6/modules/generated/sklearn.svm.SVC.html\">?<span>Documentation for SVC</span></a></div></label><div class=\"sk-toggleable__content fitted\"><pre>SVC(C=0.1, kernel=&#x27;linear&#x27;, probability=True, random_state=42)</pre></div> </div></div></div></div></div></div></div></div></div>"
      ]
     },
     "execution_count": 117,
     "metadata": {},
     "output_type": "execute_result"
    }
   ],
   "execution_count": 117
  },
  {
   "cell_type": "markdown",
   "metadata": {
    "id": "fapa63xlP75R"
   },
   "source": [
    "  На тестовой части:\n",
    "  - постройте ROC и PR кривые,\n",
    "  - посчитайте AUC-ROC, AUC-PR с точностью до 5 знаков"
   ]
  },
  {
   "cell_type": "code",
   "metadata": {
    "id": "xTvNT5uRP75S",
    "ExecuteTime": {
     "end_time": "2025-01-30T12:35:47.084713Z",
     "start_time": "2025-01-30T12:35:46.729925Z"
    }
   },
   "source": [
    "y_pred = grid_search.predict(X_test)\n",
    "fig, ax = plt.subplots(1, 2, figsize=(11, 5))\n",
    "\n",
    "PrecisionRecallDisplay.from_predictions(y_test, y_pred, ax=ax[0])\n",
    "precision, recall, _ = precision_recall_curve(y_test, y_pred)\n",
    "print('AUC-PR: %.5f' % auc(recall, precision))\n",
    "ax[0].set_title(\"PRC for Random Classifier\")\n",
    "ax[0].set_ylim(0, 1.1)\n",
    "\n",
    "RocCurveDisplay.from_predictions(y_test, y_pred, ax=ax[1])\n",
    "print('AUC-ROC: %.5f' % roc_auc_score(y_test, y_pred))\n",
    "ax[1].set_title(\"ROC for Random Classifier\")\n",
    "ax[1].set_ylim(0, 1.1)\n",
    "\n",
    "plt.tight_layout()"
   ],
   "outputs": [
    {
     "name": "stdout",
     "output_type": "stream",
     "text": [
      "AUC-PR: 0.83369\n",
      "AUC-ROC: 0.77514\n"
     ]
    },
    {
     "data": {
      "text/plain": [
       "<Figure size 1100x500 with 2 Axes>"
      ],
      "image/png": "[encoded data removed]"
     },
     "metadata": {},
     "output_type": "display_data"
    }
   ],
   "execution_count": 118
  },
  {
   "metadata": {
    "ExecuteTime": {
     "end_time": "2025-01-30T12:35:47.094644Z",
     "start_time": "2025-01-30T12:35:47.085796Z"
    }
   },
   "cell_type": "code",
   "source": [
    "df_metrics.loc['Support Vector Machine (Linear Kernel)'] = [\n",
    "    auc(recall, precision),\n",
    "    roc_auc_score(y_test, y_pred),\n",
    "    None\n",
    "]"
   ],
   "outputs": [],
   "execution_count": 119
  },
  {
   "cell_type": "markdown",
   "metadata": {
    "id": "tEoGp5EDtIzW"
   },
   "source": [
    "Сравните AUC-ROC и AUC-PR для вашей модели с этими же метриками для случайного классификатора."
   ]
  },
  {
   "metadata": {
    "ExecuteTime": {
     "end_time": "2025-01-30T12:35:47.103856Z",
     "start_time": "2025-01-30T12:35:47.095735Z"
    }
   },
   "cell_type": "code",
   "source": "df_metrics",
   "outputs": [
    {
     "data": {
      "text/plain": [
       "                                          AUC_PR   AUC_ROC  reg_const\n",
       "Random Classifier                       0.633402  0.503944        NaN\n",
       "Support Vector Machine (Linear Kernel)  0.833686  0.775138        NaN"
      ],
      "text/html": [
       "<div>\n",
       "<style scoped>\n",
       "    .dataframe tbody tr th:only-of-type {\n",
       "        vertical-align: middle;\n",
       "    }\n",
       "\n",
       "    .dataframe tbody tr th {\n",
       "        vertical-align: top;\n",
       "    }\n",
       "\n",
       "    .dataframe thead th {\n",
       "        text-align: right;\n",
       "    }\n",
       "</style>\n",
       "<table border=\"1\" class=\"dataframe\">\n",
       "  <thead>\n",
       "    <tr style=\"text-align: right;\">\n",
       "      <th></th>\n",
       "      <th>AUC_PR</th>\n",
       "      <th>AUC_ROC</th>\n",
       "      <th>reg_const</th>\n",
       "    </tr>\n",
       "  </thead>\n",
       "  <tbody>\n",
       "    <tr>\n",
       "      <th>Random Classifier</th>\n",
       "      <td>0.633402</td>\n",
       "      <td>0.503944</td>\n",
       "      <td>NaN</td>\n",
       "    </tr>\n",
       "    <tr>\n",
       "      <th>Support Vector Machine (Linear Kernel)</th>\n",
       "      <td>0.833686</td>\n",
       "      <td>0.775138</td>\n",
       "      <td>NaN</td>\n",
       "    </tr>\n",
       "  </tbody>\n",
       "</table>\n",
       "</div>"
      ]
     },
     "execution_count": 120,
     "metadata": {},
     "output_type": "execute_result"
    }
   ],
   "execution_count": 120
  },
  {
   "cell_type": "markdown",
   "metadata": {
    "id": "Ln5VaZE_P75S"
   },
   "source": [
    "__Logistic Regression__\n",
    "\n",
    "Теперь повторите то же самое для логистической регрессии (LR) — обучение, подбор параметра регуляризации (используйте L2-регуляризацию), вычисление метрик и построение кривых ROC и PR."
   ]
  },
  {
   "cell_type": "code",
   "metadata": {
    "id": "r1TlamoBP75S",
    "ExecuteTime": {
     "end_time": "2025-01-30T12:35:47.356809Z",
     "start_time": "2025-01-30T12:35:47.105368Z"
    }
   },
   "source": [
    "#your code herefrom sklearn.metrics import make_scorer\n",
    "import sklearn\n",
    "from sklearn.model_selection import GridSearchCV\n",
    "\n",
    "logreg = sklearn.linear_model.LogisticRegression(penalty=\"l2\")\n",
    "logreg.fit(X_train, y_train)\n",
    "y_pred = logreg.predict(X_test)\n",
    "\n",
    "fig, ax = plt.subplots(1, 2, figsize=(11, 5))\n",
    "\n",
    "PrecisionRecallDisplay.from_predictions(y_test, y_pred, ax=ax[0])\n",
    "precision, recall, _ = precision_recall_curve(y_test, y_pred)\n",
    "print('AUC-PR: %.5f' % auc(recall, precision))\n",
    "ax[0].set_title(\"PRC for Random Classifier\")\n",
    "ax[0].set_ylim(0, 1.1)\n",
    "\n",
    "RocCurveDisplay.from_predictions(y_test, y_pred, ax=ax[1])\n",
    "print('AUC-ROC: %.5f' % roc_auc_score(y_test, y_pred))\n",
    "ax[1].set_title(\"ROC for Random Classifier\")\n",
    "ax[1].set_ylim(0, 1.1)\n",
    "\n",
    "plt.tight_layout()"
   ],
   "outputs": [
    {
     "name": "stdout",
     "output_type": "stream",
     "text": [
      "AUC-PR: 0.83116\n",
      "AUC-ROC: 0.77134\n"
     ]
    },
    {
     "data": {
      "text/plain": [
       "<Figure size 1100x500 with 2 Axes>"
      ],
      "image/png": "[encoded data removed]"
     },
     "metadata": {},
     "output_type": "display_data"
    }
   ],
   "execution_count": 121
  },
  {
   "metadata": {
    "ExecuteTime": {
     "end_time": "2025-01-30T12:35:47.364146Z",
     "start_time": "2025-01-30T12:35:47.356809Z"
    }
   },
   "cell_type": "code",
   "source": [
    "df_metrics.loc['LogisticRegression'] = [\n",
    "    auc(recall, precision),\n",
    "    roc_auc_score(y_test, y_pred),\n",
    "    None\n",
    "]"
   ],
   "outputs": [],
   "execution_count": 122
  },
  {
   "cell_type": "markdown",
   "metadata": {
    "id": "khlorKXtr1Sy"
   },
   "source": [
    "__Микровывод__\n",
    "\n",
    "  Сравните результаты LR и SVM с точки зрения всех вычисленных критериев качества, объясните различия (если они есть).\n",
    "\n",
    "  Ответ: SVM работает намного дольше, но результат дает лучше на десятые процента"
   ]
  },
  {
   "metadata": {
    "ExecuteTime": {
     "end_time": "2025-01-30T12:35:47.371836Z",
     "start_time": "2025-01-30T12:35:47.364146Z"
    }
   },
   "cell_type": "code",
   "source": "df_metrics",
   "outputs": [
    {
     "data": {
      "text/plain": [
       "                                          AUC_PR   AUC_ROC  reg_const\n",
       "Random Classifier                       0.633402  0.503944        NaN\n",
       "Support Vector Machine (Linear Kernel)  0.833686  0.775138        NaN\n",
       "LogisticRegression                      0.831157  0.771342        NaN"
      ],
      "text/html": [
       "<div>\n",
       "<style scoped>\n",
       "    .dataframe tbody tr th:only-of-type {\n",
       "        vertical-align: middle;\n",
       "    }\n",
       "\n",
       "    .dataframe tbody tr th {\n",
       "        vertical-align: top;\n",
       "    }\n",
       "\n",
       "    .dataframe thead th {\n",
       "        text-align: right;\n",
       "    }\n",
       "</style>\n",
       "<table border=\"1\" class=\"dataframe\">\n",
       "  <thead>\n",
       "    <tr style=\"text-align: right;\">\n",
       "      <th></th>\n",
       "      <th>AUC_PR</th>\n",
       "      <th>AUC_ROC</th>\n",
       "      <th>reg_const</th>\n",
       "    </tr>\n",
       "  </thead>\n",
       "  <tbody>\n",
       "    <tr>\n",
       "      <th>Random Classifier</th>\n",
       "      <td>0.633402</td>\n",
       "      <td>0.503944</td>\n",
       "      <td>NaN</td>\n",
       "    </tr>\n",
       "    <tr>\n",
       "      <th>Support Vector Machine (Linear Kernel)</th>\n",
       "      <td>0.833686</td>\n",
       "      <td>0.775138</td>\n",
       "      <td>NaN</td>\n",
       "    </tr>\n",
       "    <tr>\n",
       "      <th>LogisticRegression</th>\n",
       "      <td>0.831157</td>\n",
       "      <td>0.771342</td>\n",
       "      <td>NaN</td>\n",
       "    </tr>\n",
       "  </tbody>\n",
       "</table>\n",
       "</div>"
      ]
     },
     "execution_count": 123,
     "metadata": {},
     "output_type": "execute_result"
    }
   ],
   "execution_count": 123
  },
  {
   "cell_type": "markdown",
   "metadata": {
    "id": "RvWzOe4wP75T"
   },
   "source": [
    "#### __Задание 1.2. Визуализация в подходах SVM, LR__ (0.5 балла)\n",
    "\n",
    "В названии метода опорных векторов присутствуют некоторые \"опорные векторы\". По сути, это объекты из обучающей выборки, которые задали положение разделяющей гиперплоскости.\n",
    "\n",
    "1) Сгенерируйте синтетические данные с помощью `make_classification` __с 2 признаками__, обучите на нём метод опорных векторов. В этот раз воспользуйтесь `SVC(kernel='linear')`, так как только в нём есть информация об опорных векторах, а в `LinearSVC` нет.\n",
    "\n",
    "2) Визуализируйте разделяющую прямую, все объекты и выделите опорные векторы (атрибут `support_vectors_`). "
   ]
  },
  {
   "cell_type": "code",
   "metadata": {
    "id": "baqu-QMCP75T",
    "ExecuteTime": {
     "end_time": "2025-01-30T12:35:47.444139Z",
     "start_time": "2025-01-30T12:35:47.371836Z"
    }
   },
   "source": [
    "X, y = make_classification(\n",
    "    n_samples=200, n_features=2, n_informative=2, n_redundant=0, random_state=42)\n",
    "\n",
    "X_train, X_test, y_train, y_test = train_test_split(X, y, test_size=0.3, random_state=42)\n",
    "\n",
    "svm = sklearn.svm.SVC(kernel='linear', probability=True, random_state=42)\n",
    "param_grid = {'C': [0.01, 0.1, 1, 10]}\n",
    "grid_search = GridSearchCV(svm, param_grid, scoring=make_scorer(average_precision_score), cv=5)\n",
    "grid_search.fit(X_train, y_train)\n",
    "svm = grid_search.best_estimator_\n",
    "support_vectors = svm.support_vectors_"
   ],
   "outputs": [],
   "execution_count": 124
  },
  {
   "metadata": {
    "ExecuteTime": {
     "end_time": "2025-01-30T12:35:47.608159Z",
     "start_time": "2025-01-30T12:35:47.445651Z"
    }
   },
   "cell_type": "code",
   "source": [
    "plt.figure(figsize=(8, 6))\n",
    "\n",
    "# Plot training data with different colors for each class\n",
    "scatter = plt.scatter(X_train[:, 0], X_train[:, 1], c=y_train, cmap=plt.cm.RdYlBu, label=\"Training Data\")\n",
    "plt.scatter(support_vectors[:,0], support_vectors[:,1], facecolors='none', color='black', label=\"Support Vectors\", s = 100, marker='o')\n",
    "plt.title('Linearly Separable Data with Support Vectors')\n",
    "plt.xlabel('X1')\n",
    "plt.ylabel('X2')\n",
    "plt.legend()\n",
    "plt.show()"
   ],
   "outputs": [
    {
     "data": {
      "text/plain": [
       "<Figure size 800x600 with 1 Axes>"
      ],
      "image/png": "[encoded data removed]"
     },
     "metadata": {},
     "output_type": "display_data"
    }
   ],
   "execution_count": 125
  },
  {
   "cell_type": "markdown",
   "metadata": {
    "id": "gfpVN70PP75U"
   },
   "source": [
    "В отличие от метода опорных векторов, логистическая регрессия не пытается построить разделяющую гиперплоскость с максимальным отступом, а приближает в каждой точке пространства объектов вероятность положительных ответов $p(y=+1|x)$. Попробуйте нарисовать это распределение на плоскости, не забудьте отметить на ней все объекты. Вам может помочь функция `plt.pcolor` ([matplotlib demo](https://matplotlib.org/3.1.1/gallery/images_contours_and_fields/pcolor_demo.html#sphx-glr-gallery-images-contours-and-fields-pcolor-demo-py))."
   ]
  },
  {
   "cell_type": "code",
   "metadata": {
    "id": "XJvU2RKDP75U",
    "ExecuteTime": {
     "end_time": "2025-01-30T12:35:48.501268Z",
     "start_time": "2025-01-30T12:35:47.608159Z"
    }
   },
   "source": [
    "logistic_regression = sklearn.linear_model.LogisticRegression(random_state=42)\n",
    "logistic_regression.fit(X_train, y_train)\n",
    "x_min, x_max = X[:, 0].min() - 1, X[:, 0].max() + 1\n",
    "y_min, y_max = X[:, 1].min() - 1, X[:, 1].max() + 1\n",
    "xx, yy = np.meshgrid(np.linspace(x_min, x_max, 200),\n",
    "                     np.linspace(y_min, y_max, 200))\n",
    "\n",
    "# Predict probabilities for the grid\n",
    "Z = logistic_regression.predict_proba(np.c_[xx.ravel(), yy.ravel()])[:, 1]  # Probability of class 1\n",
    "Z = Z.reshape(xx.shape)\n",
    "\n",
    "# Plotting\n",
    "plt.figure(figsize=(8, 6))\n",
    "\n",
    "# Plot probability distribution using pcolor\n",
    "plt.pcolormesh(xx, yy, Z, cmap=plt.cm.RdBu, shading='auto', alpha=0.8)\n",
    "\n",
    "# Plot all data points\n",
    "plt.scatter(X[:, 0], X[:, 1], c=y, cmap=plt.cm.RdBu, edgecolors='k', label=\"Data Points\")\n",
    "\n",
    "plt.title('Logistic Regression Probability Distribution')\n",
    "plt.xlabel('X1')\n",
    "plt.ylabel('X2')\n",
    "plt.colorbar(label='Probability of Class 1')\n",
    "plt.legend()\n",
    "plt.show()"
   ],
   "outputs": [
    {
     "data": {
      "text/plain": [
       "<Figure size 800x600 with 2 Axes>"
      ],
      "image/png": "[encoded data removed]"
     },
     "metadata": {},
     "output_type": "display_data"
    }
   ],
   "execution_count": 126
  },
  {
   "cell_type": "markdown",
   "metadata": {
    "id": "4VbJR0e3P75U"
   },
   "source": [
    "#### __Задание 2. Калибровка вероятностей__ (1 балл)\n",
    "\n",
    "Перейдём к оценке качества выдаваемых алгоритмами вероятностей. Начнём с калибровочных кривых. \n",
    "\n",
    "Допустим, алгоритм возвращает некоторые числа от нуля до единицы. Хорошо ли они оценивают вероятность? Для этого разобьем отрезок $[0, 1]$ на несколько маленьких отрезков одинаковой длины.\n",
    "\n",
    "Рассмотрим $i$-й отрезок с границами $[a_i, b_i]$ и предсказания $p_1, p_2, \\dots, p_k$, которые попали в него. Пусть им соответствуют истинные ответы $y_1, y_2, \\dots, y_k$. Если алгоритм выдает корректные вероятности, то среди этих истинных ответов должно быть примерно $(a_i + b_i) / 2$ единиц. Иными словами, если нарисовать кривую, у которой по оси X отложены центры отрезков, а по оси Y — доли единичных ответов этих в отрезках, то она должна оказаться диагональной.\n",
    "\n",
    "Ниже приведена функция, которая должна рисовать такие кривые. В ней допущено две ошибки — найдите и исправьте их."
   ]
  },
  {
   "metadata": {
    "ExecuteTime": {
     "end_time": "2025-01-30T12:36:15.066947Z",
     "start_time": "2025-01-30T12:36:15.055411Z"
    }
   },
   "cell_type": "code",
   "source": "",
   "outputs": [],
   "execution_count": 127
  },
  {
   "cell_type": "code",
   "metadata": {
    "id": "R75uefZuP75V",
    "ExecuteTime": {
     "end_time": "2025-01-30T12:36:15.543977Z",
     "start_time": "2025-01-30T12:36:15.537232Z"
    }
   },
   "source": [
    "def plot_calibration_curve(y_test, preds):\n",
    "    bin_middle_points = []\n",
    "    bin_real_ratios = []\n",
    "    n_bins = 10\n",
    "    for i in range(n_bins):\n",
    "        l = 1.0 / n_bins * i\n",
    "        r = 1.0 / n_bins * (i + 1)\n",
    "        bin_middle_points.append((r + l) / 2.0) \n",
    "        # print((preds >= l) & (preds < r), y_test[(preds >= l) & (preds < r)] == 1)\n",
    "        # bin_real_ratios.append(np.mean(y_test[(preds >= l) & (preds < r)] == 1)) \n",
    "        count_ = 0\n",
    "        sum = 0\n",
    "        for j in range(len(preds)):\n",
    "            if (l <= preds[j] <= r):\n",
    "                count_ += 1\n",
    "                sum += y_test[j]\n",
    "        bin_real_ratios.append(sum / count_)\n",
    "        print(bin_middle_points[-1], bin_real_ratios[-1])\n",
    "    plt.figure(figsize=(6,6))\n",
    "    plt.plot(bin_middle_points, bin_real_ratios)\n",
    "    plt.ylim([-0.05, 1.05])\n",
    "    plt.grid()"
   ],
   "outputs": [],
   "execution_count": 128
  },
  {
   "cell_type": "markdown",
   "metadata": {
    "id": "AvYjnnxSP75V"
   },
   "source": [
    "Сгенерируйте синтетические данные аналогично использованным в самом первом задании. Постройте калибровочные кривые на тестовой части для логистической регрессии и метода опорных векторов (не забудьте перевести его предсказания в $[0;1]$)."
   ]
  },
  {
   "cell_type": "code",
   "metadata": {
    "id": "ZTBMyfx4P75W",
    "ExecuteTime": {
     "end_time": "2025-01-30T12:38:13.585366Z",
     "start_time": "2025-01-30T12:36:16.179485Z"
    }
   },
   "source": [
    "import sklearn\n",
    "from sklearn.metrics import make_scorer\n",
    "from sklearn.model_selection import GridSearchCV\n",
    "X, y = make_classification(\n",
    "    n_samples=10000, n_features=10, n_informative=5, n_redundant=5, random_state=42)\n",
    "\n",
    "X_train, X_test, y_train, y_test = train_test_split(X, y, test_size=0.3, random_state=42)\n",
    "\n",
    "#SVM\n",
    "\n",
    "svm = sklearn.svm.SVC(kernel='linear', probability=True, random_state=42)\n",
    "param_grid = {'C': [0.01, 0.1, 1, 10]}\n",
    "grid_search = GridSearchCV(svm, param_grid, scoring=make_scorer(average_precision_score), cv=5)\n",
    "grid_search.fit(X_train, y_train)\n",
    "y_pred_svm = grid_search.predict_proba(X_test)\n",
    "\n",
    "#LogisticRegression\n",
    "\n",
    "logreg = sklearn.linear_model.LogisticRegression(penalty=\"l2\")\n",
    "logreg.fit(X_train, y_train)\n",
    "y_pred_lr = logreg.predict_proba(X_test)\n",
    "\n",
    "\n",
    "\n"
   ],
   "outputs": [],
   "execution_count": 129
  },
  {
   "metadata": {
    "ExecuteTime": {
     "end_time": "2025-01-30T12:38:13.669828Z",
     "start_time": "2025-01-30T12:38:13.585366Z"
    }
   },
   "cell_type": "code",
   "source": "plot_calibration_curve(y_test, y_pred_svm[:, 1])",
   "outputs": [
    {
     "name": "stdout",
     "output_type": "stream",
     "text": [
      "0.05 0.022222222222222223\n",
      "0.15000000000000002 0.15064102564102563\n",
      "0.25 0.25\n",
      "0.35000000000000003 0.29225352112676056\n",
      "0.45 0.5335968379446641\n",
      "0.55 0.5629370629370629\n",
      "0.6500000000000001 0.7192307692307692\n",
      "0.75 0.8170347003154574\n",
      "0.8500000000000001 0.8394366197183099\n",
      "0.95 0.8836477987421384\n"
     ]
    },
    {
     "data": {
      "text/plain": [
       "<Figure size 600x600 with 1 Axes>"
      ],
      "image/png": "[encoded data removed]"
     },
     "metadata": {},
     "output_type": "display_data"
    }
   ],
   "execution_count": 130
  },
  {
   "metadata": {
    "ExecuteTime": {
     "end_time": "2025-01-30T12:38:13.755151Z",
     "start_time": "2025-01-30T12:38:13.669828Z"
    }
   },
   "cell_type": "code",
   "source": "plot_calibration_curve(y_test, y_pred_lr[:, 1])",
   "outputs": [
    {
     "name": "stdout",
     "output_type": "stream",
     "text": [
      "0.05 0.03814713896457766\n",
      "0.15000000000000002 0.15335463258785942\n",
      "0.25 0.2765957446808511\n",
      "0.35000000000000003 0.2992957746478873\n",
      "0.45 0.4979757085020243\n",
      "0.55 0.5762081784386617\n",
      "0.6500000000000001 0.680161943319838\n",
      "0.75 0.8129251700680272\n",
      "0.8500000000000001 0.8376068376068376\n",
      "0.95 0.9046242774566474\n"
     ]
    },
    {
     "data": {
      "text/plain": [
       "<Figure size 600x600 with 1 Axes>"
      ],
      "image/png": "[encoded data removed]"
     },
     "metadata": {},
     "output_type": "display_data"
    }
   ],
   "execution_count": 131
  },
  {
   "cell_type": "markdown",
   "metadata": {
    "id": "8zwmGLkyIBxU"
   },
   "source": [
    "Изучите распределение ответов классификаторов (постройте гистограммы с помощью `plt.hist`)."
   ]
  },
  {
   "cell_type": "code",
   "metadata": {
    "id": "IaDLxkpxIDVV",
    "ExecuteTime": {
     "end_time": "2025-01-30T12:38:13.856795Z",
     "start_time": "2025-01-30T12:38:13.755151Z"
    }
   },
   "source": "plt.hist(y_pred_svm[:, 1])",
   "outputs": [
    {
     "data": {
      "text/plain": [
       "(array([365., 310., 277., 283., 229., 280., 258., 315., 348., 335.]),\n",
       " array([0.00205649, 0.10136511, 0.20067373, 0.29998234, 0.39929096,\n",
       "        0.49859958, 0.5979082 , 0.69721682, 0.79652544, 0.89583405,\n",
       "        0.99514267]),\n",
       " <BarContainer object of 10 artists>)"
      ]
     },
     "execution_count": 132,
     "metadata": {},
     "output_type": "execute_result"
    },
    {
     "data": {
      "text/plain": [
       "<Figure size 640x480 with 1 Axes>"
      ],
      "image/png": "[encoded data removed]"
     },
     "metadata": {},
     "output_type": "display_data"
    }
   ],
   "execution_count": 132
  },
  {
   "metadata": {
    "ExecuteTime": {
     "end_time": "2025-01-30T12:38:13.949726Z",
     "start_time": "2025-01-30T12:38:13.856795Z"
    }
   },
   "cell_type": "code",
   "source": "plt.hist(y_pred_lr[:, 1])",
   "outputs": [
    {
     "data": {
      "text/plain": [
       "(array([374., 310., 279., 283., 245., 271., 242., 292., 356., 348.]),\n",
       " array([0.00219565, 0.10165857, 0.20112148, 0.3005844 , 0.40004731,\n",
       "        0.49951023, 0.59897315, 0.69843606, 0.79789898, 0.89736189,\n",
       "        0.99682481]),\n",
       " <BarContainer object of 10 artists>)"
      ]
     },
     "execution_count": 133,
     "metadata": {},
     "output_type": "execute_result"
    },
    {
     "data": {
      "text/plain": [
       "<Figure size 640x480 with 1 Axes>"
      ],
      "image/png": "[encoded data removed]"
     },
     "metadata": {},
     "output_type": "display_data"
    }
   ],
   "execution_count": 133
  },
  {
   "cell_type": "markdown",
   "metadata": {
    "id": "KH3u2pVNEYmJ"
   },
   "source": [
    "\n",
    "Чем они различаются? Чем вы можете объяснить это?\n",
    "\n",
    "Ответ: # your answer here"
   ]
  },
  {
   "cell_type": "code",
   "metadata": {
    "id": "3LMThl6TEYBg",
    "ExecuteTime": {
     "end_time": "2025-01-30T12:38:48.399887Z",
     "start_time": "2025-01-30T12:38:13.949726Z"
    }
   },
   "source": [
    "from sklearn.calibration import CalibratedClassifierCV\n",
    "\n",
    "vm = sklearn.svm.SVC(kernel='linear', probability = False)\n",
    "\n",
    "# Create a CalibratedClassifierCV with cross-validation\n",
    "calibrated_svm = CalibratedClassifierCV(svm, method='sigmoid', cv=5) #or method='sigmoid'\n",
    "\n",
    "# Train the calibrated model on the training data\n",
    "calibrated_svm.fit(X_train, y_train)\n",
    "\n",
    "# Predict probabilities for the test data\n",
    "probabilities = calibrated_svm.predict_proba(X_test)"
   ],
   "outputs": [],
   "execution_count": 134
  },
  {
   "metadata": {
    "ExecuteTime": {
     "end_time": "2025-01-30T12:38:48.551923Z",
     "start_time": "2025-01-30T12:38:48.401898Z"
    }
   },
   "cell_type": "code",
   "source": "plot_calibration_curve(y_test, probabilities[:, 1])",
   "outputs": [
    {
     "name": "stdout",
     "output_type": "stream",
     "text": [
      "0.05 0.022284122562674095\n",
      "0.15000000000000002 0.14838709677419354\n",
      "0.25 0.24822695035460993\n",
      "0.35000000000000003 0.2937062937062937\n",
      "0.45 0.542016806722689\n",
      "0.55 0.5678571428571428\n",
      "0.6500000000000001 0.7310606060606061\n",
      "0.75 0.8102893890675241\n",
      "0.8500000000000001 0.8398876404494382\n",
      "0.95 0.8821656050955414\n"
     ]
    },
    {
     "data": {
      "text/plain": [
       "<Figure size 600x600 with 1 Axes>"
      ],
      "image/png": "[encoded data removed]"
     },
     "metadata": {},
     "output_type": "display_data"
    }
   ],
   "execution_count": 135
  },
  {
   "cell_type": "markdown",
   "metadata": {
    "id": "M9-6ClfaP75W"
   },
   "source": [
    "Воспользуйтесь `CalibratedClassifierCV` из `sklearn` для калибровки вероятностей метода опорных векторов на обучении и постройте с его помощью предсказания для тестовой выборки. Нарисуйте для них калибровочную кривую. Улучшилась ли она?"
   ]
  },
  {
   "metadata": {
    "ExecuteTime": {
     "end_time": "2025-01-30T12:38:48.639118Z",
     "start_time": "2025-01-30T12:38:48.552931Z"
    }
   },
   "cell_type": "code",
   "source": [
    "from sklearn.calibration import CalibratedClassifierCV\n",
    "\n",
    "lr = sklearn.linear_model.LogisticRegression(penalty = 'l2')\n",
    "\n",
    "# Create a CalibratedClassifierCV with cross-validation\n",
    "calibrated_lr = CalibratedClassifierCV(lr, method='sigmoid', cv=5) #or method='sigmoid'\n",
    "\n",
    "# Train the calibrated model on the training data\n",
    "calibrated_lr.fit(X_train, y_train)\n",
    "\n",
    "# Predict probabilities for the test data\n",
    "probabilities = calibrated_lr.predict_proba(X_test)"
   ],
   "outputs": [],
   "execution_count": 136
  },
  {
   "cell_type": "code",
   "metadata": {
    "id": "RR3pVlSNP75W",
    "ExecuteTime": {
     "end_time": "2025-01-30T12:38:48.787537Z",
     "start_time": "2025-01-30T12:38:48.641127Z"
    }
   },
   "source": "plot_calibration_curve(y_test, probabilities[:, 1])",
   "outputs": [
    {
     "name": "stdout",
     "output_type": "stream",
     "text": [
      "0.05 0.03856749311294766\n",
      "0.15000000000000002 0.15384615384615385\n",
      "0.25 0.27402135231316727\n",
      "0.35000000000000003 0.29432624113475175\n",
      "0.45 0.49411764705882355\n",
      "0.55 0.5735294117647058\n",
      "0.6500000000000001 0.6867469879518072\n",
      "0.75 0.8141891891891891\n",
      "0.8500000000000001 0.8409090909090909\n",
      "0.95 0.9023668639053254\n"
     ]
    },
    {
     "data": {
      "text/plain": [
       "<Figure size 600x600 with 1 Axes>"
      ],
      "image/png": "[encoded data removed]"
     },
     "metadata": {},
     "output_type": "display_data"
    }
   ],
   "execution_count": 137
  },
  {
   "cell_type": "markdown",
   "metadata": {
    "id": "p2dpbXgoP75X"
   },
   "source": [
    "##### __Бонус: Авторское решение__ (0.5 балла)\n",
    "\n",
    "Реализуйте свою функцию для калибровки вероятностей, используя любой из известных подходов. Кратко опишите ваш подход и продемонстрируйте результаты. Ключевые слова для вдохновения: `Platt`, `Isotonic`."
   ]
  },
  {
   "cell_type": "code",
   "metadata": {
    "id": "R8mtQgBJP75X",
    "ExecuteTime": {
     "end_time": "2025-01-30T12:38:48.794240Z",
     "start_time": "2025-01-30T12:38:48.788545Z"
    }
   },
   "source": [
    "#your code here"
   ],
   "outputs": [],
   "execution_count": 138
  },
  {
   "cell_type": "markdown",
   "metadata": {
    "id": "FaOVU4vJP75X"
   },
   "source": [
    "# Часть 2. Обработка категориальных переменных"
   ]
  },
  {
   "cell_type": "markdown",
   "metadata": {
    "id": "8KQ9ywUEP75X"
   },
   "source": [
    "Как мы знаем, перекодировать категориальную переменную в список чисел (к примеру 1, 2, 3, ..., n) плохо, поскольку это бы задало на множестве ее значений некоторый порядок, не имеющий смысла. \n",
    "\n",
    "В этой части мы рассмотрим два основных способа обработки категориальных значений:\n",
    "- One-hot-кодирование\n",
    "- Счётчики (CTR, mean-target кодирование, ...) — каждый категориальный признак заменяется на среднее значение целевой переменной по всем объектам, имеющим одинаковое значение в этом признаке.\n",
    "\n",
    "Начнём с one-hot-кодирования. Допустим наш категориальный признак $f_j(x)$ принимает значения из множества $C=\\{c_1, \\dots, c_m\\}$. Заменим его на $m$ бинарных признаков $b_1(x), \\dots, b_m(x)$, каждый из которых является индикатором одного из возможных категориальных значений:\n",
    "$$\n",
    "b_i(x) = [f_j(x) = c_i]\n",
    "$$"
   ]
  },
  {
   "cell_type": "markdown",
   "metadata": {
    "id": "pPsScraBP75Y"
   },
   "source": [
    "#### __Подготовка данных__\n",
    "\n",
    "(бесценный шаг)\n",
    "\n",
    "Загрузим данные [UCI Adult Dataset](https://archive.ics.uci.edu/ml/datasets/Adult). Этот набор данных содержит информацию о годовых доходах отдельных людей. В качестве признакового описания используется различная информация о человеке (образование, профессия, брачный статус и т.д.). Целевая переменная является бинарной: больше ли годовой доход 50K долларов или нет. "
   ]
  },
  {
   "metadata": {
    "ExecuteTime": {
     "end_time": "2025-02-02T15:30:18.862865Z",
     "start_time": "2025-02-02T15:30:18.858493Z"
    }
   },
   "cell_type": "code",
   "source": [
    "def get_df():\n",
    "    df = pd.read_csv(r\"https://archive.ics.uci.edu/ml/machine-learning-databases/adult/adult.data\")\n",
    "    df.columns = ['age', 'workclass', 'fnlwgt', 'education',\n",
    "                  'education-num', 'marital-status', 'occupation',\n",
    "                  'relationship', 'race', 'sex', 'capital-gain',\n",
    "                  'capital-loss', 'hours-per-week', 'native-country',\n",
    "                  'income']\n",
    "    df.loc[len(df)] = new_row\n",
    "    df['income'] = (df['income'] != \" <=50K\").astype('int32')\n",
    "    df['sex'] = df['sex'] == \" Male\"\n",
    "    return df"
   ],
   "outputs": [],
   "execution_count": 380
  },
  {
   "cell_type": "code",
   "metadata": {
    "id": "KqM6MJHCWRAg",
    "ExecuteTime": {
     "end_time": "2025-01-30T21:12:38.357747Z",
     "start_time": "2025-01-30T21:11:55.733462Z"
    }
   },
   "source": [
    "\n",
    "df = pd.read_csv(r\"https://archive.ics.uci.edu/ml/machine-learning-databases/adult/adult.data\")"
   ],
   "outputs": [],
   "execution_count": 251
  },
  {
   "metadata": {
    "ExecuteTime": {
     "end_time": "2025-01-30T21:12:38.364475Z",
     "start_time": "2025-01-30T21:12:38.357747Z"
    }
   },
   "cell_type": "code",
   "source": "new_row = df.columns",
   "outputs": [],
   "execution_count": 252
  },
  {
   "cell_type": "code",
   "metadata": {
    "id": "U7l7U7xTWO8l",
    "ExecuteTime": {
     "end_time": "2025-02-02T15:30:09.986087Z",
     "start_time": "2025-02-02T15:30:09.943567Z"
    }
   },
   "source": [
    "columns = ['age', 'workclass', 'fnlwgt', 'education', \n",
    "           'education-num', 'marital-status', 'occupation',\n",
    "           'relationship', 'race', 'sex', 'capital-gain', \n",
    "           'capital-loss', 'hours-per-week', 'native-country',\n",
    "           'income']\n",
    "df.columns = columns\n",
    "df.loc[len(df)] = new_row\n",
    "df['income'] = (df['income'] != \" <=50K\").astype('int32')\n",
    "df['sex'] = df['sex'] == \" Male\""
   ],
   "outputs": [],
   "execution_count": 379
  },
  {
   "metadata": {
    "ExecuteTime": {
     "end_time": "2025-01-30T21:12:38.393441Z",
     "start_time": "2025-01-30T21:12:38.387474Z"
    }
   },
   "cell_type": "code",
   "source": "len(df.columns), len(categorical) + len(binary) + len(numeric_features)",
   "outputs": [
    {
     "data": {
      "text/plain": [
       "(15, 15)"
      ]
     },
     "execution_count": 254,
     "metadata": {},
     "output_type": "execute_result"
    }
   ],
   "execution_count": 254
  },
  {
   "metadata": {
    "ExecuteTime": {
     "end_time": "2025-02-02T11:24:32.204979Z",
     "start_time": "2025-02-02T11:24:32.127292Z"
    }
   },
   "cell_type": "code",
   "source": "df.columns",
   "outputs": [
    {
     "data": {
      "text/plain": [
       "Index(['age', 'workclass', 'fnlwgt', 'education', 'education-num',\n",
       "       'marital-status', 'occupation', 'relationship', 'race', 'sex',\n",
       "       'capital-gain', 'capital-loss', 'hours-per-week', 'native-country',\n",
       "       'income'],\n",
       "      dtype='object')"
      ]
     },
     "execution_count": 282,
     "metadata": {},
     "output_type": "execute_result"
    }
   ],
   "execution_count": 282
  },
  {
   "cell_type": "code",
   "metadata": {
    "id": "zvNOSMmf32Q8",
    "ExecuteTime": {
     "end_time": "2025-01-30T21:12:38.414488Z",
     "start_time": "2025-01-30T21:12:38.404516Z"
    }
   },
   "source": [
    "X = df.drop('income', axis=1)\n",
    "y = df['income']\n",
    "\n",
    "categorical = ['workclass', 'education', 'marital-status', 'occupation', 'relationship', 'race', 'native-country', 'sex']\n",
    "numeric_features = ['age', 'fnlwgt', 'education-num', 'capital-gain', 'capital-loss', 'hours-per-week']"
   ],
   "outputs": [],
   "execution_count": 256
  },
  {
   "cell_type": "markdown",
   "metadata": {
    "id": "VaiObso6IEfd"
   },
   "source": [
    "Разделите выборку на обучающую и тестовую в соотношении 3:1. Зафиксируйте `random_state=777`, также используйте `stratify`. "
   ]
  },
  {
   "cell_type": "code",
   "metadata": {
    "id": "QIYErZMnP75Z",
    "ExecuteTime": {
     "end_time": "2025-01-30T13:19:20.044541Z",
     "start_time": "2025-01-30T13:19:20.028925Z"
    }
   },
   "source": "X_train, X_test, y_train, y_test = train_test_split(X, y, test_size=0.25, random_state=777, stratify=y)",
   "outputs": [],
   "execution_count": 187
  },
  {
   "cell_type": "markdown",
   "metadata": {
    "id": "m5LjHkuCP75Z"
   },
   "source": [
    "\n",
    "#### __Задание 3. OrdinalEncoder__  (0.5 балла)\n",
    "\n",
    "Закодируйте категориальные признаки с помощью `OrdinalEncoder`, а числовые признаки нормализуйте с помощью `StandardScaler`. Посчитайте качество (в этом задании будем работать c __`AUC-PR`__) при применении логистической регрессии. Замерьте время, потребовавшееся на обучение модели, с учетом кодирования признаков."
   ]
  },
  {
   "cell_type": "code",
   "metadata": {
    "id": "bdZT2tXXP75a",
    "ExecuteTime": {
     "end_time": "2025-01-30T13:44:06.809179Z",
     "start_time": "2025-01-30T13:44:06.805431Z"
    }
   },
   "source": [
    "from sklearn.preprocessing import OrdinalEncoder\n",
    "from sklearn.compose import ColumnTransformer\n",
    "from sklearn.pipeline import Pipeline\n",
    "from sklearn.preprocessing import StandardScaler\n",
    "\n",
    "\n",
    "column_transformer = ColumnTransformer([\n",
    "    ('ore', OrdinalEncoder(), categorical),\n",
    "    ('scaling', StandardScaler(), numeric_features),\n",
    "])\n",
    "\n",
    "pipeline = Pipeline([\n",
    "    (\"preprocessor\", column_transformer),\n",
    "    (\"regression\", sklearn.linear_model.LogisticRegression(penalty = 'l2'))\n",
    "])"
   ],
   "outputs": [],
   "execution_count": 203
  },
  {
   "metadata": {
    "ExecuteTime": {
     "end_time": "2025-01-30T13:44:07.145975Z",
     "start_time": "2025-01-30T13:44:07.130221Z"
    }
   },
   "cell_type": "code",
   "source": "pipeline",
   "outputs": [
    {
     "data": {
      "text/plain": [
       "Pipeline(steps=[('preprocessor',\n",
       "                 ColumnTransformer(transformers=[('ore', OrdinalEncoder(),\n",
       "                                                  ['workclass', 'education',\n",
       "                                                   'marital-status',\n",
       "                                                   'occupation', 'relationship',\n",
       "                                                   'race', 'native-country',\n",
       "                                                   'sex']),\n",
       "                                                 ('scaling', StandardScaler(),\n",
       "                                                  ['age', 'fnlwgt',\n",
       "                                                   'education-num',\n",
       "                                                   'capital-gain',\n",
       "                                                   'capital-loss',\n",
       "                                                   'hours-per-week'])])),\n",
       "                ('regression', LogisticRegression())])"
      ],
      "text/html": [
       "<style>#sk-container-id-5 {\n",
       "  /* Definition of color scheme common for light and dark mode */\n",
       "  --sklearn-color-text: #000;\n",
       "  --sklearn-color-text-muted: #666;\n",
       "  --sklearn-color-line: gray;\n",
       "  /* Definition of color scheme for unfitted estimators */\n",
       "  --sklearn-color-unfitted-level-0: #fff5e6;\n",
       "  --sklearn-color-unfitted-level-1: #f6e4d2;\n",
       "  --sklearn-color-unfitted-level-2: #ffe0b3;\n",
       "  --sklearn-color-unfitted-level-3: chocolate;\n",
       "  /* Definition of color scheme for fitted estimators */\n",
       "  --sklearn-color-fitted-level-0: #f0f8ff;\n",
       "  --sklearn-color-fitted-level-1: #d4ebff;\n",
       "  --sklearn-color-fitted-level-2: #b3dbfd;\n",
       "  --sklearn-color-fitted-level-3: cornflowerblue;\n",
       "\n",
       "  /* Specific color for light theme */\n",
       "  --sklearn-color-text-on-default-background: var(--sg-text-color, var(--theme-code-foreground, var(--jp-content-font-color1, black)));\n",
       "  --sklearn-color-background: var(--sg-background-color, var(--theme-background, var(--jp-layout-color0, white)));\n",
       "  --sklearn-color-border-box: var(--sg-text-color, var(--theme-code-foreground, var(--jp-content-font-color1, black)));\n",
       "  --sklearn-color-icon: #696969;\n",
       "\n",
       "  @media (prefers-color-scheme: dark) {\n",
       "    /* Redefinition of color scheme for dark theme */\n",
       "    --sklearn-color-text-on-default-background: var(--sg-text-color, var(--theme-code-foreground, var(--jp-content-font-color1, white)));\n",
       "    --sklearn-color-background: var(--sg-background-color, var(--theme-background, var(--jp-layout-color0, #111)));\n",
       "    --sklearn-color-border-box: var(--sg-text-color, var(--theme-code-foreground, var(--jp-content-font-color1, white)));\n",
       "    --sklearn-color-icon: #878787;\n",
       "  }\n",
       "}\n",
       "\n",
       "#sk-container-id-5 {\n",
       "  color: var(--sklearn-color-text);\n",
       "}\n",
       "\n",
       "#sk-container-id-5 pre {\n",
       "  padding: 0;\n",
       "}\n",
       "\n",
       "#sk-container-id-5 input.sk-hidden--visually {\n",
       "  border: 0;\n",
       "  clip: rect(1px 1px 1px 1px);\n",
       "  clip: rect(1px, 1px, 1px, 1px);\n",
       "  height: 1px;\n",
       "  margin: -1px;\n",
       "  overflow: hidden;\n",
       "  padding: 0;\n",
       "  position: absolute;\n",
       "  width: 1px;\n",
       "}\n",
       "\n",
       "#sk-container-id-5 div.sk-dashed-wrapped {\n",
       "  border: 1px dashed var(--sklearn-color-line);\n",
       "  margin: 0 0.4em 0.5em 0.4em;\n",
       "  box-sizing: border-box;\n",
       "  padding-bottom: 0.4em;\n",
       "  background-color: var(--sklearn-color-background);\n",
       "}\n",
       "\n",
       "#sk-container-id-5 div.sk-container {\n",
       "  /* jupyter's `normalize.less` sets `[hidden] { display: none; }`\n",
       "     but bootstrap.min.css set `[hidden] { display: none !important; }`\n",
       "     so we also need the `!important` here to be able to override the\n",
       "     default hidden behavior on the sphinx rendered scikit-learn.org.\n",
       "     See: https://github.com/scikit-learn/scikit-learn/issues/21755 */\n",
       "  display: inline-block !important;\n",
       "  position: relative;\n",
       "}\n",
       "\n",
       "#sk-container-id-5 div.sk-text-repr-fallback {\n",
       "  display: none;\n",
       "}\n",
       "\n",
       "div.sk-parallel-item,\n",
       "div.sk-serial,\n",
       "div.sk-item {\n",
       "  /* draw centered vertical line to link estimators */\n",
       "  background-image: linear-gradient(var(--sklearn-color-text-on-default-background), var(--sklearn-color-text-on-default-background));\n",
       "  background-size: 2px 100%;\n",
       "  background-repeat: no-repeat;\n",
       "  background-position: center center;\n",
       "}\n",
       "\n",
       "/* Parallel-specific style estimator block */\n",
       "\n",
       "#sk-container-id-5 div.sk-parallel-item::after {\n",
       "  content: \"\";\n",
       "  width: 100%;\n",
       "  border-bottom: 2px solid var(--sklearn-color-text-on-default-background);\n",
       "  flex-grow: 1;\n",
       "}\n",
       "\n",
       "#sk-container-id-5 div.sk-parallel {\n",
       "  display: flex;\n",
       "  align-items: stretch;\n",
       "  justify-content: center;\n",
       "  background-color: var(--sklearn-color-background);\n",
       "  position: relative;\n",
       "}\n",
       "\n",
       "#sk-container-id-5 div.sk-parallel-item {\n",
       "  display: flex;\n",
       "  flex-direction: column;\n",
       "}\n",
       "\n",
       "#sk-container-id-5 div.sk-parallel-item:first-child::after {\n",
       "  align-self: flex-end;\n",
       "  width: 50%;\n",
       "}\n",
       "\n",
       "#sk-container-id-5 div.sk-parallel-item:last-child::after {\n",
       "  align-self: flex-start;\n",
       "  width: 50%;\n",
       "}\n",
       "\n",
       "#sk-container-id-5 div.sk-parallel-item:only-child::after {\n",
       "  width: 0;\n",
       "}\n",
       "\n",
       "/* Serial-specific style estimator block */\n",
       "\n",
       "#sk-container-id-5 div.sk-serial {\n",
       "  display: flex;\n",
       "  flex-direction: column;\n",
       "  align-items: center;\n",
       "  background-color: var(--sklearn-color-background);\n",
       "  padding-right: 1em;\n",
       "  padding-left: 1em;\n",
       "}\n",
       "\n",
       "\n",
       "/* Toggleable style: style used for estimator/Pipeline/ColumnTransformer box that is\n",
       "clickable and can be expanded/collapsed.\n",
       "- Pipeline and ColumnTransformer use this feature and define the default style\n",
       "- Estimators will overwrite some part of the style using the `sk-estimator` class\n",
       "*/\n",
       "\n",
       "/* Pipeline and ColumnTransformer style (default) */\n",
       "\n",
       "#sk-container-id-5 div.sk-toggleable {\n",
       "  /* Default theme specific background. It is overwritten whether we have a\n",
       "  specific estimator or a Pipeline/ColumnTransformer */\n",
       "  background-color: var(--sklearn-color-background);\n",
       "}\n",
       "\n",
       "/* Toggleable label */\n",
       "#sk-container-id-5 label.sk-toggleable__label {\n",
       "  cursor: pointer;\n",
       "  display: flex;\n",
       "  width: 100%;\n",
       "  margin-bottom: 0;\n",
       "  padding: 0.5em;\n",
       "  box-sizing: border-box;\n",
       "  text-align: center;\n",
       "  align-items: start;\n",
       "  justify-content: space-between;\n",
       "  gap: 0.5em;\n",
       "}\n",
       "\n",
       "#sk-container-id-5 label.sk-toggleable__label .caption {\n",
       "  font-size: 0.6rem;\n",
       "  font-weight: lighter;\n",
       "  color: var(--sklearn-color-text-muted);\n",
       "}\n",
       "\n",
       "#sk-container-id-5 label.sk-toggleable__label-arrow:before {\n",
       "  /* Arrow on the left of the label */\n",
       "  content: \"▸\";\n",
       "  float: left;\n",
       "  margin-right: 0.25em;\n",
       "  color: var(--sklearn-color-icon);\n",
       "}\n",
       "\n",
       "#sk-container-id-5 label.sk-toggleable__label-arrow:hover:before {\n",
       "  color: var(--sklearn-color-text);\n",
       "}\n",
       "\n",
       "/* Toggleable content - dropdown */\n",
       "\n",
       "#sk-container-id-5 div.sk-toggleable__content {\n",
       "  max-height: 0;\n",
       "  max-width: 0;\n",
       "  overflow: hidden;\n",
       "  text-align: left;\n",
       "  /* unfitted */\n",
       "  background-color: var(--sklearn-color-unfitted-level-0);\n",
       "}\n",
       "\n",
       "#sk-container-id-5 div.sk-toggleable__content.fitted {\n",
       "  /* fitted */\n",
       "  background-color: var(--sklearn-color-fitted-level-0);\n",
       "}\n",
       "\n",
       "#sk-container-id-5 div.sk-toggleable__content pre {\n",
       "  margin: 0.2em;\n",
       "  border-radius: 0.25em;\n",
       "  color: var(--sklearn-color-text);\n",
       "  /* unfitted */\n",
       "  background-color: var(--sklearn-color-unfitted-level-0);\n",
       "}\n",
       "\n",
       "#sk-container-id-5 div.sk-toggleable__content.fitted pre {\n",
       "  /* unfitted */\n",
       "  background-color: var(--sklearn-color-fitted-level-0);\n",
       "}\n",
       "\n",
       "#sk-container-id-5 input.sk-toggleable__control:checked~div.sk-toggleable__content {\n",
       "  /* Expand drop-down */\n",
       "  max-height: 200px;\n",
       "  max-width: 100%;\n",
       "  overflow: auto;\n",
       "}\n",
       "\n",
       "#sk-container-id-5 input.sk-toggleable__control:checked~label.sk-toggleable__label-arrow:before {\n",
       "  content: \"▾\";\n",
       "}\n",
       "\n",
       "/* Pipeline/ColumnTransformer-specific style */\n",
       "\n",
       "#sk-container-id-5 div.sk-label input.sk-toggleable__control:checked~label.sk-toggleable__label {\n",
       "  color: var(--sklearn-color-text);\n",
       "  background-color: var(--sklearn-color-unfitted-level-2);\n",
       "}\n",
       "\n",
       "#sk-container-id-5 div.sk-label.fitted input.sk-toggleable__control:checked~label.sk-toggleable__label {\n",
       "  background-color: var(--sklearn-color-fitted-level-2);\n",
       "}\n",
       "\n",
       "/* Estimator-specific style */\n",
       "\n",
       "/* Colorize estimator box */\n",
       "#sk-container-id-5 div.sk-estimator input.sk-toggleable__control:checked~label.sk-toggleable__label {\n",
       "  /* unfitted */\n",
       "  background-color: var(--sklearn-color-unfitted-level-2);\n",
       "}\n",
       "\n",
       "#sk-container-id-5 div.sk-estimator.fitted input.sk-toggleable__control:checked~label.sk-toggleable__label {\n",
       "  /* fitted */\n",
       "  background-color: var(--sklearn-color-fitted-level-2);\n",
       "}\n",
       "\n",
       "#sk-container-id-5 div.sk-label label.sk-toggleable__label,\n",
       "#sk-container-id-5 div.sk-label label {\n",
       "  /* The background is the default theme color */\n",
       "  color: var(--sklearn-color-text-on-default-background);\n",
       "}\n",
       "\n",
       "/* On hover, darken the color of the background */\n",
       "#sk-container-id-5 div.sk-label:hover label.sk-toggleable__label {\n",
       "  color: var(--sklearn-color-text);\n",
       "  background-color: var(--sklearn-color-unfitted-level-2);\n",
       "}\n",
       "\n",
       "/* Label box, darken color on hover, fitted */\n",
       "#sk-container-id-5 div.sk-label.fitted:hover label.sk-toggleable__label.fitted {\n",
       "  color: var(--sklearn-color-text);\n",
       "  background-color: var(--sklearn-color-fitted-level-2);\n",
       "}\n",
       "\n",
       "/* Estimator label */\n",
       "\n",
       "#sk-container-id-5 div.sk-label label {\n",
       "  font-family: monospace;\n",
       "  font-weight: bold;\n",
       "  display: inline-block;\n",
       "  line-height: 1.2em;\n",
       "}\n",
       "\n",
       "#sk-container-id-5 div.sk-label-container {\n",
       "  text-align: center;\n",
       "}\n",
       "\n",
       "/* Estimator-specific */\n",
       "#sk-container-id-5 div.sk-estimator {\n",
       "  font-family: monospace;\n",
       "  border: 1px dotted var(--sklearn-color-border-box);\n",
       "  border-radius: 0.25em;\n",
       "  box-sizing: border-box;\n",
       "  margin-bottom: 0.5em;\n",
       "  /* unfitted */\n",
       "  background-color: var(--sklearn-color-unfitted-level-0);\n",
       "}\n",
       "\n",
       "#sk-container-id-5 div.sk-estimator.fitted {\n",
       "  /* fitted */\n",
       "  background-color: var(--sklearn-color-fitted-level-0);\n",
       "}\n",
       "\n",
       "/* on hover */\n",
       "#sk-container-id-5 div.sk-estimator:hover {\n",
       "  /* unfitted */\n",
       "  background-color: var(--sklearn-color-unfitted-level-2);\n",
       "}\n",
       "\n",
       "#sk-container-id-5 div.sk-estimator.fitted:hover {\n",
       "  /* fitted */\n",
       "  background-color: var(--sklearn-color-fitted-level-2);\n",
       "}\n",
       "\n",
       "/* Specification for estimator info (e.g. \"i\" and \"?\") */\n",
       "\n",
       "/* Common style for \"i\" and \"?\" */\n",
       "\n",
       ".sk-estimator-doc-link,\n",
       "a:link.sk-estimator-doc-link,\n",
       "a:visited.sk-estimator-doc-link {\n",
       "  float: right;\n",
       "  font-size: smaller;\n",
       "  line-height: 1em;\n",
       "  font-family: monospace;\n",
       "  background-color: var(--sklearn-color-background);\n",
       "  border-radius: 1em;\n",
       "  height: 1em;\n",
       "  width: 1em;\n",
       "  text-decoration: none !important;\n",
       "  margin-left: 0.5em;\n",
       "  text-align: center;\n",
       "  /* unfitted */\n",
       "  border: var(--sklearn-color-unfitted-level-1) 1pt solid;\n",
       "  color: var(--sklearn-color-unfitted-level-1);\n",
       "}\n",
       "\n",
       ".sk-estimator-doc-link.fitted,\n",
       "a:link.sk-estimator-doc-link.fitted,\n",
       "a:visited.sk-estimator-doc-link.fitted {\n",
       "  /* fitted */\n",
       "  border: var(--sklearn-color-fitted-level-1) 1pt solid;\n",
       "  color: var(--sklearn-color-fitted-level-1);\n",
       "}\n",
       "\n",
       "/* On hover */\n",
       "div.sk-estimator:hover .sk-estimator-doc-link:hover,\n",
       ".sk-estimator-doc-link:hover,\n",
       "div.sk-label-container:hover .sk-estimator-doc-link:hover,\n",
       ".sk-estimator-doc-link:hover {\n",
       "  /* unfitted */\n",
       "  background-color: var(--sklearn-color-unfitted-level-3);\n",
       "  color: var(--sklearn-color-background);\n",
       "  text-decoration: none;\n",
       "}\n",
       "\n",
       "div.sk-estimator.fitted:hover .sk-estimator-doc-link.fitted:hover,\n",
       ".sk-estimator-doc-link.fitted:hover,\n",
       "div.sk-label-container:hover .sk-estimator-doc-link.fitted:hover,\n",
       ".sk-estimator-doc-link.fitted:hover {\n",
       "  /* fitted */\n",
       "  background-color: var(--sklearn-color-fitted-level-3);\n",
       "  color: var(--sklearn-color-background);\n",
       "  text-decoration: none;\n",
       "}\n",
       "\n",
       "/* Span, style for the box shown on hovering the info icon */\n",
       ".sk-estimator-doc-link span {\n",
       "  display: none;\n",
       "  z-index: 9999;\n",
       "  position: relative;\n",
       "  font-weight: normal;\n",
       "  right: .2ex;\n",
       "  padding: .5ex;\n",
       "  margin: .5ex;\n",
       "  width: min-content;\n",
       "  min-width: 20ex;\n",
       "  max-width: 50ex;\n",
       "  color: var(--sklearn-color-text);\n",
       "  box-shadow: 2pt 2pt 4pt #999;\n",
       "  /* unfitted */\n",
       "  background: var(--sklearn-color-unfitted-level-0);\n",
       "  border: .5pt solid var(--sklearn-color-unfitted-level-3);\n",
       "}\n",
       "\n",
       ".sk-estimator-doc-link.fitted span {\n",
       "  /* fitted */\n",
       "  background: var(--sklearn-color-fitted-level-0);\n",
       "  border: var(--sklearn-color-fitted-level-3);\n",
       "}\n",
       "\n",
       ".sk-estimator-doc-link:hover span {\n",
       "  display: block;\n",
       "}\n",
       "\n",
       "/* \"?\"-specific style due to the `<a>` HTML tag */\n",
       "\n",
       "#sk-container-id-5 a.estimator_doc_link {\n",
       "  float: right;\n",
       "  font-size: 1rem;\n",
       "  line-height: 1em;\n",
       "  font-family: monospace;\n",
       "  background-color: var(--sklearn-color-background);\n",
       "  border-radius: 1rem;\n",
       "  height: 1rem;\n",
       "  width: 1rem;\n",
       "  text-decoration: none;\n",
       "  /* unfitted */\n",
       "  color: var(--sklearn-color-unfitted-level-1);\n",
       "  border: var(--sklearn-color-unfitted-level-1) 1pt solid;\n",
       "}\n",
       "\n",
       "#sk-container-id-5 a.estimator_doc_link.fitted {\n",
       "  /* fitted */\n",
       "  border: var(--sklearn-color-fitted-level-1) 1pt solid;\n",
       "  color: var(--sklearn-color-fitted-level-1);\n",
       "}\n",
       "\n",
       "/* On hover */\n",
       "#sk-container-id-5 a.estimator_doc_link:hover {\n",
       "  /* unfitted */\n",
       "  background-color: var(--sklearn-color-unfitted-level-3);\n",
       "  color: var(--sklearn-color-background);\n",
       "  text-decoration: none;\n",
       "}\n",
       "\n",
       "#sk-container-id-5 a.estimator_doc_link.fitted:hover {\n",
       "  /* fitted */\n",
       "  background-color: var(--sklearn-color-fitted-level-3);\n",
       "}\n",
       "</style><div id=\"sk-container-id-5\" class=\"sk-top-container\"><div class=\"sk-text-repr-fallback\"><pre>Pipeline(steps=[(&#x27;preprocessor&#x27;,\n",
       "                 ColumnTransformer(transformers=[(&#x27;ore&#x27;, OrdinalEncoder(),\n",
       "                                                  [&#x27;workclass&#x27;, &#x27;education&#x27;,\n",
       "                                                   &#x27;marital-status&#x27;,\n",
       "                                                   &#x27;occupation&#x27;, &#x27;relationship&#x27;,\n",
       "                                                   &#x27;race&#x27;, &#x27;native-country&#x27;,\n",
       "                                                   &#x27;sex&#x27;]),\n",
       "                                                 (&#x27;scaling&#x27;, StandardScaler(),\n",
       "                                                  [&#x27;age&#x27;, &#x27;fnlwgt&#x27;,\n",
       "                                                   &#x27;education-num&#x27;,\n",
       "                                                   &#x27;capital-gain&#x27;,\n",
       "                                                   &#x27;capital-loss&#x27;,\n",
       "                                                   &#x27;hours-per-week&#x27;])])),\n",
       "                (&#x27;regression&#x27;, LogisticRegression())])</pre><b>In a Jupyter environment, please rerun this cell to show the HTML representation or trust the notebook. <br />On GitHub, the HTML representation is unable to render, please try loading this page with nbviewer.org.</b></div><div class=\"sk-container\" hidden><div class=\"sk-item sk-dashed-wrapped\"><div class=\"sk-label-container\"><div class=\"sk-label  sk-toggleable\"><input class=\"sk-toggleable__control sk-hidden--visually\" id=\"sk-estimator-id-29\" type=\"checkbox\" ><label for=\"sk-estimator-id-29\" class=\"sk-toggleable__label  sk-toggleable__label-arrow\"><div><div>Pipeline</div></div><div><a class=\"sk-estimator-doc-link \" rel=\"noreferrer\" target=\"_blank\" href=\"https://scikit-learn.org/1.6/modules/generated/sklearn.pipeline.Pipeline.html\">?<span>Documentation for Pipeline</span></a><span class=\"sk-estimator-doc-link \">i<span>Not fitted</span></span></div></label><div class=\"sk-toggleable__content \"><pre>Pipeline(steps=[(&#x27;preprocessor&#x27;,\n",
       "                 ColumnTransformer(transformers=[(&#x27;ore&#x27;, OrdinalEncoder(),\n",
       "                                                  [&#x27;workclass&#x27;, &#x27;education&#x27;,\n",
       "                                                   &#x27;marital-status&#x27;,\n",
       "                                                   &#x27;occupation&#x27;, &#x27;relationship&#x27;,\n",
       "                                                   &#x27;race&#x27;, &#x27;native-country&#x27;,\n",
       "                                                   &#x27;sex&#x27;]),\n",
       "                                                 (&#x27;scaling&#x27;, StandardScaler(),\n",
       "                                                  [&#x27;age&#x27;, &#x27;fnlwgt&#x27;,\n",
       "                                                   &#x27;education-num&#x27;,\n",
       "                                                   &#x27;capital-gain&#x27;,\n",
       "                                                   &#x27;capital-loss&#x27;,\n",
       "                                                   &#x27;hours-per-week&#x27;])])),\n",
       "                (&#x27;regression&#x27;, LogisticRegression())])</pre></div> </div></div><div class=\"sk-serial\"><div class=\"sk-item sk-dashed-wrapped\"><div class=\"sk-label-container\"><div class=\"sk-label  sk-toggleable\"><input class=\"sk-toggleable__control sk-hidden--visually\" id=\"sk-estimator-id-30\" type=\"checkbox\" ><label for=\"sk-estimator-id-30\" class=\"sk-toggleable__label  sk-toggleable__label-arrow\"><div><div>preprocessor: ColumnTransformer</div></div><div><a class=\"sk-estimator-doc-link \" rel=\"noreferrer\" target=\"_blank\" href=\"https://scikit-learn.org/1.6/modules/generated/sklearn.compose.ColumnTransformer.html\">?<span>Documentation for preprocessor: ColumnTransformer</span></a></div></label><div class=\"sk-toggleable__content \"><pre>ColumnTransformer(transformers=[(&#x27;ore&#x27;, OrdinalEncoder(),\n",
       "                                 [&#x27;workclass&#x27;, &#x27;education&#x27;, &#x27;marital-status&#x27;,\n",
       "                                  &#x27;occupation&#x27;, &#x27;relationship&#x27;, &#x27;race&#x27;,\n",
       "                                  &#x27;native-country&#x27;, &#x27;sex&#x27;]),\n",
       "                                (&#x27;scaling&#x27;, StandardScaler(),\n",
       "                                 [&#x27;age&#x27;, &#x27;fnlwgt&#x27;, &#x27;education-num&#x27;,\n",
       "                                  &#x27;capital-gain&#x27;, &#x27;capital-loss&#x27;,\n",
       "                                  &#x27;hours-per-week&#x27;])])</pre></div> </div></div><div class=\"sk-parallel\"><div class=\"sk-parallel-item\"><div class=\"sk-item\"><div class=\"sk-label-container\"><div class=\"sk-label  sk-toggleable\"><input class=\"sk-toggleable__control sk-hidden--visually\" id=\"sk-estimator-id-31\" type=\"checkbox\" ><label for=\"sk-estimator-id-31\" class=\"sk-toggleable__label  sk-toggleable__label-arrow\"><div><div>ore</div></div></label><div class=\"sk-toggleable__content \"><pre>[&#x27;workclass&#x27;, &#x27;education&#x27;, &#x27;marital-status&#x27;, &#x27;occupation&#x27;, &#x27;relationship&#x27;, &#x27;race&#x27;, &#x27;native-country&#x27;, &#x27;sex&#x27;]</pre></div> </div></div><div class=\"sk-serial\"><div class=\"sk-item\"><div class=\"sk-estimator  sk-toggleable\"><input class=\"sk-toggleable__control sk-hidden--visually\" id=\"sk-estimator-id-32\" type=\"checkbox\" ><label for=\"sk-estimator-id-32\" class=\"sk-toggleable__label  sk-toggleable__label-arrow\"><div><div>OrdinalEncoder</div></div><div><a class=\"sk-estimator-doc-link \" rel=\"noreferrer\" target=\"_blank\" href=\"https://scikit-learn.org/1.6/modules/generated/sklearn.preprocessing.OrdinalEncoder.html\">?<span>Documentation for OrdinalEncoder</span></a></div></label><div class=\"sk-toggleable__content \"><pre>OrdinalEncoder()</pre></div> </div></div></div></div></div><div class=\"sk-parallel-item\"><div class=\"sk-item\"><div class=\"sk-label-container\"><div class=\"sk-label  sk-toggleable\"><input class=\"sk-toggleable__control sk-hidden--visually\" id=\"sk-estimator-id-33\" type=\"checkbox\" ><label for=\"sk-estimator-id-33\" class=\"sk-toggleable__label  sk-toggleable__label-arrow\"><div><div>scaling</div></div></label><div class=\"sk-toggleable__content \"><pre>[&#x27;age&#x27;, &#x27;fnlwgt&#x27;, &#x27;education-num&#x27;, &#x27;capital-gain&#x27;, &#x27;capital-loss&#x27;, &#x27;hours-per-week&#x27;]</pre></div> </div></div><div class=\"sk-serial\"><div class=\"sk-item\"><div class=\"sk-estimator  sk-toggleable\"><input class=\"sk-toggleable__control sk-hidden--visually\" id=\"sk-estimator-id-34\" type=\"checkbox\" ><label for=\"sk-estimator-id-34\" class=\"sk-toggleable__label  sk-toggleable__label-arrow\"><div><div>StandardScaler</div></div><div><a class=\"sk-estimator-doc-link \" rel=\"noreferrer\" target=\"_blank\" href=\"https://scikit-learn.org/1.6/modules/generated/sklearn.preprocessing.StandardScaler.html\">?<span>Documentation for StandardScaler</span></a></div></label><div class=\"sk-toggleable__content \"><pre>StandardScaler()</pre></div> </div></div></div></div></div></div></div><div class=\"sk-item\"><div class=\"sk-estimator  sk-toggleable\"><input class=\"sk-toggleable__control sk-hidden--visually\" id=\"sk-estimator-id-35\" type=\"checkbox\" ><label for=\"sk-estimator-id-35\" class=\"sk-toggleable__label  sk-toggleable__label-arrow\"><div><div>LogisticRegression</div></div><div><a class=\"sk-estimator-doc-link \" rel=\"noreferrer\" target=\"_blank\" href=\"https://scikit-learn.org/1.6/modules/generated/sklearn.linear_model.LogisticRegression.html\">?<span>Documentation for LogisticRegression</span></a></div></label><div class=\"sk-toggleable__content \"><pre>LogisticRegression()</pre></div> </div></div></div></div></div></div>"
      ]
     },
     "execution_count": 204,
     "metadata": {},
     "output_type": "execute_result"
    }
   ],
   "execution_count": 204
  },
  {
   "metadata": {
    "ExecuteTime": {
     "end_time": "2025-01-30T13:44:07.821920Z",
     "start_time": "2025-01-30T13:44:07.645145Z"
    }
   },
   "cell_type": "code",
   "source": [
    "pipeline.fit(X_train, y_train)\n",
    "y_pred_pip = pipeline.predict_proba(X_test)"
   ],
   "outputs": [
    {
     "name": "stderr",
     "output_type": "stream",
     "text": [
      "C:\\Users\\annam\\anaconda3\\Lib\\site-packages\\sklearn\\linear_model\\_logistic.py:465: ConvergenceWarning: lbfgs failed to converge (status=1):\n",
      "STOP: TOTAL NO. of ITERATIONS REACHED LIMIT.\n",
      "\n",
      "Increase the number of iterations (max_iter) or scale the data as shown in:\n",
      "    https://scikit-learn.org/stable/modules/preprocessing.html\n",
      "Please also refer to the documentation for alternative solver options:\n",
      "    https://scikit-learn.org/stable/modules/linear_model.html#logistic-regression\n",
      "  n_iter_i = _check_optimize_result(\n"
     ]
    }
   ],
   "execution_count": 205
  },
  {
   "metadata": {
    "ExecuteTime": {
     "end_time": "2025-01-30T13:44:08.344850Z",
     "start_time": "2025-01-30T13:44:08.334939Z"
    }
   },
   "cell_type": "code",
   "source": [
    "auc_pr = average_precision_score(y_test, y_pred_pip[:, 1])\n",
    "print(f'AUC-PR: {auc_pr}')\n",
    "print('AUC-ROC: %.5f' % roc_auc_score(y_test, y_pred_pip[:, 1]))"
   ],
   "outputs": [
    {
     "name": "stdout",
     "output_type": "stream",
     "text": [
      "AUC-PR: 0.6794815853434037\n",
      "AUC-ROC: 0.85198\n"
     ]
    }
   ],
   "execution_count": 206
  },
  {
   "metadata": {},
   "cell_type": "code",
   "outputs": [],
   "execution_count": null,
   "source": ""
  },
  {
   "metadata": {},
   "cell_type": "code",
   "outputs": [],
   "execution_count": null,
   "source": ""
  },
  {
   "cell_type": "markdown",
   "metadata": {
    "id": "TRXYxCSmP75Z"
   },
   "source": [
    "__Вопрос__: почему в данном задании мы выбрали метрикой именно `AUC-PR`, а не, к примеру, `AUC-ROC`?\n",
    "\n",
    "__Ответ__: # your answer here"
   ]
  },
  {
   "cell_type": "markdown",
   "metadata": {
    "id": "ScIo7NthP75a"
   },
   "source": [
    "#### __Задание 4. One-Hot Encoding__ (0.5 балла)\n",
    "\n"
   ]
  },
  {
   "cell_type": "markdown",
   "metadata": {
    "id": "p3sFuKAtLwOx"
   },
   "source": [
    "Закодируйте все категориальные признаки с помощью one-hot-кодирования. Обучите логистическую регрессию и посмотрите, как изменилось качество модели (в сравнении с тем, что было до кодирования). Измерьте время, потребовавшееся на кодирование категориальных признаков и обучение модели."
   ]
  },
  {
   "cell_type": "code",
   "metadata": {
    "id": "t4PbjLIHP75a",
    "ExecuteTime": {
     "end_time": "2025-01-30T13:44:38.961355Z",
     "start_time": "2025-01-30T13:44:38.780088Z"
    }
   },
   "source": [
    "from sklearn.preprocessing import OneHotEncoder\n",
    "column_transformer = ColumnTransformer([\n",
    "    ('ore', OneHotEncoder(), categorical),\n",
    "    ('scaling', StandardScaler(), numeric_features),\n",
    "])\n",
    "\n",
    "pipeline = Pipeline([\n",
    "    (\"preprocessor\", column_transformer),\n",
    "    (\"regression\", sklearn.linear_model.LogisticRegression(penalty = 'l2'))\n",
    "])\n",
    "\n",
    "pipeline.fit(X_train, y_train)\n",
    "y_pred_pip = pipeline.predict_proba(X_test)\n",
    "\n",
    "auc_pr = average_precision_score(y_test, y_pred_pip[:, 1])\n",
    "print(f'AUC-PR: {auc_pr}')\n",
    "print('AUC-ROC: %.5f' % roc_auc_score(y_test, y_pred_pip[:, 1]))"
   ],
   "outputs": [
    {
     "name": "stdout",
     "output_type": "stream",
     "text": [
      "AUC-PR: 0.7647123919558251\n",
      "AUC-ROC: 0.90934\n"
     ]
    }
   ],
   "execution_count": 207
  },
  {
   "cell_type": "markdown",
   "metadata": {
    "id": "9p-qOs6lP75b"
   },
   "source": [
    "Как можно заметить, one-hot-кодирование может сильно увеличивать количество признаков. Это сказывается на объеме необходимой памяти, особенно, если некоторый признак имеет большое количество значений.\n"
   ]
  },
  {
   "cell_type": "markdown",
   "metadata": {
    "id": "l1q3k3yaLF8Y"
   },
   "source": [
    "#### __Задание 5. Mean-target Encoding__ (1 балл)"
   ]
  },
  {
   "cell_type": "markdown",
   "metadata": {
    "id": "tanu5Hm5Lr7R"
   },
   "source": [
    "> Проблемы разрастания числа признаков можно избежать в другом способе кодирования категориальных признаков — mean-target encoding (для простоты будем называть это __счётчиками__). Сравним эффективность методов в рамках нашей маркетинговой задачи.\n",
    "\n",
    "> Основная идея в том, что важны не сами категории, а значения целевой переменной, которые имеют объекты этой категории. Каждый категориальный признак мы заменим средним значением целевой переменной по всем объектам этой же категории:\n",
    "$$\n",
    "g_j(x, X) = \\frac{\\sum_{i=1}^{\\ell} [f_j(x) = f_j(x_i)][y_i = +1]}{\\sum_{i=1}^{\\ell} [f_j(x) = f_j(x_i)]}\n",
    "$$\n",
    "\n",
    "Закодируйте категориальные переменные с помощью счётчиков (ровно так, как описано выше, без каких-либо хитростей). Обучите логистическую регрессию и посмотрите на качество модели на тестовом множестве.\n",
    "\n",
    "Сравните время обучения с предыдущими экспериментами (с учетом кодирования признаков)."
   ]
  },
  {
   "cell_type": "code",
   "metadata": {
    "id": "Q4W5YbD2LbGw",
    "ExecuteTime": {
     "end_time": "2025-01-30T21:15:10.984149Z",
     "start_time": "2025-01-30T21:15:10.979483Z"
    }
   },
   "source": [
    "def change_cat_features(list_of_columns):\n",
    "    for col_name in list_of_columns:\n",
    "        for value in set(df[col_name].values):\n",
    "            df.loc[df[col_name] == value, col_name] = np.mean(df[df[col_name] == value]['income'])"
   ],
   "outputs": [],
   "execution_count": 266
  },
  {
   "metadata": {
    "ExecuteTime": {
     "end_time": "2025-01-30T21:16:04.914911Z",
     "start_time": "2025-01-30T21:15:11.821615Z"
    }
   },
   "cell_type": "code",
   "source": [
    "df = get_df()\n",
    "change_cat_features(categorical)"
   ],
   "outputs": [
    {
     "name": "stderr",
     "output_type": "stream",
     "text": [
      "C:\\Users\\annam\\AppData\\Local\\Temp\\ipykernel_8084\\3617635606.py:5: FutureWarning: Setting an item of incompatible dtype is deprecated and will raise an error in a future version of pandas. Value '0.10946058861758426' has dtype incompatible with bool, please explicitly cast to a compatible dtype first.\n",
      "  df.loc[df[col_name] == value, col_name] = np.mean(df[df[col_name] == value]['income'])\n"
     ]
    }
   ],
   "execution_count": 267
  },
  {
   "metadata": {
    "ExecuteTime": {
     "end_time": "2025-01-30T21:16:22.240134Z",
     "start_time": "2025-01-30T21:16:22.040118Z"
    }
   },
   "cell_type": "code",
   "source": [
    "X = df.drop('income', axis=1)\n",
    "y = df['income']\n",
    "\n",
    "X_train, X_test, y_train, y_test = train_test_split(X, y, test_size=0.25, random_state=777)\n",
    "\n",
    "model = sklearn.linear_model.LogisticRegression(penalty='l2')\n",
    "model.fit(X_train, y_train)\n",
    "y_pred = model.predict_proba(X_test)[:, 1]\n",
    "\n",
    "print('AUC-ROC: %.5f' % roc_auc_score(y_test, y_pred))\n",
    "print('AUC-PR: %.5f' % average_precision_score(y_test, y_pred))"
   ],
   "outputs": [
    {
     "name": "stdout",
     "output_type": "stream",
     "text": [
      "AUC-ROC: 0.58809\n",
      "AUC-PR: 0.46303\n"
     ]
    },
    {
     "name": "stderr",
     "output_type": "stream",
     "text": [
      "C:\\Users\\annam\\anaconda3\\Lib\\site-packages\\sklearn\\linear_model\\_logistic.py:465: ConvergenceWarning: lbfgs failed to converge (status=1):\n",
      "STOP: TOTAL NO. of ITERATIONS REACHED LIMIT.\n",
      "\n",
      "Increase the number of iterations (max_iter) or scale the data as shown in:\n",
      "    https://scikit-learn.org/stable/modules/preprocessing.html\n",
      "Please also refer to the documentation for alternative solver options:\n",
      "    https://scikit-learn.org/stable/modules/linear_model.html#logistic-regression\n",
      "  n_iter_i = _check_optimize_result(\n"
     ]
    }
   ],
   "execution_count": 268
  },
  {
   "cell_type": "markdown",
   "metadata": {
    "id": "ABXherJ3LGBj"
   },
   "source": [
    "##### __Бонус: Эффективная реализация (1 балл)__\n",
    "\n",
    "Здесь и далее реализуйте вычисление счетчиков с помощью трансформера (наследуйтесь от классов `BaseEstimator, TransformerMixin` из `sklearn.base`). Обратите внимание, что все вычисления должны быть векторизованными, трансформер не должен модифицировать передаваемую ему выборку inplace, а все необходимые статистики нужно считать только по обучающей выборке в методе `fit`. Ваш трансформер должен принимать при инициализации список из категориальных признаков и изменять только их. "
   ]
  },
  {
   "cell_type": "code",
   "metadata": {
    "id": "Kk8D4dDuP75b",
    "ExecuteTime": {
     "end_time": "2025-01-30T21:19:13.406954Z",
     "start_time": "2025-01-30T21:19:13.403175Z"
    }
   },
   "source": [
    "import random\n",
    "\n",
    "def change_cat_features(list_of_columns):\n",
    "    for col_name in list_of_columns:\n",
    "        for value in set(df[col_name].values):\n",
    "            df.loc[df[col_name] == value, col_name] = np.mean(df[df[col_name] == value]['income']) + random.random() * 2"
   ],
   "outputs": [],
   "execution_count": 278
  },
  {
   "metadata": {
    "ExecuteTime": {
     "end_time": "2025-01-30T21:19:39.669043Z",
     "start_time": "2025-01-30T21:19:13.707916Z"
    }
   },
   "cell_type": "code",
   "source": "df = get_df()",
   "outputs": [],
   "execution_count": 279
  },
  {
   "metadata": {
    "ExecuteTime": {
     "end_time": "2025-01-30T21:19:48.209702Z",
     "start_time": "2025-01-30T21:19:39.669043Z"
    }
   },
   "cell_type": "code",
   "source": "change_cat_features(categorical)",
   "outputs": [
    {
     "name": "stderr",
     "output_type": "stream",
     "text": [
      "C:\\Users\\annam\\AppData\\Local\\Temp\\ipykernel_8084\\760089554.py:6: FutureWarning: Setting an item of incompatible dtype is deprecated and will raise an error in a future version of pandas. Value '2.1027562812080958' has dtype incompatible with bool, please explicitly cast to a compatible dtype first.\n",
      "  df.loc[df[col_name] == value, col_name] = np.mean(df[df[col_name] == value]['income']) + random.random() * 2\n"
     ]
    }
   ],
   "execution_count": 280
  },
  {
   "metadata": {
    "ExecuteTime": {
     "end_time": "2025-01-30T21:19:48.472982Z",
     "start_time": "2025-01-30T21:19:48.209702Z"
    }
   },
   "cell_type": "code",
   "source": [
    "X = df.drop('income', axis=1)\n",
    "y = df['income']\n",
    "\n",
    "X_train, X_test, y_train, y_test = train_test_split(X, y, test_size=0.25, random_state=777)\n",
    "\n",
    "model = sklearn.linear_model.LogisticRegression(penalty='l2')\n",
    "model.fit(X_train, y_train)\n",
    "y_pred = model.predict_proba(X_test)[:, 1]\n",
    "\n",
    "print('AUC-ROC: %.5f' % roc_auc_score(y_test, y_pred))\n",
    "print('AUC-PR: %.5f' % average_precision_score(y_test, y_pred))"
   ],
   "outputs": [
    {
     "name": "stdout",
     "output_type": "stream",
     "text": [
      "AUC-ROC: 0.77059\n",
      "AUC-PR: 0.56655\n"
     ]
    },
    {
     "name": "stderr",
     "output_type": "stream",
     "text": [
      "C:\\Users\\annam\\anaconda3\\Lib\\site-packages\\sklearn\\linear_model\\_logistic.py:465: ConvergenceWarning: lbfgs failed to converge (status=1):\n",
      "STOP: TOTAL NO. of ITERATIONS REACHED LIMIT.\n",
      "\n",
      "Increase the number of iterations (max_iter) or scale the data as shown in:\n",
      "    https://scikit-learn.org/stable/modules/preprocessing.html\n",
      "Please also refer to the documentation for alternative solver options:\n",
      "    https://scikit-learn.org/stable/modules/linear_model.html#logistic-regression\n",
      "  n_iter_i = _check_optimize_result(\n"
     ]
    }
   ],
   "execution_count": 281
  },
  {
   "metadata": {},
   "cell_type": "code",
   "outputs": [],
   "execution_count": null,
   "source": ""
  },
  {
   "cell_type": "markdown",
   "metadata": {
    "id": "bH-JPoINqJ62"
   },
   "source": [
    "_______\n",
    "\n",
    "__Методы борьбы с переобучением счетчиков__\n",
    "\n",
    "\n",
    "Отметим, что mean-target encoding признаки сами по себе являются классификаторами и, обучаясь на них, мы допускаем \"утечку\" целевой переменной в признаки. Это ведёт к __переобучению__, поэтому считать такие признаки необходимо таким образом, чтобы при вычислении для конкретного объекта его __целевая метка не использовалась__.\n",
    "\n",
    "Это можно делать следующими способами:\n",
    "1. Вычислять значение счётчика по всем объектам расположенным выше в датасете (например, если у нас выборка отсортирована по времени).\n",
    "2. Вычислять по фолдам, то есть делить выборку на некоторое количество частей и подсчитывать значение признаков по всем фолдам кроме текущего (как делается в кросс-валидации).\n",
    "3. Внесение некоторого шума в посчитанные признаки.\n",
    "\n",
    "#### __Задание 6. Пошумим__  (0.5 балла)\n",
    "\n",
    "Реализуйте корректное вычисление счётчиков самым простым способом — добавление шума к значениям.  При этом постарайтесь найти баланс между борьбой с переобучением и сохранением полезности признаков. Снова обучите логистическую регрессию, оцените качество. Сделайте выводы."
   ]
  },
  {
   "cell_type": "code",
   "execution_count": null,
   "metadata": {
    "id": "HiqJBxrAP75c"
   },
   "outputs": [],
   "source": [
    "#your code here"
   ]
  },
  {
   "cell_type": "markdown",
   "metadata": {
    "id": "1GtUtPCjP75c"
   },
   "source": [
    "##### __Бонус: другой подход__ (0.5 балла)\n",
    "\n",
    "Посчитайте корректные счётчики первым или вторым способов из описанных выше (не забудьте добавить и шум).\n",
    "\n",
    "\n"
   ]
  },
  {
   "cell_type": "code",
   "execution_count": null,
   "metadata": {
    "id": "AjqsSTd6P75c"
   },
   "outputs": [],
   "source": [
    "#your code here"
   ]
  },
  {
   "cell_type": "markdown",
   "metadata": {
    "id": "aMe2b5i6P75d"
   },
   "source": [
    "#### __Задание 7. Сглаживание счетчиков__  (1 балл)"
   ]
  },
  {
   "cell_type": "markdown",
   "metadata": {
    "id": "4gnmTaJqP75d"
   },
   "source": [
    "> Теперь ответим на следующий вопрос: что будет, если некоторая категория встречается в выборке всего несколько раз? По этой причине производится сглаживание счётчиков. Например, на практике хорошие результаты показывает использование сглаживания средним по всей выборке:\n",
    "$$\n",
    "g_j(x, X) = \\frac{\\sum_{i=1}^{\\ell} [f_j(x) = f_j(x_i)][y_i = +1] + C \\times global\\_mean}{\\sum_{i=1}^{\\ell} [f_j(x) = f_j(x_i)] + C}\n",
    "$$\n",
    "где $global\\_mean$ — доля объектов положительного класса в выборке, $C$ — параметр, определяющий степень сглаживания (можно использовать 10 или подобрать для каждого признака свой). Идея в том, что мы \"разбавляем\" среднее значение по категории глобальным средним значением. И тем меньше, чем большее количество объектов этой категории встречается в выборке. \n",
    "\n",
    "> Вместо среднего значения целевой переменной для сглаживания можно использовать любое другое значение от 0 до 1 (этот параметр иногда называют $prior$). Можно сделать несколько признаков с разными значениями параметра. На практике в задачах бинарной классификации полезными бывают даже отрицательные значения!\n",
    "\n",
    "Добавьте сглаживание, описанное выше и повторите эксперименты.\n"
   ]
  },
  {
   "cell_type": "code",
   "metadata": {
    "id": "4xRMlYQlP75d",
    "ExecuteTime": {
     "end_time": "2025-02-02T11:41:39.132133Z",
     "start_time": "2025-02-02T11:41:39.109829Z"
    }
   },
   "source": [
    "import random\n",
    "\n",
    "global_mean = df['income'].mean()\n",
    "C = 10\n",
    "\n",
    "def change_cat_features(list_of_columns):\n",
    "    for col_name in list_of_columns:\n",
    "        for value in set(df[col_name].values):\n",
    "            df.loc[df[col_name] == value, col_name] = ((np.sum(df[df[col_name] == value]['income']) + C * global_mean) / \n",
    "                                                       (df[df[col_name] == value]['income'].count() + C))"
   ],
   "outputs": [],
   "execution_count": 286
  },
  {
   "metadata": {
    "ExecuteTime": {
     "end_time": "2025-02-02T11:42:47.025159Z",
     "start_time": "2025-02-02T11:41:39.725948Z"
    }
   },
   "cell_type": "code",
   "source": [
    "df = get_df()\n",
    "change_cat_features(categorical)\n",
    "X = df.drop('income', axis=1)\n",
    "y = df['income']\n",
    "\n",
    "X_train, X_test, y_train, y_test = train_test_split(X, y, test_size=0.25, random_state=777)\n",
    "\n",
    "model = sklearn.linear_model.LogisticRegression(penalty='l2')\n",
    "model.fit(X_train, y_train)\n",
    "y_pred = model.predict_proba(X_test)[:, 1]\n",
    "\n",
    "print('AUC-ROC: %.5f' % roc_auc_score(y_test, y_pred))\n",
    "print('AUC-PR: %.5f' % average_precision_score(y_test, y_pred))"
   ],
   "outputs": [
    {
     "name": "stderr",
     "output_type": "stream",
     "text": [
      "C:\\Users\\annam\\AppData\\Local\\Temp\\ipykernel_8084\\4237299737.py:9: FutureWarning: Setting an item of incompatible dtype is deprecated and will raise an error in a future version of pandas. Value '0.10958242237032374' has dtype incompatible with bool, please explicitly cast to a compatible dtype first.\n",
      "  df.loc[df[col_name] == value, col_name] = ((np.sum(df[df[col_name] == value]['income']) + C * global_mean) /\n"
     ]
    },
    {
     "name": "stdout",
     "output_type": "stream",
     "text": [
      "AUC-ROC: 0.58703\n",
      "AUC-PR: 0.46293\n"
     ]
    },
    {
     "name": "stderr",
     "output_type": "stream",
     "text": [
      "C:\\Users\\annam\\anaconda3\\Lib\\site-packages\\sklearn\\linear_model\\_logistic.py:465: ConvergenceWarning: lbfgs failed to converge (status=1):\n",
      "STOP: TOTAL NO. of ITERATIONS REACHED LIMIT.\n",
      "\n",
      "Increase the number of iterations (max_iter) or scale the data as shown in:\n",
      "    https://scikit-learn.org/stable/modules/preprocessing.html\n",
      "Please also refer to the documentation for alternative solver options:\n",
      "    https://scikit-learn.org/stable/modules/linear_model.html#logistic-regression\n",
      "  n_iter_i = _check_optimize_result(\n"
     ]
    }
   ],
   "execution_count": 287
  },
  {
   "cell_type": "markdown",
   "metadata": {
    "id": "TksKMbr_P75d"
   },
   "source": [
    "#### __Задание 8. И все-таки числовой?__  (0.5 балла)\n",
    "\n",
    "В данных имеются признаки \"возраст\" и \"число рабочих часов в неделю\". Сейчас мы интерпретируем их как числовые, что в общем случае для линейной модели может быть неверной гипотезой. Тем не менее, у этих признаков есть довольно много уникальных значений (сколько?), поэтому применять к ним one-hot кодирование может оказаться излишним. Попробуйте закодировать эти признаки с помощью счетчиков (вместе и по отдельности). Стало ли лучше?\n",
    "\n"
   ]
  },
  {
   "cell_type": "code",
   "execution_count": null,
   "metadata": {
    "id": "NGE4O-alP75e"
   },
   "outputs": [],
   "source": [
    "#your code here"
   ]
  },
  {
   "cell_type": "markdown",
   "metadata": {
    "id": "2mwXyUnOP75e"
   },
   "source": [
    "> __Замечание.__ Усложнение методов вычисления счётчиков не делают результаты модели гарантированно лучше. Особенно с учётом того, что логистическая регрессия не такая сложная модель, чтобы переобучаться. Поэтому вы необязательно должны были получать на каждом шаге всё лучшие и лучшие результаты (но необходимые результаты у вас должны были получиться).\n",
    "\n",
    "Как мы могли пронаблюдать, счётчики являются конкурентной альтернативой one-hot-кодированию. Опишите, какие плюсы и минусы использования счётчиков по сравнению с one-hot-кодированием вы заметили.\n",
    "\n",
    "__Ответ:__ # your answer here"
   ]
  },
  {
   "cell_type": "markdown",
   "metadata": {
    "id": "_oU4I7HjP75f"
   },
   "source": [
    "# Часть 3. Отбор признаков"
   ]
  },
  {
   "cell_type": "markdown",
   "metadata": {
    "id": "JKb6BsQMP75f"
   },
   "source": [
    "Важной частью процесса построения модели является отбор признаков. На практике многие признаки оказывают малое влияние на модель (при этом их расчёт занимает время) или даже негативно сказываются на качестве модели. Попробуем несколько подходов отбора признаков, оценим, как они влияют на качество модели и сколько времени занимают.\n",
    "\n",
    "Обратимся к тем же данным про предсказание дохода."
   ]
  },
  {
   "cell_type": "code",
   "execution_count": null,
   "metadata": {
    "id": "k-_L9TJ8P75f"
   },
   "outputs": [],
   "source": [
    "columns = ['age', 'workclass', 'fnlwgt', 'education', \n",
    "           'education-num', 'marital-status', 'occupation',\n",
    "           'relationship', 'race', 'sex', 'capital-gain', \n",
    "           'capital-loss', 'hours-per-week', 'native-country',\n",
    "           'income']\n",
    "\n",
    "df = pd.read_csv('adult.data', header=None, names=columns)\n",
    "df['income'] = (df['income'] != \" <=50K\").astype('int32')"
   ]
  },
  {
   "cell_type": "markdown",
   "metadata": {
    "id": "iGqys4ZpiXjr"
   },
   "source": [
    "Разделите выборку на обучающую и тестовую в соотношении 3:1. Зафиксируйте `random_state=777`, также используйте `stratify`. "
   ]
  },
  {
   "cell_type": "code",
   "metadata": {
    "id": "M2TT35c_iYc-",
    "ExecuteTime": {
     "end_time": "2025-02-02T14:41:25.332756Z",
     "start_time": "2025-02-02T14:41:20.339865Z"
    }
   },
   "source": [
    "df = get_df()\n",
    "X = df.drop('income', axis=1)\n",
    "y = df['income']\n",
    "X_train, X_test, y_train, y_test = train_test_split(X, y, test_size=0.25, random_state=777, stratify=y)"
   ],
   "outputs": [],
   "execution_count": 342
  },
  {
   "cell_type": "markdown",
   "metadata": {
    "id": "-uAlw2X-P75f"
   },
   "source": [
    "Давайте закодируем все категориальные признаки с помощью One-hot Encoding, считая возраст и число часов числовыми. Сколько новых признаков мы получим?"
   ]
  },
  {
   "metadata": {
    "ExecuteTime": {
     "end_time": "2025-02-02T14:41:25.382362Z",
     "start_time": "2025-02-02T14:41:25.332756Z"
    }
   },
   "cell_type": "code",
   "source": [
    "ohe = OneHotEncoder(handle_unknown=\"ignore\", sparse_output=False)\n",
    "encoded_сat_features = ohe.fit_transform(X_train[categorical])\n",
    "encoded_test = ohe.transform(X_test[categorical])\n",
    "encoded_cat_feature_names = ohe.get_feature_names_out(categorical)\n",
    "encoded_data_train = pd.DataFrame(encoded_сat_features, columns=encoded_cat_feature_names, index=X_train.index)\n",
    "encoded_data_test = pd.DataFrame(encoded_test, columns=encoded_cat_feature_names, index=X_test.index)\n",
    "X_train.drop(categorical, axis=1, inplace=True)\n",
    "X_test.drop(categorical, axis=1, inplace=True)"
   ],
   "outputs": [],
   "execution_count": 343
  },
  {
   "metadata": {
    "ExecuteTime": {
     "end_time": "2025-02-02T14:41:25.402581Z",
     "start_time": "2025-02-02T14:41:25.382362Z"
    }
   },
   "cell_type": "code",
   "source": [
    "X_train = pd.merge(encoded_data_train, X_train, left_index=True, right_index=True)\n",
    "X_test = pd.merge(encoded_data_test, X_test, left_index=True, right_index=True)\n"
   ],
   "outputs": [],
   "execution_count": 344
  },
  {
   "metadata": {
    "ExecuteTime": {
     "end_time": "2025-02-02T14:41:39.561565Z",
     "start_time": "2025-02-02T14:41:39.556722Z"
    }
   },
   "cell_type": "code",
   "source": "X_train.shape, X.shape",
   "outputs": [
    {
     "data": {
      "text/plain": [
       "((24420, 108), (32561, 14))"
      ]
     },
     "execution_count": 346,
     "metadata": {},
     "output_type": "execute_result"
    }
   ],
   "execution_count": 346
  },
  {
   "metadata": {},
   "cell_type": "markdown",
   "source": "14 -> 108"
  },
  {
   "cell_type": "markdown",
   "metadata": {
    "id": "kq-XZwf3P75g"
   },
   "source": [
    "В качестве основной модели будем использовать логистическую регрессию, а целевой метрики — `AUC-PR`. Обучите модель и посчитайте качество на тестовой выборке. Давайте запомним полученное значение."
   ]
  },
  {
   "cell_type": "code",
   "metadata": {
    "id": "XMH5D_6OP75g",
    "ExecuteTime": {
     "end_time": "2025-02-02T14:45:03.528259Z",
     "start_time": "2025-02-02T14:45:02.874696Z"
    }
   },
   "source": [
    "model = sklearn.linear_model.LogisticRegression(penalty='l2')\n",
    "model.fit(X_train, y_train)\n",
    "y_pred = model.predict_proba(X_test)[:, 1]\n",
    "\n",
    "print('AUC-ROC: %.5f' % roc_auc_score(y_test, y_pred))\n",
    "print('AUC-PR: %.5f' % average_precision_score(y_test, y_pred))"
   ],
   "outputs": [
    {
     "name": "stderr",
     "output_type": "stream",
     "text": [
      "C:\\Users\\annam\\anaconda3\\Lib\\site-packages\\sklearn\\linear_model\\_logistic.py:465: ConvergenceWarning: lbfgs failed to converge (status=1):\n",
      "STOP: TOTAL NO. of ITERATIONS REACHED LIMIT.\n",
      "\n",
      "Increase the number of iterations (max_iter) or scale the data as shown in:\n",
      "    https://scikit-learn.org/stable/modules/preprocessing.html\n",
      "Please also refer to the documentation for alternative solver options:\n",
      "    https://scikit-learn.org/stable/modules/linear_model.html#logistic-regression\n",
      "  n_iter_i = _check_optimize_result(\n"
     ]
    },
    {
     "name": "stdout",
     "output_type": "stream",
     "text": [
      "AUC-ROC: 0.58618\n",
      "AUC-PR: 0.45119\n"
     ]
    }
   ],
   "execution_count": 348
  },
  {
   "cell_type": "markdown",
   "metadata": {
    "id": "QD7jIiDeP75g"
   },
   "source": [
    "#### __Задание 9. Встроенные методы (0.5 балла)__"
   ]
  },
  {
   "cell_type": "markdown",
   "metadata": {
    "id": "bf2T9xtUP75g"
   },
   "source": [
    "Допустим, мы хотим оставить только 40 лучших признаков. Попробуем сделать это несколькими способами.\n",
    "\n",
    "Начнём с отборам признаков с помощью линейной модели. Как известно, веса линейной модели означают вклад каждого признака в предсказание модели, а значит, модуль этого вклада можно интерпретировать как важность признаков. Такой метод отбора называются встроенным или embedded method, так как он заложен в особенности модели.\n",
    "\n",
    "Оставьте 40 признаков с наибольшим модулем соответствующего параметра линейной модели. Обучите модели заново и оцените её качество. Замерьте скорость такого отбора признаков.\n",
    "\n"
   ]
  },
  {
   "metadata": {
    "ExecuteTime": {
     "end_time": "2025-02-02T15:10:24.009637Z",
     "start_time": "2025-02-02T15:10:24.002188Z"
    }
   },
   "cell_type": "code",
   "source": [
    "important_indexes =np.argsort(np.abs(model.coef_[0]))[::-1]\n",
    "features_to_use = [X_train.columns[i] for i in important_indexes[:40]] #important_indexes"
   ],
   "outputs": [],
   "execution_count": 367
  },
  {
   "metadata": {
    "ExecuteTime": {
     "end_time": "2025-02-02T15:10:56.076424Z",
     "start_time": "2025-02-02T15:10:55.798094Z"
    }
   },
   "cell_type": "code",
   "source": [
    "model = sklearn.linear_model.LogisticRegression(penalty='l2')\n",
    "model.fit(X_train[features_to_use], y_train)\n",
    "y_pred = model.predict_proba(X_test[features_to_use])[:, 1]\n",
    "\n",
    "print('AUC-ROC: %.5f' % roc_auc_score(y_test, y_pred))\n",
    "print('AUC-PR: %.5f' % average_precision_score(y_test, y_pred))"
   ],
   "outputs": [
    {
     "name": "stdout",
     "output_type": "stream",
     "text": [
      "AUC-ROC: 0.88843\n",
      "AUC-PR: 0.69900\n"
     ]
    },
    {
     "name": "stderr",
     "output_type": "stream",
     "text": [
      "C:\\Users\\annam\\anaconda3\\Lib\\site-packages\\sklearn\\linear_model\\_logistic.py:465: ConvergenceWarning: lbfgs failed to converge (status=1):\n",
      "STOP: TOTAL NO. of ITERATIONS REACHED LIMIT.\n",
      "\n",
      "Increase the number of iterations (max_iter) or scale the data as shown in:\n",
      "    https://scikit-learn.org/stable/modules/preprocessing.html\n",
      "Please also refer to the documentation for alternative solver options:\n",
      "    https://scikit-learn.org/stable/modules/linear_model.html#logistic-regression\n",
      "  n_iter_i = _check_optimize_result(\n"
     ]
    }
   ],
   "execution_count": 368
  },
  {
   "cell_type": "markdown",
   "metadata": {
    "id": "CCmtS99eVVrC"
   },
   "source": [
    "Изменилось ли качество? Как?"
   ]
  },
  {
   "cell_type": "markdown",
   "metadata": {
    "id": "E5y5hVyYP75h"
   },
   "source": [
    "Подумаем, что мы не учли. Мы действовали в предположении, что признаки вносят вклад равномерно, и не учитывали их масштаб. Если мы умножим один из признаков в 100 раз, то без учёта регуляризации его вес уменьшится в эти же 100 раз. А мы на основе этого отбираем признаки! Давайте сначала отмасштабируем признаки одним из способов, а только потом будем удалять признаки. \n",
    "\n",
    "Кстати, в таком случае надо пересчитать качество на всех признаках (сделайте это ниже). Если вы сделали нормирование признаков в самом начале, то попробуйте отобрать признаки на неотмасштабированных данных.\n",
    "\n",
    "Что получилось?"
   ]
  },
  {
   "metadata": {
    "ExecuteTime": {
     "end_time": "2025-02-02T15:22:36.542131Z",
     "start_time": "2025-02-02T15:22:36.471063Z"
    }
   },
   "cell_type": "code",
   "source": [
    "scaler = StandardScaler()\n",
    "columns = X_train.columns\n",
    "X_train = pd.DataFrame(scaler.fit_transform(X_train), columns=columns, index=X_train.index)\n",
    "X_test = pd.DataFrame(scaler.transform(X_test), columns=columns, index=X_test.index)"
   ],
   "outputs": [],
   "execution_count": 374
  },
  {
   "metadata": {
    "ExecuteTime": {
     "end_time": "2025-02-02T15:25:55.508912Z",
     "start_time": "2025-02-02T15:25:55.289519Z"
    }
   },
   "cell_type": "code",
   "source": [
    "model = sklearn.linear_model.LogisticRegression(penalty='l2')\n",
    "model.fit(X_train, y_train)\n",
    "\n",
    "important_indexes =np.argsort(np.abs(model.coef_[0]))[::-1]\n",
    "features_to_use = [X_train.columns[i] for i in important_indexes[:40]] #important_indexes\n",
    "\n",
    "model = sklearn.linear_model.LogisticRegression(penalty='l2')\n",
    "model.fit(X_train[features_to_use], y_train)\n",
    "\n",
    "y_pred = model.predict_proba(X_test[features_to_use])[:, 1]\n",
    "\n",
    "print('AUC-ROC: %.5f' % roc_auc_score(y_test, y_pred))\n",
    "print('AUC-PR: %.5f' % average_precision_score(y_test, y_pred))"
   ],
   "outputs": [
    {
     "name": "stdout",
     "output_type": "stream",
     "text": [
      "AUC-ROC: 0.90572\n",
      "AUC-PR: 0.75822\n"
     ]
    }
   ],
   "execution_count": 375
  },
  {
   "cell_type": "markdown",
   "metadata": {
    "id": "OLZJRpxjP75h"
   },
   "source": [
    "Вопрос на засыпку: one-hot кодирование возвращает нам единичные признаки-индикаторы. Попробуйте также отскалировать их, как и обычные числовые, и снова выбрать 40 главных по вкладу признаков. Изменился ли их список? Изменится ли качество?"
   ]
  },
  {
   "metadata": {},
   "cell_type": "markdown",
   "source": "у меня на оборот"
  },
  {
   "metadata": {
    "ExecuteTime": {
     "end_time": "2025-02-02T15:39:18.085273Z",
     "start_time": "2025-02-02T15:39:13.087833Z"
    }
   },
   "cell_type": "code",
   "source": [
    "df = get_df()\n",
    "X = df.drop('income', axis=1)\n",
    "y = df['income']\n",
    "X_train, X_test, y_train, y_test = train_test_split(X, y, test_size=0.25, random_state=777, stratify=y)"
   ],
   "outputs": [],
   "execution_count": 390
  },
  {
   "metadata": {
    "ExecuteTime": {
     "end_time": "2025-02-02T15:39:18.195090Z",
     "start_time": "2025-02-02T15:39:18.085273Z"
    }
   },
   "cell_type": "code",
   "source": [
    "ohe = OneHotEncoder(handle_unknown=\"ignore\", sparse_output=False)\n",
    "encoded_сat_features = ohe.fit_transform(X_train[categorical])\n",
    "encoded_test = ohe.transform(X_test[categorical])\n",
    "encoded_cat_feature_names = ohe.get_feature_names_out(categorical)\n",
    "encoded_data_train = pd.DataFrame(encoded_сat_features, columns=encoded_cat_feature_names, index=X_train.index)\n",
    "encoded_data_test = pd.DataFrame(encoded_test, columns=encoded_cat_feature_names, index=X_test.index)\n",
    "X_train.drop(categorical, axis=1, inplace=True)\n",
    "X_test.drop(categorical, axis=1, inplace=True)\n",
    "scaler = StandardScaler()\n",
    "scaled_names = X_train.columns\n",
    "\n",
    "X_train = pd.DataFrame(scaler.fit_transform(X_train), columns=scaled_names, index=X_train.index)\n",
    "X_test = pd.DataFrame(scaler.transform(X_test), columns=scaled_names, index=X_test.index)\n",
    "\n",
    "X_train = pd.merge(encoded_data_train, X_train, left_index=True, right_index=True)\n",
    "X_test = pd.merge(encoded_data_test, X_test, left_index=True, right_index=True)"
   ],
   "outputs": [],
   "execution_count": 391
  },
  {
   "cell_type": "code",
   "metadata": {
    "id": "VpGE8ll5P75h",
    "ExecuteTime": {
     "end_time": "2025-02-02T16:46:32.778267Z",
     "start_time": "2025-02-02T16:46:32.394714Z"
    }
   },
   "source": [
    "model = sklearn.linear_model.LogisticRegression(penalty='l2')\n",
    "model.fit(X_train, y_train)\n",
    "\n",
    "important_indexes =np.argsort(np.abs(model.coef_[0]))[::-1]\n",
    "features_to_use = [X_train.columns[i] for i in important_indexes[:40]] #important_indexes\n",
    "\n",
    "model = sklearn.linear_model.LogisticRegression(penalty='l2')\n",
    "model.fit(X_train[features_to_use], y_train)\n",
    "\n",
    "y_pred = model.predict_proba(X_test[features_to_use])[:, 1]\n",
    "\n",
    "print('AUC-ROC: %.5f' % roc_auc_score(y_test, y_pred))\n",
    "print('AUC-PR: %.5f' % average_precision_score(y_test, y_pred))"
   ],
   "outputs": [
    {
     "name": "stdout",
     "output_type": "stream",
     "text": [
      "AUC-ROC: 0.89800\n",
      "AUC-PR: 0.73753\n"
     ]
    }
   ],
   "execution_count": 394
  },
  {
   "cell_type": "markdown",
   "metadata": {
    "id": "3nK78Ag2P75i"
   },
   "source": [
    "#### __Задание 10. Методы фильтрации (0.5 балла)__\n",
    "\n",
    "\n",
    "Давайте отбирать признаки умнее, а именно через подсчёт некоторой функции для каждого признака. На основании значений этой функции будем оставлять наиболее важные признаки. Методы этого семейства называют фильтрующими или  filter methods. \n",
    "\n",
    "В качестве такой функции будем считать t-статистику:\n",
    "\n",
    "$$t(j) = \\frac{|\\mu_+ - \\mu_-|}{\\sqrt{\\frac{n_+ \\sigma^2_+ + n_- \\sigma^2_-}{n_+ + n_-}}},$$\n",
    "\n",
    "где $\\mu$, $\\sigma$, $n$ соответственно среднее, стандартное отклонение и количество объектов каждого из классов.\n",
    "\n",
    "Оставьте 40 признаков с наибольшим значением $t$, замерьте качество и скорость отбора признаков.\n",
    "\n"
   ]
  },
  {
   "metadata": {
    "ExecuteTime": {
     "end_time": "2025-02-02T17:14:59.743870Z",
     "start_time": "2025-02-02T17:14:56.721909Z"
    }
   },
   "cell_type": "code",
   "source": [
    "df = get_df()\n",
    "X = df.drop('income', axis=1)\n",
    "y = df['income']\n",
    "X_train, X_test, y_train, y_test = train_test_split(X, y, test_size=0.25, random_state=777, stratify=y)\n",
    "\n",
    "ohe = OneHotEncoder(handle_unknown=\"ignore\", sparse_output=False)\n",
    "encoded_сat_features = ohe.fit_transform(X_train[categorical])\n",
    "encoded_test = ohe.transform(X_test[categorical])\n",
    "encoded_cat_feature_names = ohe.get_feature_names_out(categorical)\n",
    "encoded_data_train = pd.DataFrame(encoded_сat_features, columns=encoded_cat_feature_names, index=X_train.index)\n",
    "encoded_data_test = pd.DataFrame(encoded_test, columns=encoded_cat_feature_names, index=X_test.index)\n",
    "X_train.drop(categorical, axis=1, inplace=True)\n",
    "X_test.drop(categorical, axis=1, inplace=True)\n",
    "\n",
    "\n",
    "X_train = pd.merge(encoded_data_train, X_train, left_index=True, right_index=True)\n",
    "X_test = pd.merge(encoded_data_test, X_test, left_index=True, right_index=True)\n",
    "\n",
    "scaler = StandardScaler()\n",
    "columns = X_train.columns\n",
    "X_train = pd.DataFrame(scaler.fit_transform(X_train), columns=columns, index=X_train.index)\n",
    "X_test = pd.DataFrame(scaler.transform(X_test), columns=columns, index=X_test.index)"
   ],
   "outputs": [],
   "execution_count": 414
  },
  {
   "cell_type": "code",
   "metadata": {
    "id": "0snv1D-hP75i",
    "ExecuteTime": {
     "end_time": "2025-02-02T17:15:08.942233Z",
     "start_time": "2025-02-02T17:15:06.058338Z"
    }
   },
   "source": [
    "import math\n",
    "\n",
    "n_pl = y_train.sum()\n",
    "n_mi = y_train.count() - n_pl\n",
    "\n",
    "t_val = []\n",
    "\n",
    "for col_name in X_train.columns:\n",
    "    #mu\n",
    "    mu_pl = X_train[y_train == 1][col_name].mean()\n",
    "    mu_mi = X_train[y_train != 1][col_name].mean()\n",
    "    #sigma\n",
    "    sigma_pl = X_train[y_train == 1][col_name].std()\n",
    "    sigma_mi = X_train[y_train != 1][col_name].std()\n",
    "    \n",
    "    new_t = abs(mu_pl - mu_mi) / np.sqrt((n_pl * sigma_pl**2 + n_mi * sigma_mi**2)/(n_pl + n_mi))\n",
    "    \n",
    "    t_val.append(new_t)"
   ],
   "outputs": [],
   "execution_count": 416
  },
  {
   "metadata": {
    "ExecuteTime": {
     "end_time": "2025-02-02T17:15:08.947950Z",
     "start_time": "2025-02-02T17:15:08.942233Z"
    }
   },
   "cell_type": "code",
   "source": [
    "important_indexes =np.argsort(t_val)[::-1]\n",
    "features_to_use = [X_train.columns[i] for i in important_indexes[:40]]"
   ],
   "outputs": [],
   "execution_count": 417
  },
  {
   "metadata": {
    "ExecuteTime": {
     "end_time": "2025-02-02T17:15:11.133825Z",
     "start_time": "2025-02-02T17:15:11.017708Z"
    }
   },
   "cell_type": "code",
   "source": [
    "model = sklearn.linear_model.LogisticRegression(penalty='l2')\n",
    "model.fit(X_train[features_to_use], y_train)\n",
    "\n",
    "y_pred = model.predict_proba(X_test[features_to_use])[:, 1]\n",
    "print('AUC-ROC: %.5f' % roc_auc_score(y_test, y_pred))\n",
    "print('AUC-PR: %.5f' % average_precision_score(y_test, y_pred))"
   ],
   "outputs": [
    {
     "name": "stdout",
     "output_type": "stream",
     "text": [
      "AUC-ROC: 0.90567\n",
      "AUC-PR: 0.75740\n"
     ]
    }
   ],
   "execution_count": 418
  },
  {
   "metadata": {},
   "cell_type": "markdown",
   "source": "попробуем скалировать только числовые"
  },
  {
   "metadata": {
    "ExecuteTime": {
     "end_time": "2025-02-02T17:16:35.810329Z",
     "start_time": "2025-02-02T17:16:33.085723Z"
    }
   },
   "cell_type": "code",
   "source": [
    "df = get_df()\n",
    "X = df.drop('income', axis=1)\n",
    "y = df['income']\n",
    "X_train, X_test, y_train, y_test = train_test_split(X, y, test_size=0.25, random_state=777, stratify=y)\n",
    "\n",
    "ohe = OneHotEncoder(handle_unknown=\"ignore\", sparse_output=False)\n",
    "encoded_сat_features = ohe.fit_transform(X_train[categorical])\n",
    "encoded_test = ohe.transform(X_test[categorical])\n",
    "encoded_cat_feature_names = ohe.get_feature_names_out(categorical)\n",
    "encoded_data_train = pd.DataFrame(encoded_сat_features, columns=encoded_cat_feature_names, index=X_train.index)\n",
    "encoded_data_test = pd.DataFrame(encoded_test, columns=encoded_cat_feature_names, index=X_test.index)\n",
    "X_train.drop(categorical, axis=1, inplace=True)\n",
    "X_test.drop(categorical, axis=1, inplace=True)\n",
    "scaler = StandardScaler()\n",
    "scaled_names = X_train.columns\n",
    "\n",
    "X_train = pd.DataFrame(scaler.fit_transform(X_train), columns=scaled_names, index=X_train.index)\n",
    "X_test = pd.DataFrame(scaler.transform(X_test), columns=scaled_names, index=X_test.index)\n",
    "\n",
    "X_train = pd.merge(encoded_data_train, X_train, left_index=True, right_index=True)\n",
    "X_test = pd.merge(encoded_data_test, X_test, left_index=True, right_index=True)"
   ],
   "outputs": [],
   "execution_count": 419
  },
  {
   "metadata": {
    "ExecuteTime": {
     "end_time": "2025-02-02T17:16:50.033784Z",
     "start_time": "2025-02-02T17:16:49.855334Z"
    }
   },
   "cell_type": "code",
   "source": [
    "model = sklearn.linear_model.LogisticRegression(penalty='l2')\n",
    "model.fit(X_train[features_to_use], y_train)\n",
    "\n",
    "y_pred = model.predict_proba(X_test[features_to_use])[:, 1]\n",
    "print('AUC-ROC: %.5f' % roc_auc_score(y_test, y_pred))\n",
    "print('AUC-PR: %.5f' % average_precision_score(y_test, y_pred))"
   ],
   "outputs": [
    {
     "name": "stdout",
     "output_type": "stream",
     "text": [
      "AUC-ROC: 0.90571\n",
      "AUC-PR: 0.75753\n"
     ]
    }
   ],
   "execution_count": 420
  },
  {
   "cell_type": "markdown",
   "metadata": {
    "id": "zO63RNCLP75i"
   },
   "source": [
    "#### __Задание 11. Методы-обёртки__ (1 балл) \n",
    "\n",
    "Третий из рассматриваемых нами методов работает следующим образом: мы исключаем по очереди один из признаков и смотрим, как это влияет на качество. Удаляем признаки таким жадным способом, пока не окажется выполненым некоторое условие (количество признаков или ухудшение качества). Более конкретно, на каждом шаге мы будем удалять такой признак $j$, что качество модели на множестве оставшихся признаков без $j$ максимально, то есть удалять мы будем наиболее бесполезный признак.\n",
    "\n",
    "Заметим, что нельзя оценивать качество по тестовой выборке, иначе мы можем переобучиться, как, например, при настройке гиперпараметров. Разделите обучающую выборку на 2 части, на одной из них обучайте модель без одного из признаков,  на второй части оценивайте качество. Исходную тестовую выборку стоит использовать только для финальной оценки качества.\n",
    "\n",
    "Снова оставьте только 40 признаков и оцените качество на тестовой выборке. Сколько времени занял такой отбор признаков?"
   ]
  },
  {
   "metadata": {
    "ExecuteTime": {
     "end_time": "2025-02-02T18:03:28.170369Z",
     "start_time": "2025-02-02T18:03:24.501031Z"
    }
   },
   "cell_type": "code",
   "source": [
    "df = get_df()\n",
    "X = df.drop('income', axis=1)\n",
    "y = df['income']\n",
    "X_train, X_test, y_train, y_test = train_test_split(X, y, test_size=0.25, random_state=777, stratify=y)\n",
    "\n",
    "ohe = OneHotEncoder(handle_unknown=\"ignore\", sparse_output=False)\n",
    "encoded_сat_features = ohe.fit_transform(X_train[categorical])\n",
    "encoded_test = ohe.transform(X_test[categorical])\n",
    "encoded_cat_feature_names = ohe.get_feature_names_out(categorical)\n",
    "encoded_data_train = pd.DataFrame(encoded_сat_features, columns=encoded_cat_feature_names, index=X_train.index)\n",
    "encoded_data_test = pd.DataFrame(encoded_test, columns=encoded_cat_feature_names, index=X_test.index)\n",
    "X_train.drop(categorical, axis=1, inplace=True)\n",
    "X_test.drop(categorical, axis=1, inplace=True)\n",
    "\n",
    "\n",
    "X_train = pd.merge(encoded_data_train, X_train, left_index=True, right_index=True)\n",
    "X_test = pd.merge(encoded_data_test, X_test, left_index=True, right_index=True)\n",
    "\n",
    "scaler = StandardScaler()\n",
    "columns = X_train.columns\n",
    "X_train = pd.DataFrame(scaler.fit_transform(X_train), columns=columns, index=X_train.index)\n",
    "X_test = pd.DataFrame(scaler.transform(X_test), columns=columns, index=X_test.index)"
   ],
   "outputs": [],
   "execution_count": 421
  },
  {
   "cell_type": "code",
   "metadata": {
    "id": "ISGdzDQQP75j",
    "ExecuteTime": {
     "end_time": "2025-02-02T19:10:00.673385Z",
     "start_time": "2025-02-02T19:03:15.333275Z"
    }
   },
   "source": [
    "iter_num = 0\n",
    "features_to_drop = []\n",
    "cur_best_score = 0\n",
    "X_train1, X_test1, y_train1, y_test1 = train_test_split(X_train, y_train, test_size=0.3)\n",
    "while True:\n",
    "    iter_num += 1\n",
    "    print(\"Iteration \" + str(iter_num))\n",
    "    cur_best_feature = ''\n",
    "    for feature in X_train1.columns:\n",
    "        model = sklearn.linear_model.LogisticRegression(penalty='l2')\n",
    "        model.fit(X_train1.drop(features_to_drop + [feature], axis=1), y_train1)\n",
    "        pred = model.predict_proba(X_test1.drop(features_to_drop + [feature], axis=1))[:, 1]\n",
    "        if cur_best_score < average_precision_score(y_test1, pred):\n",
    "            cur_best_feature = feature\n",
    "            cur_best_score = average_precision_score(y_test1, pred)\n",
    "    if cur_best_feature == '':\n",
    "        print('cant get better score')\n",
    "        break\n",
    "    features_to_drop.append(cur_best_feature)\n",
    "    if len(X_train1.columns) - len(features_to_drop) == 40:\n",
    "        print('40 features left')\n",
    "        break\n",
    "    print(\"Best score \" + str(cur_best_score) + '; features_todrop =', features_to_drop)\n",
    "\n",
    "    \n",
    "        \n",
    "    "
   ],
   "outputs": [
    {
     "name": "stdout",
     "output_type": "stream",
     "text": [
      "Iteration 1\n",
      "Best score 0.764296936439903; features_todrop = ['native-country_ Peru']\n",
      "Iteration 2\n",
      "Best score 0.7647422892701352; features_todrop = ['native-country_ Peru', 'native-country_ Japan']\n",
      "Iteration 3\n",
      "Best score 0.7653298956786445; features_todrop = ['native-country_ Peru', 'native-country_ Japan', 'native-country_ Haiti']\n",
      "Iteration 4\n",
      "Best score 0.7655362853925856; features_todrop = ['native-country_ Peru', 'native-country_ Japan', 'native-country_ Haiti', 'native-country_ Thailand']\n",
      "Iteration 5\n",
      "Best score 0.7658890497245807; features_todrop = ['native-country_ Peru', 'native-country_ Japan', 'native-country_ Haiti', 'native-country_ Thailand', 'native-country_ El-Salvador']\n",
      "Iteration 6\n",
      "Best score 0.766236410156518; features_todrop = ['native-country_ Peru', 'native-country_ Japan', 'native-country_ Haiti', 'native-country_ Thailand', 'native-country_ El-Salvador', 'native-country_ Germany']\n",
      "Iteration 7\n",
      "Best score 0.7665118320224659; features_todrop = ['native-country_ Peru', 'native-country_ Japan', 'native-country_ Haiti', 'native-country_ Thailand', 'native-country_ El-Salvador', 'native-country_ Germany', 'native-country_ Iran']\n",
      "Iteration 8\n",
      "Best score 0.7666425059465497; features_todrop = ['native-country_ Peru', 'native-country_ Japan', 'native-country_ Haiti', 'native-country_ Thailand', 'native-country_ El-Salvador', 'native-country_ Germany', 'native-country_ Iran', 'native-country_ Jamaica']\n",
      "Iteration 9\n",
      "Best score 0.7668485060688999; features_todrop = ['native-country_ Peru', 'native-country_ Japan', 'native-country_ Haiti', 'native-country_ Thailand', 'native-country_ El-Salvador', 'native-country_ Germany', 'native-country_ Iran', 'native-country_ Jamaica', 'native-country_ South']\n",
      "Iteration 10\n",
      "Best score 0.7669322531372145; features_todrop = ['native-country_ Peru', 'native-country_ Japan', 'native-country_ Haiti', 'native-country_ Thailand', 'native-country_ El-Salvador', 'native-country_ Germany', 'native-country_ Iran', 'native-country_ Jamaica', 'native-country_ South', 'occupation_ Tech-support']\n",
      "Iteration 11\n",
      "Best score 0.767292712040642; features_todrop = ['native-country_ Peru', 'native-country_ Japan', 'native-country_ Haiti', 'native-country_ Thailand', 'native-country_ El-Salvador', 'native-country_ Germany', 'native-country_ Iran', 'native-country_ Jamaica', 'native-country_ South', 'occupation_ Tech-support', 'occupation_ Protective-serv']\n",
      "Iteration 12\n",
      "Best score 0.7677597476558818; features_todrop = ['native-country_ Peru', 'native-country_ Japan', 'native-country_ Haiti', 'native-country_ Thailand', 'native-country_ El-Salvador', 'native-country_ Germany', 'native-country_ Iran', 'native-country_ Jamaica', 'native-country_ South', 'occupation_ Tech-support', 'occupation_ Protective-serv', 'occupation_ Sales']\n",
      "Iteration 13\n",
      "Best score 0.7678185923413744; features_todrop = ['native-country_ Peru', 'native-country_ Japan', 'native-country_ Haiti', 'native-country_ Thailand', 'native-country_ El-Salvador', 'native-country_ Germany', 'native-country_ Iran', 'native-country_ Jamaica', 'native-country_ South', 'occupation_ Tech-support', 'occupation_ Protective-serv', 'occupation_ Sales', 'race_ Amer-Indian-Eskimo']\n",
      "Iteration 14\n",
      "Best score 0.7678548121068648; features_todrop = ['native-country_ Peru', 'native-country_ Japan', 'native-country_ Haiti', 'native-country_ Thailand', 'native-country_ El-Salvador', 'native-country_ Germany', 'native-country_ Iran', 'native-country_ Jamaica', 'native-country_ South', 'occupation_ Tech-support', 'occupation_ Protective-serv', 'occupation_ Sales', 'race_ Amer-Indian-Eskimo', 'native-country_ Hong']\n",
      "Iteration 15\n",
      "Best score 0.7679213738490787; features_todrop = ['native-country_ Peru', 'native-country_ Japan', 'native-country_ Haiti', 'native-country_ Thailand', 'native-country_ El-Salvador', 'native-country_ Germany', 'native-country_ Iran', 'native-country_ Jamaica', 'native-country_ South', 'occupation_ Tech-support', 'occupation_ Protective-serv', 'occupation_ Sales', 'race_ Amer-Indian-Eskimo', 'native-country_ Hong', 'native-country_ Portugal']\n",
      "Iteration 16\n",
      "Best score 0.7679751271038836; features_todrop = ['native-country_ Peru', 'native-country_ Japan', 'native-country_ Haiti', 'native-country_ Thailand', 'native-country_ El-Salvador', 'native-country_ Germany', 'native-country_ Iran', 'native-country_ Jamaica', 'native-country_ South', 'occupation_ Tech-support', 'occupation_ Protective-serv', 'occupation_ Sales', 'race_ Amer-Indian-Eskimo', 'native-country_ Hong', 'native-country_ Portugal', 'workclass_ Federal-gov']\n",
      "Iteration 17\n",
      "Best score 0.7680086328030373; features_todrop = ['native-country_ Peru', 'native-country_ Japan', 'native-country_ Haiti', 'native-country_ Thailand', 'native-country_ El-Salvador', 'native-country_ Germany', 'native-country_ Iran', 'native-country_ Jamaica', 'native-country_ South', 'occupation_ Tech-support', 'occupation_ Protective-serv', 'occupation_ Sales', 'race_ Amer-Indian-Eskimo', 'native-country_ Hong', 'native-country_ Portugal', 'workclass_ Federal-gov', 'native-country_ Taiwan']\n",
      "Iteration 18\n",
      "Best score 0.7680352169037052; features_todrop = ['native-country_ Peru', 'native-country_ Japan', 'native-country_ Haiti', 'native-country_ Thailand', 'native-country_ El-Salvador', 'native-country_ Germany', 'native-country_ Iran', 'native-country_ Jamaica', 'native-country_ South', 'occupation_ Tech-support', 'occupation_ Protective-serv', 'occupation_ Sales', 'race_ Amer-Indian-Eskimo', 'native-country_ Hong', 'native-country_ Portugal', 'workclass_ Federal-gov', 'native-country_ Taiwan', 'native-country_ Ireland']\n",
      "Iteration 19\n",
      "Best score 0.7680458615937447; features_todrop = ['native-country_ Peru', 'native-country_ Japan', 'native-country_ Haiti', 'native-country_ Thailand', 'native-country_ El-Salvador', 'native-country_ Germany', 'native-country_ Iran', 'native-country_ Jamaica', 'native-country_ South', 'occupation_ Tech-support', 'occupation_ Protective-serv', 'occupation_ Sales', 'race_ Amer-Indian-Eskimo', 'native-country_ Hong', 'native-country_ Portugal', 'workclass_ Federal-gov', 'native-country_ Taiwan', 'native-country_ Ireland', 'workclass_ Never-worked']\n",
      "Iteration 20\n",
      "Best score 0.7680582828676602; features_todrop = ['native-country_ Peru', 'native-country_ Japan', 'native-country_ Haiti', 'native-country_ Thailand', 'native-country_ El-Salvador', 'native-country_ Germany', 'native-country_ Iran', 'native-country_ Jamaica', 'native-country_ South', 'occupation_ Tech-support', 'occupation_ Protective-serv', 'occupation_ Sales', 'race_ Amer-Indian-Eskimo', 'native-country_ Hong', 'native-country_ Portugal', 'workclass_ Federal-gov', 'native-country_ Taiwan', 'native-country_ Ireland', 'workclass_ Never-worked', 'native-country_ Scotland']\n",
      "Iteration 21\n",
      "Best score 0.7680589730750785; features_todrop = ['native-country_ Peru', 'native-country_ Japan', 'native-country_ Haiti', 'native-country_ Thailand', 'native-country_ El-Salvador', 'native-country_ Germany', 'native-country_ Iran', 'native-country_ Jamaica', 'native-country_ South', 'occupation_ Tech-support', 'occupation_ Protective-serv', 'occupation_ Sales', 'race_ Amer-Indian-Eskimo', 'native-country_ Hong', 'native-country_ Portugal', 'workclass_ Federal-gov', 'native-country_ Taiwan', 'native-country_ Ireland', 'workclass_ Never-worked', 'native-country_ Scotland', 'native-country_ Holand-Netherlands']\n",
      "Iteration 22\n",
      "Best score 0.7680604843964163; features_todrop = ['native-country_ Peru', 'native-country_ Japan', 'native-country_ Haiti', 'native-country_ Thailand', 'native-country_ El-Salvador', 'native-country_ Germany', 'native-country_ Iran', 'native-country_ Jamaica', 'native-country_ South', 'occupation_ Tech-support', 'occupation_ Protective-serv', 'occupation_ Sales', 'race_ Amer-Indian-Eskimo', 'native-country_ Hong', 'native-country_ Portugal', 'workclass_ Federal-gov', 'native-country_ Taiwan', 'native-country_ Ireland', 'workclass_ Never-worked', 'native-country_ Scotland', 'native-country_ Holand-Netherlands', 'native-country_ Guatemala']\n",
      "Iteration 23\n",
      "Best score 0.7680705332700186; features_todrop = ['native-country_ Peru', 'native-country_ Japan', 'native-country_ Haiti', 'native-country_ Thailand', 'native-country_ El-Salvador', 'native-country_ Germany', 'native-country_ Iran', 'native-country_ Jamaica', 'native-country_ South', 'occupation_ Tech-support', 'occupation_ Protective-serv', 'occupation_ Sales', 'race_ Amer-Indian-Eskimo', 'native-country_ Hong', 'native-country_ Portugal', 'workclass_ Federal-gov', 'native-country_ Taiwan', 'native-country_ Ireland', 'workclass_ Never-worked', 'native-country_ Scotland', 'native-country_ Holand-Netherlands', 'native-country_ Guatemala', 'native-country_ France']\n",
      "Iteration 24\n",
      "Best score 0.7680719042121157; features_todrop = ['native-country_ Peru', 'native-country_ Japan', 'native-country_ Haiti', 'native-country_ Thailand', 'native-country_ El-Salvador', 'native-country_ Germany', 'native-country_ Iran', 'native-country_ Jamaica', 'native-country_ South', 'occupation_ Tech-support', 'occupation_ Protective-serv', 'occupation_ Sales', 'race_ Amer-Indian-Eskimo', 'native-country_ Hong', 'native-country_ Portugal', 'workclass_ Federal-gov', 'native-country_ Taiwan', 'native-country_ Ireland', 'workclass_ Never-worked', 'native-country_ Scotland', 'native-country_ Holand-Netherlands', 'native-country_ Guatemala', 'native-country_ France', 'education_ 11th']\n",
      "Iteration 25\n",
      "Best score 0.7680797746273818; features_todrop = ['native-country_ Peru', 'native-country_ Japan', 'native-country_ Haiti', 'native-country_ Thailand', 'native-country_ El-Salvador', 'native-country_ Germany', 'native-country_ Iran', 'native-country_ Jamaica', 'native-country_ South', 'occupation_ Tech-support', 'occupation_ Protective-serv', 'occupation_ Sales', 'race_ Amer-Indian-Eskimo', 'native-country_ Hong', 'native-country_ Portugal', 'workclass_ Federal-gov', 'native-country_ Taiwan', 'native-country_ Ireland', 'workclass_ Never-worked', 'native-country_ Scotland', 'native-country_ Holand-Netherlands', 'native-country_ Guatemala', 'native-country_ France', 'education_ 11th', 'education_ Preschool']\n",
      "Iteration 26\n",
      "Best score 0.7680846055195204; features_todrop = ['native-country_ Peru', 'native-country_ Japan', 'native-country_ Haiti', 'native-country_ Thailand', 'native-country_ El-Salvador', 'native-country_ Germany', 'native-country_ Iran', 'native-country_ Jamaica', 'native-country_ South', 'occupation_ Tech-support', 'occupation_ Protective-serv', 'occupation_ Sales', 'race_ Amer-Indian-Eskimo', 'native-country_ Hong', 'native-country_ Portugal', 'workclass_ Federal-gov', 'native-country_ Taiwan', 'native-country_ Ireland', 'workclass_ Never-worked', 'native-country_ Scotland', 'native-country_ Holand-Netherlands', 'native-country_ Guatemala', 'native-country_ France', 'education_ 11th', 'education_ Preschool', 'education_ Assoc-acdm']\n",
      "Iteration 27\n",
      "Best score 0.7685507289768572; features_todrop = ['native-country_ Peru', 'native-country_ Japan', 'native-country_ Haiti', 'native-country_ Thailand', 'native-country_ El-Salvador', 'native-country_ Germany', 'native-country_ Iran', 'native-country_ Jamaica', 'native-country_ South', 'occupation_ Tech-support', 'occupation_ Protective-serv', 'occupation_ Sales', 'race_ Amer-Indian-Eskimo', 'native-country_ Hong', 'native-country_ Portugal', 'workclass_ Federal-gov', 'native-country_ Taiwan', 'native-country_ Ireland', 'workclass_ Never-worked', 'native-country_ Scotland', 'native-country_ Holand-Netherlands', 'native-country_ Guatemala', 'native-country_ France', 'education_ 11th', 'education_ Preschool', 'education_ Assoc-acdm', 'education_ Bachelors']\n",
      "Iteration 28\n",
      "Best score 0.7686542989097157; features_todrop = ['native-country_ Peru', 'native-country_ Japan', 'native-country_ Haiti', 'native-country_ Thailand', 'native-country_ El-Salvador', 'native-country_ Germany', 'native-country_ Iran', 'native-country_ Jamaica', 'native-country_ South', 'occupation_ Tech-support', 'occupation_ Protective-serv', 'occupation_ Sales', 'race_ Amer-Indian-Eskimo', 'native-country_ Hong', 'native-country_ Portugal', 'workclass_ Federal-gov', 'native-country_ Taiwan', 'native-country_ Ireland', 'workclass_ Never-worked', 'native-country_ Scotland', 'native-country_ Holand-Netherlands', 'native-country_ Guatemala', 'native-country_ France', 'education_ 11th', 'education_ Preschool', 'education_ Assoc-acdm', 'education_ Bachelors', 'education_ Assoc-voc']\n",
      "Iteration 29\n",
      "Best score 0.7689283997694062; features_todrop = ['native-country_ Peru', 'native-country_ Japan', 'native-country_ Haiti', 'native-country_ Thailand', 'native-country_ El-Salvador', 'native-country_ Germany', 'native-country_ Iran', 'native-country_ Jamaica', 'native-country_ South', 'occupation_ Tech-support', 'occupation_ Protective-serv', 'occupation_ Sales', 'race_ Amer-Indian-Eskimo', 'native-country_ Hong', 'native-country_ Portugal', 'workclass_ Federal-gov', 'native-country_ Taiwan', 'native-country_ Ireland', 'workclass_ Never-worked', 'native-country_ Scotland', 'native-country_ Holand-Netherlands', 'native-country_ Guatemala', 'native-country_ France', 'education_ 11th', 'education_ Preschool', 'education_ Assoc-acdm', 'education_ Bachelors', 'education_ Assoc-voc', 'education_ 5th-6th']\n",
      "Iteration 30\n",
      "Best score 0.7690151949429039; features_todrop = ['native-country_ Peru', 'native-country_ Japan', 'native-country_ Haiti', 'native-country_ Thailand', 'native-country_ El-Salvador', 'native-country_ Germany', 'native-country_ Iran', 'native-country_ Jamaica', 'native-country_ South', 'occupation_ Tech-support', 'occupation_ Protective-serv', 'occupation_ Sales', 'race_ Amer-Indian-Eskimo', 'native-country_ Hong', 'native-country_ Portugal', 'workclass_ Federal-gov', 'native-country_ Taiwan', 'native-country_ Ireland', 'workclass_ Never-worked', 'native-country_ Scotland', 'native-country_ Holand-Netherlands', 'native-country_ Guatemala', 'native-country_ France', 'education_ 11th', 'education_ Preschool', 'education_ Assoc-acdm', 'education_ Bachelors', 'education_ Assoc-voc', 'education_ 5th-6th', 'education_ Doctorate']\n",
      "Iteration 31\n",
      "Best score 0.7690295170680262; features_todrop = ['native-country_ Peru', 'native-country_ Japan', 'native-country_ Haiti', 'native-country_ Thailand', 'native-country_ El-Salvador', 'native-country_ Germany', 'native-country_ Iran', 'native-country_ Jamaica', 'native-country_ South', 'occupation_ Tech-support', 'occupation_ Protective-serv', 'occupation_ Sales', 'race_ Amer-Indian-Eskimo', 'native-country_ Hong', 'native-country_ Portugal', 'workclass_ Federal-gov', 'native-country_ Taiwan', 'native-country_ Ireland', 'workclass_ Never-worked', 'native-country_ Scotland', 'native-country_ Holand-Netherlands', 'native-country_ Guatemala', 'native-country_ France', 'education_ 11th', 'education_ Preschool', 'education_ Assoc-acdm', 'education_ Bachelors', 'education_ Assoc-voc', 'education_ 5th-6th', 'education_ Doctorate', 'education_ 10th']\n",
      "Iteration 32\n",
      "Best score 0.769068599137074; features_todrop = ['native-country_ Peru', 'native-country_ Japan', 'native-country_ Haiti', 'native-country_ Thailand', 'native-country_ El-Salvador', 'native-country_ Germany', 'native-country_ Iran', 'native-country_ Jamaica', 'native-country_ South', 'occupation_ Tech-support', 'occupation_ Protective-serv', 'occupation_ Sales', 'race_ Amer-Indian-Eskimo', 'native-country_ Hong', 'native-country_ Portugal', 'workclass_ Federal-gov', 'native-country_ Taiwan', 'native-country_ Ireland', 'workclass_ Never-worked', 'native-country_ Scotland', 'native-country_ Holand-Netherlands', 'native-country_ Guatemala', 'native-country_ France', 'education_ 11th', 'education_ Preschool', 'education_ Assoc-acdm', 'education_ Bachelors', 'education_ Assoc-voc', 'education_ 5th-6th', 'education_ Doctorate', 'education_ 10th', 'relationship_ Own-child']\n",
      "Iteration 33\n",
      "Best score 0.7691713516922493; features_todrop = ['native-country_ Peru', 'native-country_ Japan', 'native-country_ Haiti', 'native-country_ Thailand', 'native-country_ El-Salvador', 'native-country_ Germany', 'native-country_ Iran', 'native-country_ Jamaica', 'native-country_ South', 'occupation_ Tech-support', 'occupation_ Protective-serv', 'occupation_ Sales', 'race_ Amer-Indian-Eskimo', 'native-country_ Hong', 'native-country_ Portugal', 'workclass_ Federal-gov', 'native-country_ Taiwan', 'native-country_ Ireland', 'workclass_ Never-worked', 'native-country_ Scotland', 'native-country_ Holand-Netherlands', 'native-country_ Guatemala', 'native-country_ France', 'education_ 11th', 'education_ Preschool', 'education_ Assoc-acdm', 'education_ Bachelors', 'education_ Assoc-voc', 'education_ 5th-6th', 'education_ Doctorate', 'education_ 10th', 'relationship_ Own-child', 'relationship_ Other-relative']\n",
      "Iteration 34\n",
      "Best score 0.7691938529066096; features_todrop = ['native-country_ Peru', 'native-country_ Japan', 'native-country_ Haiti', 'native-country_ Thailand', 'native-country_ El-Salvador', 'native-country_ Germany', 'native-country_ Iran', 'native-country_ Jamaica', 'native-country_ South', 'occupation_ Tech-support', 'occupation_ Protective-serv', 'occupation_ Sales', 'race_ Amer-Indian-Eskimo', 'native-country_ Hong', 'native-country_ Portugal', 'workclass_ Federal-gov', 'native-country_ Taiwan', 'native-country_ Ireland', 'workclass_ Never-worked', 'native-country_ Scotland', 'native-country_ Holand-Netherlands', 'native-country_ Guatemala', 'native-country_ France', 'education_ 11th', 'education_ Preschool', 'education_ Assoc-acdm', 'education_ Bachelors', 'education_ Assoc-voc', 'education_ 5th-6th', 'education_ Doctorate', 'education_ 10th', 'relationship_ Own-child', 'relationship_ Other-relative', 'native-country_ Yugoslavia']\n",
      "Iteration 35\n",
      "cant get better score\n"
     ]
    }
   ],
   "execution_count": 425
  },
  {
   "cell_type": "markdown",
   "metadata": {
    "id": "1AEL4z61P75j"
   },
   "source": [
    "Стоит отметить, что с помощью такого метода можно пойти и в обратную сторону. Попробуйте _добавлять_ по одному самому полезному признаку в выборку до тех пор, пока не наберется 40 штук. Найдется ли порог, при котором добавление следующих признаков будет только ухудшать качество модели?"
   ]
  },
  {
   "cell_type": "code",
   "metadata": {
    "id": "ZzF8TzVFP75j",
    "ExecuteTime": {
     "end_time": "2025-02-02T19:30:40.135398Z",
     "start_time": "2025-02-02T19:27:16.393770Z"
    }
   },
   "source": [
    "iter_num = 0\n",
    "features_to_use = []\n",
    "cur_best_score = 0\n",
    "X_train1, X_test1, y_train1, y_test1 = train_test_split(X_train, y_train, test_size=0.3)\n",
    "while True:\n",
    "    iter_num += 1\n",
    "    print(\"Iteration \" + str(iter_num))\n",
    "    cur_best_feature = ''\n",
    "    for feature in X_train1.columns:\n",
    "        model = sklearn.linear_model.LogisticRegression(penalty='l2')\n",
    "        model.fit(X_train1[features_to_use + [feature]], y_train1)\n",
    "        pred = model.predict_proba(X_test1[features_to_use + [feature]])[:, 1]\n",
    "        if cur_best_score < average_precision_score(y_test1, pred):\n",
    "            cur_best_feature = feature\n",
    "            cur_best_score = average_precision_score(y_test1, pred)\n",
    "    if cur_best_feature == '':\n",
    "        print('cant get better score')\n",
    "        break\n",
    "    features_to_use.append(cur_best_feature)\n",
    "    if len(features_to_use) == 40:\n",
    "        print('got 40 features')\n",
    "        break\n",
    "    print(\"Best score \" + str(cur_best_score) + '; features_to_use =', features_to_use)"
   ],
   "outputs": [
    {
     "name": "stdout",
     "output_type": "stream",
     "text": [
      "Iteration 1\n",
      "Best score 0.4493338033249987; features_to_use = ['education-num']\n",
      "Iteration 2\n",
      "Best score 0.6171128336278382; features_to_use = ['education-num', 'marital-status_ Married-civ-spouse']\n",
      "Iteration 3\n",
      "Best score 0.6928065727046273; features_to_use = ['education-num', 'marital-status_ Married-civ-spouse', 'capital-gain']\n",
      "Iteration 4\n",
      "Best score 0.7209496900762443; features_to_use = ['education-num', 'marital-status_ Married-civ-spouse', 'capital-gain', 'age']\n",
      "Iteration 5\n",
      "Best score 0.7325948835781455; features_to_use = ['education-num', 'marital-status_ Married-civ-spouse', 'capital-gain', 'age', 'capital-loss']\n",
      "Iteration 6\n",
      "Best score 0.7387969658715846; features_to_use = ['education-num', 'marital-status_ Married-civ-spouse', 'capital-gain', 'age', 'capital-loss', 'occupation_ Exec-managerial']\n",
      "Iteration 7\n",
      "Best score 0.7447890118090486; features_to_use = ['education-num', 'marital-status_ Married-civ-spouse', 'capital-gain', 'age', 'capital-loss', 'occupation_ Exec-managerial', 'hours-per-week']\n",
      "Iteration 8\n",
      "Best score 0.7490520302423825; features_to_use = ['education-num', 'marital-status_ Married-civ-spouse', 'capital-gain', 'age', 'capital-loss', 'occupation_ Exec-managerial', 'hours-per-week', 'occupation_ Farming-fishing']\n",
      "Iteration 9\n",
      "Best score 0.7518165521346454; features_to_use = ['education-num', 'marital-status_ Married-civ-spouse', 'capital-gain', 'age', 'capital-loss', 'occupation_ Exec-managerial', 'hours-per-week', 'occupation_ Farming-fishing', 'occupation_ Other-service']\n",
      "Iteration 10\n",
      "Best score 0.7538606496680422; features_to_use = ['education-num', 'marital-status_ Married-civ-spouse', 'capital-gain', 'age', 'capital-loss', 'occupation_ Exec-managerial', 'hours-per-week', 'occupation_ Farming-fishing', 'occupation_ Other-service', 'workclass_ Self-emp-not-inc']\n",
      "Iteration 11\n",
      "Best score 0.7552078816159401; features_to_use = ['education-num', 'marital-status_ Married-civ-spouse', 'capital-gain', 'age', 'capital-loss', 'occupation_ Exec-managerial', 'hours-per-week', 'occupation_ Farming-fishing', 'occupation_ Other-service', 'workclass_ Self-emp-not-inc', 'relationship_ Own-child']\n",
      "Iteration 12\n",
      "Best score 0.7564978373049395; features_to_use = ['education-num', 'marital-status_ Married-civ-spouse', 'capital-gain', 'age', 'capital-loss', 'occupation_ Exec-managerial', 'hours-per-week', 'occupation_ Farming-fishing', 'occupation_ Other-service', 'workclass_ Self-emp-not-inc', 'relationship_ Own-child', 'workclass_ Federal-gov']\n",
      "Iteration 13\n",
      "Best score 0.7577436953023654; features_to_use = ['education-num', 'marital-status_ Married-civ-spouse', 'capital-gain', 'age', 'capital-loss', 'occupation_ Exec-managerial', 'hours-per-week', 'occupation_ Farming-fishing', 'occupation_ Other-service', 'workclass_ Self-emp-not-inc', 'relationship_ Own-child', 'workclass_ Federal-gov', 'occupation_ Handlers-cleaners']\n",
      "Iteration 14\n",
      "Best score 0.7587384732124263; features_to_use = ['education-num', 'marital-status_ Married-civ-spouse', 'capital-gain', 'age', 'capital-loss', 'occupation_ Exec-managerial', 'hours-per-week', 'occupation_ Farming-fishing', 'occupation_ Other-service', 'workclass_ Self-emp-not-inc', 'relationship_ Own-child', 'workclass_ Federal-gov', 'occupation_ Handlers-cleaners', 'occupation_ ?']\n",
      "Iteration 15\n",
      "Best score 0.7597357537531311; features_to_use = ['education-num', 'marital-status_ Married-civ-spouse', 'capital-gain', 'age', 'capital-loss', 'occupation_ Exec-managerial', 'hours-per-week', 'occupation_ Farming-fishing', 'occupation_ Other-service', 'workclass_ Self-emp-not-inc', 'relationship_ Own-child', 'workclass_ Federal-gov', 'occupation_ Handlers-cleaners', 'occupation_ ?', 'native-country_ United-States']\n",
      "Iteration 16\n",
      "Best score 0.7603191134515794; features_to_use = ['education-num', 'marital-status_ Married-civ-spouse', 'capital-gain', 'age', 'capital-loss', 'occupation_ Exec-managerial', 'hours-per-week', 'occupation_ Farming-fishing', 'occupation_ Other-service', 'workclass_ Self-emp-not-inc', 'relationship_ Own-child', 'workclass_ Federal-gov', 'occupation_ Handlers-cleaners', 'occupation_ ?', 'native-country_ United-States', 'fnlwgt']\n",
      "Iteration 17\n",
      "Best score 0.760885051064698; features_to_use = ['education-num', 'marital-status_ Married-civ-spouse', 'capital-gain', 'age', 'capital-loss', 'occupation_ Exec-managerial', 'hours-per-week', 'occupation_ Farming-fishing', 'occupation_ Other-service', 'workclass_ Self-emp-not-inc', 'relationship_ Own-child', 'workclass_ Federal-gov', 'occupation_ Handlers-cleaners', 'occupation_ ?', 'native-country_ United-States', 'fnlwgt', 'relationship_ Husband']\n",
      "Iteration 18\n",
      "Best score 0.7622066351167248; features_to_use = ['education-num', 'marital-status_ Married-civ-spouse', 'capital-gain', 'age', 'capital-loss', 'occupation_ Exec-managerial', 'hours-per-week', 'occupation_ Farming-fishing', 'occupation_ Other-service', 'workclass_ Self-emp-not-inc', 'relationship_ Own-child', 'workclass_ Federal-gov', 'occupation_ Handlers-cleaners', 'occupation_ ?', 'native-country_ United-States', 'fnlwgt', 'relationship_ Husband', 'sex_False']\n",
      "Iteration 19\n",
      "Best score 0.7629255934087988; features_to_use = ['education-num', 'marital-status_ Married-civ-spouse', 'capital-gain', 'age', 'capital-loss', 'occupation_ Exec-managerial', 'hours-per-week', 'occupation_ Farming-fishing', 'occupation_ Other-service', 'workclass_ Self-emp-not-inc', 'relationship_ Own-child', 'workclass_ Federal-gov', 'occupation_ Handlers-cleaners', 'occupation_ ?', 'native-country_ United-States', 'fnlwgt', 'relationship_ Husband', 'sex_False', 'marital-status_ Never-married']\n",
      "Iteration 20\n",
      "Best score 0.7634130675693585; features_to_use = ['education-num', 'marital-status_ Married-civ-spouse', 'capital-gain', 'age', 'capital-loss', 'occupation_ Exec-managerial', 'hours-per-week', 'occupation_ Farming-fishing', 'occupation_ Other-service', 'workclass_ Self-emp-not-inc', 'relationship_ Own-child', 'workclass_ Federal-gov', 'occupation_ Handlers-cleaners', 'occupation_ ?', 'native-country_ United-States', 'fnlwgt', 'relationship_ Husband', 'sex_False', 'marital-status_ Never-married', 'occupation_ Transport-moving']\n",
      "Iteration 21\n",
      "Best score 0.7638657862432688; features_to_use = ['education-num', 'marital-status_ Married-civ-spouse', 'capital-gain', 'age', 'capital-loss', 'occupation_ Exec-managerial', 'hours-per-week', 'occupation_ Farming-fishing', 'occupation_ Other-service', 'workclass_ Self-emp-not-inc', 'relationship_ Own-child', 'workclass_ Federal-gov', 'occupation_ Handlers-cleaners', 'occupation_ ?', 'native-country_ United-States', 'fnlwgt', 'relationship_ Husband', 'sex_False', 'marital-status_ Never-married', 'occupation_ Transport-moving', 'relationship_ Wife']\n",
      "Iteration 22\n",
      "Best score 0.7643584002750234; features_to_use = ['education-num', 'marital-status_ Married-civ-spouse', 'capital-gain', 'age', 'capital-loss', 'occupation_ Exec-managerial', 'hours-per-week', 'occupation_ Farming-fishing', 'occupation_ Other-service', 'workclass_ Self-emp-not-inc', 'relationship_ Own-child', 'workclass_ Federal-gov', 'occupation_ Handlers-cleaners', 'occupation_ ?', 'native-country_ United-States', 'fnlwgt', 'relationship_ Husband', 'sex_False', 'marital-status_ Never-married', 'occupation_ Transport-moving', 'relationship_ Wife', 'education_ Prof-school']\n",
      "Iteration 23\n",
      "Best score 0.7647617153937065; features_to_use = ['education-num', 'marital-status_ Married-civ-spouse', 'capital-gain', 'age', 'capital-loss', 'occupation_ Exec-managerial', 'hours-per-week', 'occupation_ Farming-fishing', 'occupation_ Other-service', 'workclass_ Self-emp-not-inc', 'relationship_ Own-child', 'workclass_ Federal-gov', 'occupation_ Handlers-cleaners', 'occupation_ ?', 'native-country_ United-States', 'fnlwgt', 'relationship_ Husband', 'sex_False', 'marital-status_ Never-married', 'occupation_ Transport-moving', 'relationship_ Wife', 'education_ Prof-school', 'native-country_ South']\n",
      "Iteration 24\n",
      "Best score 0.7652148523868213; features_to_use = ['education-num', 'marital-status_ Married-civ-spouse', 'capital-gain', 'age', 'capital-loss', 'occupation_ Exec-managerial', 'hours-per-week', 'occupation_ Farming-fishing', 'occupation_ Other-service', 'workclass_ Self-emp-not-inc', 'relationship_ Own-child', 'workclass_ Federal-gov', 'occupation_ Handlers-cleaners', 'occupation_ ?', 'native-country_ United-States', 'fnlwgt', 'relationship_ Husband', 'sex_False', 'marital-status_ Never-married', 'occupation_ Transport-moving', 'relationship_ Wife', 'education_ Prof-school', 'native-country_ South', 'workclass_ Self-emp-inc']\n",
      "Iteration 25\n",
      "Best score 0.7655649428773884; features_to_use = ['education-num', 'marital-status_ Married-civ-spouse', 'capital-gain', 'age', 'capital-loss', 'occupation_ Exec-managerial', 'hours-per-week', 'occupation_ Farming-fishing', 'occupation_ Other-service', 'workclass_ Self-emp-not-inc', 'relationship_ Own-child', 'workclass_ Federal-gov', 'occupation_ Handlers-cleaners', 'occupation_ ?', 'native-country_ United-States', 'fnlwgt', 'relationship_ Husband', 'sex_False', 'marital-status_ Never-married', 'occupation_ Transport-moving', 'relationship_ Wife', 'education_ Prof-school', 'native-country_ South', 'workclass_ Self-emp-inc', 'native-country_ Columbia']\n",
      "Iteration 26\n",
      "Best score 0.765894031906841; features_to_use = ['education-num', 'marital-status_ Married-civ-spouse', 'capital-gain', 'age', 'capital-loss', 'occupation_ Exec-managerial', 'hours-per-week', 'occupation_ Farming-fishing', 'occupation_ Other-service', 'workclass_ Self-emp-not-inc', 'relationship_ Own-child', 'workclass_ Federal-gov', 'occupation_ Handlers-cleaners', 'occupation_ ?', 'native-country_ United-States', 'fnlwgt', 'relationship_ Husband', 'sex_False', 'marital-status_ Never-married', 'occupation_ Transport-moving', 'relationship_ Wife', 'education_ Prof-school', 'native-country_ South', 'workclass_ Self-emp-inc', 'native-country_ Columbia', 'native-country_ Italy']\n",
      "Iteration 27\n",
      "Best score 0.766183034354043; features_to_use = ['education-num', 'marital-status_ Married-civ-spouse', 'capital-gain', 'age', 'capital-loss', 'occupation_ Exec-managerial', 'hours-per-week', 'occupation_ Farming-fishing', 'occupation_ Other-service', 'workclass_ Self-emp-not-inc', 'relationship_ Own-child', 'workclass_ Federal-gov', 'occupation_ Handlers-cleaners', 'occupation_ ?', 'native-country_ United-States', 'fnlwgt', 'relationship_ Husband', 'sex_False', 'marital-status_ Never-married', 'occupation_ Transport-moving', 'relationship_ Wife', 'education_ Prof-school', 'native-country_ South', 'workclass_ Self-emp-inc', 'native-country_ Columbia', 'native-country_ Italy', 'race_ Amer-Indian-Eskimo']\n",
      "Iteration 28\n",
      "Best score 0.766494451992479; features_to_use = ['education-num', 'marital-status_ Married-civ-spouse', 'capital-gain', 'age', 'capital-loss', 'occupation_ Exec-managerial', 'hours-per-week', 'occupation_ Farming-fishing', 'occupation_ Other-service', 'workclass_ Self-emp-not-inc', 'relationship_ Own-child', 'workclass_ Federal-gov', 'occupation_ Handlers-cleaners', 'occupation_ ?', 'native-country_ United-States', 'fnlwgt', 'relationship_ Husband', 'sex_False', 'marital-status_ Never-married', 'occupation_ Transport-moving', 'relationship_ Wife', 'education_ Prof-school', 'native-country_ South', 'workclass_ Self-emp-inc', 'native-country_ Columbia', 'native-country_ Italy', 'race_ Amer-Indian-Eskimo', 'education_ Assoc-acdm']\n",
      "Iteration 29\n",
      "Best score 0.7667427952485776; features_to_use = ['education-num', 'marital-status_ Married-civ-spouse', 'capital-gain', 'age', 'capital-loss', 'occupation_ Exec-managerial', 'hours-per-week', 'occupation_ Farming-fishing', 'occupation_ Other-service', 'workclass_ Self-emp-not-inc', 'relationship_ Own-child', 'workclass_ Federal-gov', 'occupation_ Handlers-cleaners', 'occupation_ ?', 'native-country_ United-States', 'fnlwgt', 'relationship_ Husband', 'sex_False', 'marital-status_ Never-married', 'occupation_ Transport-moving', 'relationship_ Wife', 'education_ Prof-school', 'native-country_ South', 'workclass_ Self-emp-inc', 'native-country_ Columbia', 'native-country_ Italy', 'race_ Amer-Indian-Eskimo', 'education_ Assoc-acdm', 'native-country_ Philippines']\n",
      "Iteration 30\n",
      "Best score 0.7669784844726393; features_to_use = ['education-num', 'marital-status_ Married-civ-spouse', 'capital-gain', 'age', 'capital-loss', 'occupation_ Exec-managerial', 'hours-per-week', 'occupation_ Farming-fishing', 'occupation_ Other-service', 'workclass_ Self-emp-not-inc', 'relationship_ Own-child', 'workclass_ Federal-gov', 'occupation_ Handlers-cleaners', 'occupation_ ?', 'native-country_ United-States', 'fnlwgt', 'relationship_ Husband', 'sex_False', 'marital-status_ Never-married', 'occupation_ Transport-moving', 'relationship_ Wife', 'education_ Prof-school', 'native-country_ South', 'workclass_ Self-emp-inc', 'native-country_ Columbia', 'native-country_ Italy', 'race_ Amer-Indian-Eskimo', 'education_ Assoc-acdm', 'native-country_ Philippines', 'occupation_ Prof-specialty']\n",
      "Iteration 31\n",
      "Best score 0.7672659365187373; features_to_use = ['education-num', 'marital-status_ Married-civ-spouse', 'capital-gain', 'age', 'capital-loss', 'occupation_ Exec-managerial', 'hours-per-week', 'occupation_ Farming-fishing', 'occupation_ Other-service', 'workclass_ Self-emp-not-inc', 'relationship_ Own-child', 'workclass_ Federal-gov', 'occupation_ Handlers-cleaners', 'occupation_ ?', 'native-country_ United-States', 'fnlwgt', 'relationship_ Husband', 'sex_False', 'marital-status_ Never-married', 'occupation_ Transport-moving', 'relationship_ Wife', 'education_ Prof-school', 'native-country_ South', 'workclass_ Self-emp-inc', 'native-country_ Columbia', 'native-country_ Italy', 'race_ Amer-Indian-Eskimo', 'education_ Assoc-acdm', 'native-country_ Philippines', 'occupation_ Prof-specialty', 'occupation_ Tech-support']\n",
      "Iteration 32\n",
      "Best score 0.7675455499418378; features_to_use = ['education-num', 'marital-status_ Married-civ-spouse', 'capital-gain', 'age', 'capital-loss', 'occupation_ Exec-managerial', 'hours-per-week', 'occupation_ Farming-fishing', 'occupation_ Other-service', 'workclass_ Self-emp-not-inc', 'relationship_ Own-child', 'workclass_ Federal-gov', 'occupation_ Handlers-cleaners', 'occupation_ ?', 'native-country_ United-States', 'fnlwgt', 'relationship_ Husband', 'sex_False', 'marital-status_ Never-married', 'occupation_ Transport-moving', 'relationship_ Wife', 'education_ Prof-school', 'native-country_ South', 'workclass_ Self-emp-inc', 'native-country_ Columbia', 'native-country_ Italy', 'race_ Amer-Indian-Eskimo', 'education_ Assoc-acdm', 'native-country_ Philippines', 'occupation_ Prof-specialty', 'occupation_ Tech-support', 'occupation_ Protective-serv']\n",
      "Iteration 33\n",
      "Best score 0.7677368716256672; features_to_use = ['education-num', 'marital-status_ Married-civ-spouse', 'capital-gain', 'age', 'capital-loss', 'occupation_ Exec-managerial', 'hours-per-week', 'occupation_ Farming-fishing', 'occupation_ Other-service', 'workclass_ Self-emp-not-inc', 'relationship_ Own-child', 'workclass_ Federal-gov', 'occupation_ Handlers-cleaners', 'occupation_ ?', 'native-country_ United-States', 'fnlwgt', 'relationship_ Husband', 'sex_False', 'marital-status_ Never-married', 'occupation_ Transport-moving', 'relationship_ Wife', 'education_ Prof-school', 'native-country_ South', 'workclass_ Self-emp-inc', 'native-country_ Columbia', 'native-country_ Italy', 'race_ Amer-Indian-Eskimo', 'education_ Assoc-acdm', 'native-country_ Philippines', 'occupation_ Prof-specialty', 'occupation_ Tech-support', 'occupation_ Protective-serv', 'education_ 5th-6th']\n",
      "Iteration 34\n",
      "Best score 0.7679381498898588; features_to_use = ['education-num', 'marital-status_ Married-civ-spouse', 'capital-gain', 'age', 'capital-loss', 'occupation_ Exec-managerial', 'hours-per-week', 'occupation_ Farming-fishing', 'occupation_ Other-service', 'workclass_ Self-emp-not-inc', 'relationship_ Own-child', 'workclass_ Federal-gov', 'occupation_ Handlers-cleaners', 'occupation_ ?', 'native-country_ United-States', 'fnlwgt', 'relationship_ Husband', 'sex_False', 'marital-status_ Never-married', 'occupation_ Transport-moving', 'relationship_ Wife', 'education_ Prof-school', 'native-country_ South', 'workclass_ Self-emp-inc', 'native-country_ Columbia', 'native-country_ Italy', 'race_ Amer-Indian-Eskimo', 'education_ Assoc-acdm', 'native-country_ Philippines', 'occupation_ Prof-specialty', 'occupation_ Tech-support', 'occupation_ Protective-serv', 'education_ 5th-6th', 'relationship_ Not-in-family']\n",
      "Iteration 35\n",
      "Best score 0.7681263364565174; features_to_use = ['education-num', 'marital-status_ Married-civ-spouse', 'capital-gain', 'age', 'capital-loss', 'occupation_ Exec-managerial', 'hours-per-week', 'occupation_ Farming-fishing', 'occupation_ Other-service', 'workclass_ Self-emp-not-inc', 'relationship_ Own-child', 'workclass_ Federal-gov', 'occupation_ Handlers-cleaners', 'occupation_ ?', 'native-country_ United-States', 'fnlwgt', 'relationship_ Husband', 'sex_False', 'marital-status_ Never-married', 'occupation_ Transport-moving', 'relationship_ Wife', 'education_ Prof-school', 'native-country_ South', 'workclass_ Self-emp-inc', 'native-country_ Columbia', 'native-country_ Italy', 'race_ Amer-Indian-Eskimo', 'education_ Assoc-acdm', 'native-country_ Philippines', 'occupation_ Prof-specialty', 'occupation_ Tech-support', 'occupation_ Protective-serv', 'education_ 5th-6th', 'relationship_ Not-in-family', 'native-country_ Cuba']\n",
      "Iteration 36\n",
      "Best score 0.7682877649395492; features_to_use = ['education-num', 'marital-status_ Married-civ-spouse', 'capital-gain', 'age', 'capital-loss', 'occupation_ Exec-managerial', 'hours-per-week', 'occupation_ Farming-fishing', 'occupation_ Other-service', 'workclass_ Self-emp-not-inc', 'relationship_ Own-child', 'workclass_ Federal-gov', 'occupation_ Handlers-cleaners', 'occupation_ ?', 'native-country_ United-States', 'fnlwgt', 'relationship_ Husband', 'sex_False', 'marital-status_ Never-married', 'occupation_ Transport-moving', 'relationship_ Wife', 'education_ Prof-school', 'native-country_ South', 'workclass_ Self-emp-inc', 'native-country_ Columbia', 'native-country_ Italy', 'race_ Amer-Indian-Eskimo', 'education_ Assoc-acdm', 'native-country_ Philippines', 'occupation_ Prof-specialty', 'occupation_ Tech-support', 'occupation_ Protective-serv', 'education_ 5th-6th', 'relationship_ Not-in-family', 'native-country_ Cuba', 'native-country_ Greece']\n",
      "Iteration 37\n",
      "Best score 0.7684031420102588; features_to_use = ['education-num', 'marital-status_ Married-civ-spouse', 'capital-gain', 'age', 'capital-loss', 'occupation_ Exec-managerial', 'hours-per-week', 'occupation_ Farming-fishing', 'occupation_ Other-service', 'workclass_ Self-emp-not-inc', 'relationship_ Own-child', 'workclass_ Federal-gov', 'occupation_ Handlers-cleaners', 'occupation_ ?', 'native-country_ United-States', 'fnlwgt', 'relationship_ Husband', 'sex_False', 'marital-status_ Never-married', 'occupation_ Transport-moving', 'relationship_ Wife', 'education_ Prof-school', 'native-country_ South', 'workclass_ Self-emp-inc', 'native-country_ Columbia', 'native-country_ Italy', 'race_ Amer-Indian-Eskimo', 'education_ Assoc-acdm', 'native-country_ Philippines', 'occupation_ Prof-specialty', 'occupation_ Tech-support', 'occupation_ Protective-serv', 'education_ 5th-6th', 'relationship_ Not-in-family', 'native-country_ Cuba', 'native-country_ Greece', 'native-country_ Vietnam']\n",
      "Iteration 38\n",
      "Best score 0.7685163753451046; features_to_use = ['education-num', 'marital-status_ Married-civ-spouse', 'capital-gain', 'age', 'capital-loss', 'occupation_ Exec-managerial', 'hours-per-week', 'occupation_ Farming-fishing', 'occupation_ Other-service', 'workclass_ Self-emp-not-inc', 'relationship_ Own-child', 'workclass_ Federal-gov', 'occupation_ Handlers-cleaners', 'occupation_ ?', 'native-country_ United-States', 'fnlwgt', 'relationship_ Husband', 'sex_False', 'marital-status_ Never-married', 'occupation_ Transport-moving', 'relationship_ Wife', 'education_ Prof-school', 'native-country_ South', 'workclass_ Self-emp-inc', 'native-country_ Columbia', 'native-country_ Italy', 'race_ Amer-Indian-Eskimo', 'education_ Assoc-acdm', 'native-country_ Philippines', 'occupation_ Prof-specialty', 'occupation_ Tech-support', 'occupation_ Protective-serv', 'education_ 5th-6th', 'relationship_ Not-in-family', 'native-country_ Cuba', 'native-country_ Greece', 'native-country_ Vietnam', 'native-country_ Cambodia']\n",
      "Iteration 39\n",
      "Best score 0.7686366649679853; features_to_use = ['education-num', 'marital-status_ Married-civ-spouse', 'capital-gain', 'age', 'capital-loss', 'occupation_ Exec-managerial', 'hours-per-week', 'occupation_ Farming-fishing', 'occupation_ Other-service', 'workclass_ Self-emp-not-inc', 'relationship_ Own-child', 'workclass_ Federal-gov', 'occupation_ Handlers-cleaners', 'occupation_ ?', 'native-country_ United-States', 'fnlwgt', 'relationship_ Husband', 'sex_False', 'marital-status_ Never-married', 'occupation_ Transport-moving', 'relationship_ Wife', 'education_ Prof-school', 'native-country_ South', 'workclass_ Self-emp-inc', 'native-country_ Columbia', 'native-country_ Italy', 'race_ Amer-Indian-Eskimo', 'education_ Assoc-acdm', 'native-country_ Philippines', 'occupation_ Prof-specialty', 'occupation_ Tech-support', 'occupation_ Protective-serv', 'education_ 5th-6th', 'relationship_ Not-in-family', 'native-country_ Cuba', 'native-country_ Greece', 'native-country_ Vietnam', 'native-country_ Cambodia', 'marital-status_ Married-AF-spouse']\n",
      "Iteration 40\n",
      "got 40 features\n"
     ]
    }
   ],
   "execution_count": 429
  },
  {
   "cell_type": "markdown",
   "metadata": {
    "id": "wj6a-BERP75j"
   },
   "source": [
    "Давайте подведём итоги по отбору признаков. Назовите преимущества и недостатки каждого из методов. Какой метод привёл к наилучшему качеству?\n",
    "\n",
    "**Ответ:** "
   ]
  },
  {
   "cell_type": "markdown",
   "metadata": {
    "id": "zrR06pp7P75k"
   },
   "source": [
    "# Часть 4. Оценка экономического эффекта модели\n",
    "\n",
    "> В данной части мы займемся тем, что от вас скорее всего потребуется на реальной работе (помимо перекладки `json`, разумеется). А именно: \n",
    "- мы соберем несколько специализированных метрик качества,\n",
    "- попытаемся настроить модель на максимизацию _прибыли_,\n",
    "- оценим, сколько вообще получится заработать на этом.\n",
    "\n",
    "> Разумеется, здесь будет сделано множество упрощающих жизнь допущений, но обо всем по порядку. Если вы всё прослушали на экономике, то напомним, что выручка — это сколько денег нам принесли клиенты, а прибыль — выручка за вычетом расходов на зарплату и прочее."
   ]
  },
  {
   "cell_type": "markdown",
   "metadata": {
    "id": "NQkW5Xh6yip2"
   },
   "source": [
    "\n",
    "#### __Задание 12. Прогноз по доходам и расходам__ (1 балл)\n",
    "\n",
    "В этой части мы будем работать с данными [UCI Bank Marketing Dataset](https://archive.ics.uci.edu/ml/datasets/bank+marketing). Этот датасет содержит информацию о банковском телефонном маркетинге.\n",
    "\n",
    "__Объектом__ здесь является телефонный звонок потенциальному клиенту с предложением некоторой услуги (утверждается, что это краткосрочный депозит). В качестве признакового описания используются характеристики клиента (образование, брак и т.д.), данные о звонке и различные экономические индикаторы - более подробная информация представлена в файле `bank-additional-names.txt`.\n",
    "__Целевая переменная__ - ответ клиента (согласился ли он открыть депозит?)"
   ]
  },
  {
   "metadata": {
    "ExecuteTime": {
     "end_time": "2025-02-03T11:15:54.681593Z",
     "start_time": "2025-02-03T11:15:52.080599Z"
    }
   },
   "cell_type": "code",
   "source": [
    "import requests\n",
    "import zipfile\n",
    "import io\n",
    "url = \"https://archive.ics.uci.edu/ml/machine-learning-databases/00222/bank-additional.zip\"\n",
    "response = requests.get(url, stream=True)\n",
    "zip_file = zipfile.ZipFile(io.BytesIO(response.content))\n",
    "zip_file.extractall()\n",
    "df = pd.read_csv('bank-additional/bank-additional-full.csv', sep=';')"
   ],
   "outputs": [],
   "execution_count": 457
  },
  {
   "metadata": {
    "ExecuteTime": {
     "end_time": "2025-02-03T11:15:54.693476Z",
     "start_time": "2025-02-03T11:15:54.681593Z"
    }
   },
   "cell_type": "code",
   "source": "df.head(2)",
   "outputs": [
    {
     "data": {
      "text/plain": [
       "   age        job  marital    education  default housing loan    contact  \\\n",
       "0   56  housemaid  married     basic.4y       no      no   no  telephone   \n",
       "1   57   services  married  high.school  unknown      no   no  telephone   \n",
       "\n",
       "  month day_of_week  duration  campaign  pdays  previous     poutcome  \\\n",
       "0   may         mon       261         1    999         0  nonexistent   \n",
       "1   may         mon       149         1    999         0  nonexistent   \n",
       "\n",
       "   emp.var.rate  cons.price.idx  cons.conf.idx  euribor3m  nr.employed   y  \n",
       "0           1.1          93.994          -36.4      4.857       5191.0  no  \n",
       "1           1.1          93.994          -36.4      4.857       5191.0  no  "
      ],
      "text/html": [
       "<div>\n",
       "<style scoped>\n",
       "    .dataframe tbody tr th:only-of-type {\n",
       "        vertical-align: middle;\n",
       "    }\n",
       "\n",
       "    .dataframe tbody tr th {\n",
       "        vertical-align: top;\n",
       "    }\n",
       "\n",
       "    .dataframe thead th {\n",
       "        text-align: right;\n",
       "    }\n",
       "</style>\n",
       "<table border=\"1\" class=\"dataframe\">\n",
       "  <thead>\n",
       "    <tr style=\"text-align: right;\">\n",
       "      <th></th>\n",
       "      <th>age</th>\n",
       "      <th>job</th>\n",
       "      <th>marital</th>\n",
       "      <th>education</th>\n",
       "      <th>default</th>\n",
       "      <th>housing</th>\n",
       "      <th>loan</th>\n",
       "      <th>contact</th>\n",
       "      <th>month</th>\n",
       "      <th>day_of_week</th>\n",
       "      <th>duration</th>\n",
       "      <th>campaign</th>\n",
       "      <th>pdays</th>\n",
       "      <th>previous</th>\n",
       "      <th>poutcome</th>\n",
       "      <th>emp.var.rate</th>\n",
       "      <th>cons.price.idx</th>\n",
       "      <th>cons.conf.idx</th>\n",
       "      <th>euribor3m</th>\n",
       "      <th>nr.employed</th>\n",
       "      <th>y</th>\n",
       "    </tr>\n",
       "  </thead>\n",
       "  <tbody>\n",
       "    <tr>\n",
       "      <th>0</th>\n",
       "      <td>56</td>\n",
       "      <td>housemaid</td>\n",
       "      <td>married</td>\n",
       "      <td>basic.4y</td>\n",
       "      <td>no</td>\n",
       "      <td>no</td>\n",
       "      <td>no</td>\n",
       "      <td>telephone</td>\n",
       "      <td>may</td>\n",
       "      <td>mon</td>\n",
       "      <td>261</td>\n",
       "      <td>1</td>\n",
       "      <td>999</td>\n",
       "      <td>0</td>\n",
       "      <td>nonexistent</td>\n",
       "      <td>1.1</td>\n",
       "      <td>93.994</td>\n",
       "      <td>-36.4</td>\n",
       "      <td>4.857</td>\n",
       "      <td>5191.0</td>\n",
       "      <td>no</td>\n",
       "    </tr>\n",
       "    <tr>\n",
       "      <th>1</th>\n",
       "      <td>57</td>\n",
       "      <td>services</td>\n",
       "      <td>married</td>\n",
       "      <td>high.school</td>\n",
       "      <td>unknown</td>\n",
       "      <td>no</td>\n",
       "      <td>no</td>\n",
       "      <td>telephone</td>\n",
       "      <td>may</td>\n",
       "      <td>mon</td>\n",
       "      <td>149</td>\n",
       "      <td>1</td>\n",
       "      <td>999</td>\n",
       "      <td>0</td>\n",
       "      <td>nonexistent</td>\n",
       "      <td>1.1</td>\n",
       "      <td>93.994</td>\n",
       "      <td>-36.4</td>\n",
       "      <td>4.857</td>\n",
       "      <td>5191.0</td>\n",
       "      <td>no</td>\n",
       "    </tr>\n",
       "  </tbody>\n",
       "</table>\n",
       "</div>"
      ]
     },
     "execution_count": 458,
     "metadata": {},
     "output_type": "execute_result"
    }
   ],
   "execution_count": 458
  },
  {
   "cell_type": "code",
   "metadata": {
    "id": "qmxCn_Pz3kJB",
    "ExecuteTime": {
     "end_time": "2025-02-03T11:15:54.707184Z",
     "start_time": "2025-02-03T11:15:54.693476Z"
    }
   },
   "source": [
    "X = df.drop(columns=['duration', 'y'])\n",
    "y = (df.y == 'yes')\n",
    "categorical = ['job', 'marital', 'education', 'default', 'housing', 'loan', 'contact', 'month', 'day_of_week', 'poutcome']\n",
    "numeric_features = ['age', 'campaign', 'pdays', 'previous', 'emp.var.rate', 'cons.price.idx', 'cons.conf.idx', 'euriborn3m', 'nr.employed']"
   ],
   "outputs": [],
   "execution_count": 459
  },
  {
   "metadata": {
    "ExecuteTime": {
     "end_time": "2025-02-03T11:15:54.793281Z",
     "start_time": "2025-02-03T11:15:54.707184Z"
    }
   },
   "cell_type": "code",
   "source": [
    "ohe = OneHotEncoder(handle_unknown=\"ignore\", sparse_output=False)\n",
    "encoded_сat_features = ohe.fit_transform(X[categorical])\n",
    "encoded_cat_feature_names = ohe.get_feature_names_out(categorical)\n",
    "encoded_data = pd.DataFrame(encoded_сat_features, columns=encoded_cat_feature_names, index=X.index)\n",
    "X.drop(categorical, axis=1, inplace=True)\n",
    "scaler = StandardScaler()\n",
    "scaled_names = X.columns\n",
    "\n",
    "X = pd.DataFrame(scaler.fit_transform(X), columns=scaled_names, index=X.index)\n",
    "\n",
    "X = pd.merge(encoded_data, X, left_index=True, right_index=True)"
   ],
   "outputs": [],
   "execution_count": 460
  },
  {
   "metadata": {
    "ExecuteTime": {
     "end_time": "2025-02-03T11:16:19.525384Z",
     "start_time": "2025-02-03T11:16:19.503912Z"
    }
   },
   "cell_type": "code",
   "source": "X.head(2)",
   "outputs": [
    {
     "data": {
      "text/plain": [
       "   job_admin.  job_blue-collar  job_entrepreneur  job_housemaid  \\\n",
       "0         0.0              0.0               0.0            1.0   \n",
       "1         0.0              0.0               0.0            0.0   \n",
       "\n",
       "   job_management  job_retired  job_self-employed  job_services  job_student  \\\n",
       "0             0.0          0.0                0.0           0.0          0.0   \n",
       "1             0.0          0.0                0.0           1.0          0.0   \n",
       "\n",
       "   job_technician  job_unemployed  job_unknown  marital_divorced  \\\n",
       "0             0.0             0.0          0.0               0.0   \n",
       "1             0.0             0.0          0.0               0.0   \n",
       "\n",
       "   marital_married  marital_single  marital_unknown  education_basic.4y  \\\n",
       "0              1.0             0.0              0.0                 1.0   \n",
       "1              1.0             0.0              0.0                 0.0   \n",
       "\n",
       "   education_basic.6y  education_basic.9y  education_high.school  \\\n",
       "0                 0.0                 0.0                    0.0   \n",
       "1                 0.0                 0.0                    1.0   \n",
       "\n",
       "   education_illiterate  education_professional.course  \\\n",
       "0                   0.0                            0.0   \n",
       "1                   0.0                            0.0   \n",
       "\n",
       "   education_university.degree  education_unknown  default_no  \\\n",
       "0                          0.0                0.0         1.0   \n",
       "1                          0.0                0.0         0.0   \n",
       "\n",
       "   default_unknown  default_yes  housing_no  housing_unknown  housing_yes  \\\n",
       "0              0.0          0.0         1.0              0.0          0.0   \n",
       "1              1.0          0.0         1.0              0.0          0.0   \n",
       "\n",
       "   loan_no  loan_unknown  loan_yes  contact_cellular  contact_telephone  \\\n",
       "0      1.0           0.0       0.0               0.0                1.0   \n",
       "1      1.0           0.0       0.0               0.0                1.0   \n",
       "\n",
       "   month_apr  month_aug  month_dec  month_jul  month_jun  month_mar  \\\n",
       "0        0.0        0.0        0.0        0.0        0.0        0.0   \n",
       "1        0.0        0.0        0.0        0.0        0.0        0.0   \n",
       "\n",
       "   month_may  month_nov  month_oct  month_sep  day_of_week_fri  \\\n",
       "0        1.0        0.0        0.0        0.0              0.0   \n",
       "1        1.0        0.0        0.0        0.0              0.0   \n",
       "\n",
       "   day_of_week_mon  day_of_week_thu  day_of_week_tue  day_of_week_wed  \\\n",
       "0              1.0              0.0              0.0              0.0   \n",
       "1              1.0              0.0              0.0              0.0   \n",
       "\n",
       "   poutcome_failure  poutcome_nonexistent  poutcome_success       age  \\\n",
       "0               0.0                   1.0               0.0  1.533034   \n",
       "1               0.0                   1.0               0.0  1.628993   \n",
       "\n",
       "   campaign     pdays  previous  emp.var.rate  cons.price.idx  cons.conf.idx  \\\n",
       "0 -0.565922  0.195414 -0.349494      0.648092        0.722722       0.886447   \n",
       "1 -0.565922  0.195414 -0.349494      0.648092        0.722722       0.886447   \n",
       "\n",
       "   euribor3m  nr.employed  \n",
       "0    0.71246      0.33168  \n",
       "1    0.71246      0.33168  "
      ],
      "text/html": [
       "<div>\n",
       "<style scoped>\n",
       "    .dataframe tbody tr th:only-of-type {\n",
       "        vertical-align: middle;\n",
       "    }\n",
       "\n",
       "    .dataframe tbody tr th {\n",
       "        vertical-align: top;\n",
       "    }\n",
       "\n",
       "    .dataframe thead th {\n",
       "        text-align: right;\n",
       "    }\n",
       "</style>\n",
       "<table border=\"1\" class=\"dataframe\">\n",
       "  <thead>\n",
       "    <tr style=\"text-align: right;\">\n",
       "      <th></th>\n",
       "      <th>job_admin.</th>\n",
       "      <th>job_blue-collar</th>\n",
       "      <th>job_entrepreneur</th>\n",
       "      <th>job_housemaid</th>\n",
       "      <th>job_management</th>\n",
       "      <th>job_retired</th>\n",
       "      <th>job_self-employed</th>\n",
       "      <th>job_services</th>\n",
       "      <th>job_student</th>\n",
       "      <th>job_technician</th>\n",
       "      <th>job_unemployed</th>\n",
       "      <th>job_unknown</th>\n",
       "      <th>marital_divorced</th>\n",
       "      <th>marital_married</th>\n",
       "      <th>marital_single</th>\n",
       "      <th>marital_unknown</th>\n",
       "      <th>education_basic.4y</th>\n",
       "      <th>education_basic.6y</th>\n",
       "      <th>education_basic.9y</th>\n",
       "      <th>education_high.school</th>\n",
       "      <th>education_illiterate</th>\n",
       "      <th>education_professional.course</th>\n",
       "      <th>education_university.degree</th>\n",
       "      <th>education_unknown</th>\n",
       "      <th>default_no</th>\n",
       "      <th>default_unknown</th>\n",
       "      <th>default_yes</th>\n",
       "      <th>housing_no</th>\n",
       "      <th>housing_unknown</th>\n",
       "      <th>housing_yes</th>\n",
       "      <th>loan_no</th>\n",
       "      <th>loan_unknown</th>\n",
       "      <th>loan_yes</th>\n",
       "      <th>contact_cellular</th>\n",
       "      <th>contact_telephone</th>\n",
       "      <th>month_apr</th>\n",
       "      <th>month_aug</th>\n",
       "      <th>month_dec</th>\n",
       "      <th>month_jul</th>\n",
       "      <th>month_jun</th>\n",
       "      <th>month_mar</th>\n",
       "      <th>month_may</th>\n",
       "      <th>month_nov</th>\n",
       "      <th>month_oct</th>\n",
       "      <th>month_sep</th>\n",
       "      <th>day_of_week_fri</th>\n",
       "      <th>day_of_week_mon</th>\n",
       "      <th>day_of_week_thu</th>\n",
       "      <th>day_of_week_tue</th>\n",
       "      <th>day_of_week_wed</th>\n",
       "      <th>poutcome_failure</th>\n",
       "      <th>poutcome_nonexistent</th>\n",
       "      <th>poutcome_success</th>\n",
       "      <th>age</th>\n",
       "      <th>campaign</th>\n",
       "      <th>pdays</th>\n",
       "      <th>previous</th>\n",
       "      <th>emp.var.rate</th>\n",
       "      <th>cons.price.idx</th>\n",
       "      <th>cons.conf.idx</th>\n",
       "      <th>euribor3m</th>\n",
       "      <th>nr.employed</th>\n",
       "    </tr>\n",
       "  </thead>\n",
       "  <tbody>\n",
       "    <tr>\n",
       "      <th>0</th>\n",
       "      <td>0.0</td>\n",
       "      <td>0.0</td>\n",
       "      <td>0.0</td>\n",
       "      <td>1.0</td>\n",
       "      <td>0.0</td>\n",
       "      <td>0.0</td>\n",
       "      <td>0.0</td>\n",
       "      <td>0.0</td>\n",
       "      <td>0.0</td>\n",
       "      <td>0.0</td>\n",
       "      <td>0.0</td>\n",
       "      <td>0.0</td>\n",
       "      <td>0.0</td>\n",
       "      <td>1.0</td>\n",
       "      <td>0.0</td>\n",
       "      <td>0.0</td>\n",
       "      <td>1.0</td>\n",
       "      <td>0.0</td>\n",
       "      <td>0.0</td>\n",
       "      <td>0.0</td>\n",
       "      <td>0.0</td>\n",
       "      <td>0.0</td>\n",
       "      <td>0.0</td>\n",
       "      <td>0.0</td>\n",
       "      <td>1.0</td>\n",
       "      <td>0.0</td>\n",
       "      <td>0.0</td>\n",
       "      <td>1.0</td>\n",
       "      <td>0.0</td>\n",
       "      <td>0.0</td>\n",
       "      <td>1.0</td>\n",
       "      <td>0.0</td>\n",
       "      <td>0.0</td>\n",
       "      <td>0.0</td>\n",
       "      <td>1.0</td>\n",
       "      <td>0.0</td>\n",
       "      <td>0.0</td>\n",
       "      <td>0.0</td>\n",
       "      <td>0.0</td>\n",
       "      <td>0.0</td>\n",
       "      <td>0.0</td>\n",
       "      <td>1.0</td>\n",
       "      <td>0.0</td>\n",
       "      <td>0.0</td>\n",
       "      <td>0.0</td>\n",
       "      <td>0.0</td>\n",
       "      <td>1.0</td>\n",
       "      <td>0.0</td>\n",
       "      <td>0.0</td>\n",
       "      <td>0.0</td>\n",
       "      <td>0.0</td>\n",
       "      <td>1.0</td>\n",
       "      <td>0.0</td>\n",
       "      <td>1.533034</td>\n",
       "      <td>-0.565922</td>\n",
       "      <td>0.195414</td>\n",
       "      <td>-0.349494</td>\n",
       "      <td>0.648092</td>\n",
       "      <td>0.722722</td>\n",
       "      <td>0.886447</td>\n",
       "      <td>0.71246</td>\n",
       "      <td>0.33168</td>\n",
       "    </tr>\n",
       "    <tr>\n",
       "      <th>1</th>\n",
       "      <td>0.0</td>\n",
       "      <td>0.0</td>\n",
       "      <td>0.0</td>\n",
       "      <td>0.0</td>\n",
       "      <td>0.0</td>\n",
       "      <td>0.0</td>\n",
       "      <td>0.0</td>\n",
       "      <td>1.0</td>\n",
       "      <td>0.0</td>\n",
       "      <td>0.0</td>\n",
       "      <td>0.0</td>\n",
       "      <td>0.0</td>\n",
       "      <td>0.0</td>\n",
       "      <td>1.0</td>\n",
       "      <td>0.0</td>\n",
       "      <td>0.0</td>\n",
       "      <td>0.0</td>\n",
       "      <td>0.0</td>\n",
       "      <td>0.0</td>\n",
       "      <td>1.0</td>\n",
       "      <td>0.0</td>\n",
       "      <td>0.0</td>\n",
       "      <td>0.0</td>\n",
       "      <td>0.0</td>\n",
       "      <td>0.0</td>\n",
       "      <td>1.0</td>\n",
       "      <td>0.0</td>\n",
       "      <td>1.0</td>\n",
       "      <td>0.0</td>\n",
       "      <td>0.0</td>\n",
       "      <td>1.0</td>\n",
       "      <td>0.0</td>\n",
       "      <td>0.0</td>\n",
       "      <td>0.0</td>\n",
       "      <td>1.0</td>\n",
       "      <td>0.0</td>\n",
       "      <td>0.0</td>\n",
       "      <td>0.0</td>\n",
       "      <td>0.0</td>\n",
       "      <td>0.0</td>\n",
       "      <td>0.0</td>\n",
       "      <td>1.0</td>\n",
       "      <td>0.0</td>\n",
       "      <td>0.0</td>\n",
       "      <td>0.0</td>\n",
       "      <td>0.0</td>\n",
       "      <td>1.0</td>\n",
       "      <td>0.0</td>\n",
       "      <td>0.0</td>\n",
       "      <td>0.0</td>\n",
       "      <td>0.0</td>\n",
       "      <td>1.0</td>\n",
       "      <td>0.0</td>\n",
       "      <td>1.628993</td>\n",
       "      <td>-0.565922</td>\n",
       "      <td>0.195414</td>\n",
       "      <td>-0.349494</td>\n",
       "      <td>0.648092</td>\n",
       "      <td>0.722722</td>\n",
       "      <td>0.886447</td>\n",
       "      <td>0.71246</td>\n",
       "      <td>0.33168</td>\n",
       "    </tr>\n",
       "  </tbody>\n",
       "</table>\n",
       "</div>"
      ]
     },
     "execution_count": 462,
     "metadata": {},
     "output_type": "execute_result"
    }
   ],
   "execution_count": 462
  },
  {
   "metadata": {
    "ExecuteTime": {
     "end_time": "2025-02-03T11:17:28.035524Z",
     "start_time": "2025-02-03T11:16:20.619671Z"
    }
   },
   "cell_type": "code",
   "source": [
    "iter_num = 0\n",
    "features_to_use = []\n",
    "cur_best_score = 0\n",
    "X_train1, X_test1, y_train1, y_test1 = train_test_split(X, y, test_size=0.3)\n",
    "while True:\n",
    "    iter_num += 1\n",
    "    print(\"Iteration \" + str(iter_num))\n",
    "    cur_best_feature = ''\n",
    "    for feature in X_train1.columns:\n",
    "        model = sklearn.linear_model.LogisticRegression(penalty='l2')\n",
    "        model.fit(X_train1[features_to_use + [feature]], y_train1)\n",
    "        pred = model.predict_proba(X_test1[features_to_use + [feature]])[:, 1]\n",
    "        if cur_best_score < average_precision_score(y_test1, pred):\n",
    "            cur_best_feature = feature\n",
    "            cur_best_score = average_precision_score(y_test1, pred)\n",
    "    if cur_best_feature == '':\n",
    "        print('cant get better score')\n",
    "        break\n",
    "    features_to_use.append(cur_best_feature)\n",
    "    print(\"Best score \" + str(cur_best_score) + '; features_to_use =', features_to_use)\n",
    "    "
   ],
   "outputs": [
    {
     "name": "stdout",
     "output_type": "stream",
     "text": [
      "Iteration 1\n",
      "Best score 0.3561727474945555; features_to_use = ['euribor3m']\n",
      "Iteration 2\n",
      "Best score 0.4115501165877533; features_to_use = ['euribor3m', 'pdays']\n",
      "Iteration 3\n",
      "Best score 0.4246197885186251; features_to_use = ['euribor3m', 'pdays', 'day_of_week_mon']\n",
      "Iteration 4\n",
      "Best score 0.43587696799970266; features_to_use = ['euribor3m', 'pdays', 'day_of_week_mon', 'month_may']\n",
      "Iteration 5\n",
      "Best score 0.4400635021540346; features_to_use = ['euribor3m', 'pdays', 'day_of_week_mon', 'month_may', 'day_of_week_fri']\n",
      "Iteration 6\n",
      "Best score 0.44168453033457516; features_to_use = ['euribor3m', 'pdays', 'day_of_week_mon', 'month_may', 'day_of_week_fri', 'contact_cellular']\n",
      "Iteration 7\n",
      "Best score 0.44360302253357614; features_to_use = ['euribor3m', 'pdays', 'day_of_week_mon', 'month_may', 'day_of_week_fri', 'contact_cellular', 'poutcome_success']\n",
      "Iteration 8\n",
      "Best score 0.44493091736689583; features_to_use = ['euribor3m', 'pdays', 'day_of_week_mon', 'month_may', 'day_of_week_fri', 'contact_cellular', 'poutcome_success', 'nr.employed']\n",
      "Iteration 9\n",
      "Best score 0.44735024893470393; features_to_use = ['euribor3m', 'pdays', 'day_of_week_mon', 'month_may', 'day_of_week_fri', 'contact_cellular', 'poutcome_success', 'nr.employed', 'poutcome_failure']\n",
      "Iteration 10\n",
      "Best score 0.4480675202924132; features_to_use = ['euribor3m', 'pdays', 'day_of_week_mon', 'month_may', 'day_of_week_fri', 'contact_cellular', 'poutcome_success', 'nr.employed', 'poutcome_failure', 'month_apr']\n",
      "Iteration 11\n",
      "Best score 0.44909501772421245; features_to_use = ['euribor3m', 'pdays', 'day_of_week_mon', 'month_may', 'day_of_week_fri', 'contact_cellular', 'poutcome_success', 'nr.employed', 'poutcome_failure', 'month_apr', 'job_blue-collar']\n",
      "Iteration 12\n",
      "Best score 0.44953364983815775; features_to_use = ['euribor3m', 'pdays', 'day_of_week_mon', 'month_may', 'day_of_week_fri', 'contact_cellular', 'poutcome_success', 'nr.employed', 'poutcome_failure', 'month_apr', 'job_blue-collar', 'month_dec']\n",
      "Iteration 13\n",
      "Best score 0.45017123418557425; features_to_use = ['euribor3m', 'pdays', 'day_of_week_mon', 'month_may', 'day_of_week_fri', 'contact_cellular', 'poutcome_success', 'nr.employed', 'poutcome_failure', 'month_apr', 'job_blue-collar', 'month_dec', 'day_of_week_thu']\n",
      "Iteration 14\n",
      "Best score 0.45050808590500613; features_to_use = ['euribor3m', 'pdays', 'day_of_week_mon', 'month_may', 'day_of_week_fri', 'contact_cellular', 'poutcome_success', 'nr.employed', 'poutcome_failure', 'month_apr', 'job_blue-collar', 'month_dec', 'day_of_week_thu', 'education_high.school']\n",
      "Iteration 15\n",
      "Best score 0.4506851604921128; features_to_use = ['euribor3m', 'pdays', 'day_of_week_mon', 'month_may', 'day_of_week_fri', 'contact_cellular', 'poutcome_success', 'nr.employed', 'poutcome_failure', 'month_apr', 'job_blue-collar', 'month_dec', 'day_of_week_thu', 'education_high.school', 'default_unknown']\n",
      "Iteration 16\n",
      "Best score 0.4507840862818275; features_to_use = ['euribor3m', 'pdays', 'day_of_week_mon', 'month_may', 'day_of_week_fri', 'contact_cellular', 'poutcome_success', 'nr.employed', 'poutcome_failure', 'month_apr', 'job_blue-collar', 'month_dec', 'day_of_week_thu', 'education_high.school', 'default_unknown', 'job_retired']\n",
      "Iteration 17\n",
      "Best score 0.4512586231303184; features_to_use = ['euribor3m', 'pdays', 'day_of_week_mon', 'month_may', 'day_of_week_fri', 'contact_cellular', 'poutcome_success', 'nr.employed', 'poutcome_failure', 'month_apr', 'job_blue-collar', 'month_dec', 'day_of_week_thu', 'education_high.school', 'default_unknown', 'job_retired', 'campaign']\n",
      "Iteration 18\n",
      "Best score 0.4526443073861123; features_to_use = ['euribor3m', 'pdays', 'day_of_week_mon', 'month_may', 'day_of_week_fri', 'contact_cellular', 'poutcome_success', 'nr.employed', 'poutcome_failure', 'month_apr', 'job_blue-collar', 'month_dec', 'day_of_week_thu', 'education_high.school', 'default_unknown', 'job_retired', 'campaign', 'month_oct']\n",
      "Iteration 19\n",
      "Best score 0.4532176720749188; features_to_use = ['euribor3m', 'pdays', 'day_of_week_mon', 'month_may', 'day_of_week_fri', 'contact_cellular', 'poutcome_success', 'nr.employed', 'poutcome_failure', 'month_apr', 'job_blue-collar', 'month_dec', 'day_of_week_thu', 'education_high.school', 'default_unknown', 'job_retired', 'campaign', 'month_oct', 'emp.var.rate']\n",
      "Iteration 20\n",
      "Best score 0.45395320973375614; features_to_use = ['euribor3m', 'pdays', 'day_of_week_mon', 'month_may', 'day_of_week_fri', 'contact_cellular', 'poutcome_success', 'nr.employed', 'poutcome_failure', 'month_apr', 'job_blue-collar', 'month_dec', 'day_of_week_thu', 'education_high.school', 'default_unknown', 'job_retired', 'campaign', 'month_oct', 'emp.var.rate', 'age']\n",
      "Iteration 21\n",
      "Best score 0.45422136790148293; features_to_use = ['euribor3m', 'pdays', 'day_of_week_mon', 'month_may', 'day_of_week_fri', 'contact_cellular', 'poutcome_success', 'nr.employed', 'poutcome_failure', 'month_apr', 'job_blue-collar', 'month_dec', 'day_of_week_thu', 'education_high.school', 'default_unknown', 'job_retired', 'campaign', 'month_oct', 'emp.var.rate', 'age', 'job_admin.']\n",
      "Iteration 22\n",
      "Best score 0.4545604583791796; features_to_use = ['euribor3m', 'pdays', 'day_of_week_mon', 'month_may', 'day_of_week_fri', 'contact_cellular', 'poutcome_success', 'nr.employed', 'poutcome_failure', 'month_apr', 'job_blue-collar', 'month_dec', 'day_of_week_thu', 'education_high.school', 'default_unknown', 'job_retired', 'campaign', 'month_oct', 'emp.var.rate', 'age', 'job_admin.', 'education_basic.9y']\n",
      "Iteration 23\n",
      "Best score 0.45458307477103305; features_to_use = ['euribor3m', 'pdays', 'day_of_week_mon', 'month_may', 'day_of_week_fri', 'contact_cellular', 'poutcome_success', 'nr.employed', 'poutcome_failure', 'month_apr', 'job_blue-collar', 'month_dec', 'day_of_week_thu', 'education_high.school', 'default_unknown', 'job_retired', 'campaign', 'month_oct', 'emp.var.rate', 'age', 'job_admin.', 'education_basic.9y', 'nr.employed']\n",
      "Iteration 24\n",
      "Best score 0.45460027959093835; features_to_use = ['euribor3m', 'pdays', 'day_of_week_mon', 'month_may', 'day_of_week_fri', 'contact_cellular', 'poutcome_success', 'nr.employed', 'poutcome_failure', 'month_apr', 'job_blue-collar', 'month_dec', 'day_of_week_thu', 'education_high.school', 'default_unknown', 'job_retired', 'campaign', 'month_oct', 'emp.var.rate', 'age', 'job_admin.', 'education_basic.9y', 'nr.employed', 'education_illiterate']\n",
      "Iteration 25\n",
      "Best score 0.45462419712258423; features_to_use = ['euribor3m', 'pdays', 'day_of_week_mon', 'month_may', 'day_of_week_fri', 'contact_cellular', 'poutcome_success', 'nr.employed', 'poutcome_failure', 'month_apr', 'job_blue-collar', 'month_dec', 'day_of_week_thu', 'education_high.school', 'default_unknown', 'job_retired', 'campaign', 'month_oct', 'emp.var.rate', 'age', 'job_admin.', 'education_basic.9y', 'nr.employed', 'education_illiterate', 'education_illiterate']\n",
      "Iteration 26\n",
      "Best score 0.45463051006283717; features_to_use = ['euribor3m', 'pdays', 'day_of_week_mon', 'month_may', 'day_of_week_fri', 'contact_cellular', 'poutcome_success', 'nr.employed', 'poutcome_failure', 'month_apr', 'job_blue-collar', 'month_dec', 'day_of_week_thu', 'education_high.school', 'default_unknown', 'job_retired', 'campaign', 'month_oct', 'emp.var.rate', 'age', 'job_admin.', 'education_basic.9y', 'nr.employed', 'education_illiterate', 'education_illiterate', 'campaign']\n",
      "Iteration 27\n",
      "Best score 0.4546465088704917; features_to_use = ['euribor3m', 'pdays', 'day_of_week_mon', 'month_may', 'day_of_week_fri', 'contact_cellular', 'poutcome_success', 'nr.employed', 'poutcome_failure', 'month_apr', 'job_blue-collar', 'month_dec', 'day_of_week_thu', 'education_high.school', 'default_unknown', 'job_retired', 'campaign', 'month_oct', 'emp.var.rate', 'age', 'job_admin.', 'education_basic.9y', 'nr.employed', 'education_illiterate', 'education_illiterate', 'campaign', 'education_illiterate']\n",
      "Iteration 28\n",
      "cant get better score\n"
     ]
    }
   ],
   "execution_count": 463
  },
  {
   "cell_type": "markdown",
   "metadata": {
    "id": "lMKgtxfwaBEQ"
   },
   "source": [
    "В этой части не нужно делить выборку - мы будем использовать кросс-валидацию.  Используйте 5 фолдов, сделайте `shuffle=True, random_state=500`. По кросс-валидации у вас получится 5 вариантов обучающей и тестовой выборки."
   ]
  },
  {
   "cell_type": "markdown",
   "metadata": {
    "id": "YIX-omTIyxtU"
   },
   "source": [
    "Обучите логистическую регрессию на каждой обучающей выборке (воспользуйтесь one-hot для категориальных признаков и `StandardScaler` для числовых, гиперпараметры по умолчанию) и сделайте предсказания для соответствующих тестовых выборок."
   ]
  },
  {
   "metadata": {
    "ExecuteTime": {
     "end_time": "2025-02-03T11:22:10.443834Z",
     "start_time": "2025-02-03T11:22:10.045043Z"
    }
   },
   "cell_type": "code",
   "source": [
    "from sklearn.model_selection import StratifiedKFold\n",
    "from sklearn.linear_model import LogisticRegression\n",
    "\n",
    "iteration_num = 0\n",
    "\n",
    "cv = StratifiedKFold(n_splits=5, shuffle=True, random_state=500)\n",
    "\n",
    "for train_index, test_index in cv.split(X, y):\n",
    "    X_train, X_test = X.iloc[train_index], X.iloc[test_index]\n",
    "    y_train, y_test = y.iloc[train_index], y.iloc[test_index]\n",
    "    \n",
    "    model = LogisticRegression(penalty='l2')\n",
    "    model.fit(X_train[features_to_use], y_train)\n",
    "\n",
    "    iteration_num += 1\n",
    "    print(\"Iteration number :\", iteration_num)\n",
    "    print(\"AUC-pr:\", average_precision_score(y_test, model.predict_proba(X_test[features_to_use])[:, 1]))\n",
    "    print('AUC-ROC: %.5f' % roc_auc_score(y_test, model.predict_proba(X_test[features_to_use])[:, 1]))\n",
    "    "
   ],
   "outputs": [
    {
     "name": "stdout",
     "output_type": "stream",
     "text": [
      "Iteration number : 1\n",
      "AUC-pr: 0.4459463110984613\n",
      "AUC-ROC: 0.78775\n",
      "Iteration number : 2\n",
      "AUC-pr: 0.4378614034890684\n",
      "AUC-ROC: 0.78123\n",
      "Iteration number : 3\n",
      "AUC-pr: 0.41209727792292006\n",
      "AUC-ROC: 0.77722\n",
      "Iteration number : 4\n",
      "AUC-pr: 0.46045913100602104\n",
      "AUC-ROC: 0.79619\n",
      "Iteration number : 5\n",
      "AUC-pr: 0.4590866677478543\n",
      "AUC-ROC: 0.79405\n"
     ]
    }
   ],
   "execution_count": 465
  },
  {
   "cell_type": "markdown",
   "metadata": {
    "id": "CcuHfZjfzmnt"
   },
   "source": [
    "Допустим, работники вашего колл-центра получают за один звонок клиенту 1 доллар. При согласии клиента на предлагаемые условия он принесет в банк 10 долларов. Предположим, что всем положительным прогнозам ваши сотрудники решили позвонить. Посчитайте на всех тестовых выборках выручку и усредните. Также вычислите стандартное отклонение.\n",
    "- Сколько денег вы в среднем заработаете? \n",
    "- Сколько из заработанных денег придётся отдать операторам вашего колл-центра?"
   ]
  },
  {
   "cell_type": "code",
   "metadata": {
    "id": "0okqAh-AzWTX",
    "ExecuteTime": {
     "end_time": "2025-02-03T11:46:18.374484Z",
     "start_time": "2025-02-03T11:46:17.999143Z"
    }
   },
   "source": [
    "for train_index, test_index in cv.split(X, y):\n",
    "    X_train, X_test = X.iloc[train_index], X.iloc[test_index]\n",
    "    y_train, y_test = y.iloc[train_index], y.iloc[test_index]\n",
    "\n",
    "    model = LogisticRegression(penalty='l2')\n",
    "    model.fit(X_train[features_to_use], y_train)\n",
    "    \n",
    "    y_pred = model.predict(X_test[features_to_use])\n",
    "    \n",
    "    money_spend = (y_pred).sum()\n",
    "    money_earn = (y_pred & y_test).sum()\n",
    "\n",
    "    iteration_num += 1\n",
    "    \n",
    "    print(\"Iteration number :\", iteration_num)\n",
    "    print(\"    GOT:\", money_earn * 10 - money_spend)\n",
    "    print(\"    spend:\", money_spend, \"; earn:\", money_earn)"
   ],
   "outputs": [
    {
     "name": "stdout",
     "output_type": "stream",
     "text": [
      "Iteration number : 62\n",
      "    GOT: 1675\n",
      "    spend: 285 ; earn: 196\n",
      "Iteration number : 63\n",
      "    GOT: 1759\n",
      "    spend: 311 ; earn: 207\n",
      "Iteration number : 64\n",
      "    GOT: 1458\n",
      "    spend: 272 ; earn: 173\n",
      "Iteration number : 65\n",
      "    GOT: 1880\n",
      "    spend: 310 ; earn: 219\n",
      "Iteration number : 66\n",
      "    GOT: 1863\n",
      "    spend: 307 ; earn: 217\n"
     ]
    }
   ],
   "execution_count": 486
  },
  {
   "cell_type": "markdown",
   "metadata": {
    "id": "Da1x6u6wP75k"
   },
   "source": [
    "Внесем некоторую долю случайности. Пусть теперь согласный на условия клиент будет приносить не 10 долларов, а случайную величину, равномерно распределенную в интервале $[0;20)$. Проделайте все те же самые действия. Для имитации реальной ситуации **НЕ** фиксируйте `random_seed` при подсчете выручки с клиента. Что получилось?"
   ]
  },
  {
   "cell_type": "code",
   "metadata": {
    "id": "0AKmJpRAP75k",
    "ExecuteTime": {
     "end_time": "2025-02-03T12:27:23.535081Z",
     "start_time": "2025-02-03T12:27:23.152716Z"
    }
   },
   "source": [
    "for train_index, test_index in cv.split(X, y):\n",
    "    X_train, X_test = X.iloc[train_index], X.iloc[test_index]\n",
    "    y_train, y_test = y.iloc[train_index], y.iloc[test_index]\n",
    "\n",
    "    model = LogisticRegression(penalty='l2')\n",
    "    model.fit(X_train[features_to_use], y_train)\n",
    "\n",
    "    y_pred = model.predict(X_test[features_to_use])\n",
    "\n",
    "    money_spend = (y_pred).sum()\n",
    "    success_calls = (y_pred & y_test).sum()\n",
    "    \n",
    "    money_earn = sum([random.uniform(0, 20) for _ in range(success_calls)])\n",
    "\n",
    "    iteration_num += 1\n",
    "\n",
    "    print(\"Iteration number :\", iteration_num)\n",
    "    print(\"    GOT:\", money_earn - money_spend)\n",
    "    print(\"    spend:\", money_spend, \"; earn:\", money_earn)"
   ],
   "outputs": [
    {
     "name": "stdout",
     "output_type": "stream",
     "text": [
      "Iteration number : 77\n",
      "    GOT: 1688.2444997195678\n",
      "    spend: 285 ; earn: 1973.2444997195678\n",
      "Iteration number : 78\n",
      "    GOT: 1814.2275547216368\n",
      "    spend: 311 ; earn: 2125.227554721637\n",
      "Iteration number : 79\n",
      "    GOT: 1406.266291508874\n",
      "    spend: 272 ; earn: 1678.266291508874\n",
      "Iteration number : 80\n",
      "    GOT: 1798.3090524012132\n",
      "    spend: 310 ; earn: 2108.309052401213\n",
      "Iteration number : 81\n",
      "    GOT: 1845.5117646126905\n",
      "    spend: 307 ; earn: 2152.5117646126905\n"
     ]
    }
   ],
   "execution_count": 489
  },
  {
   "cell_type": "markdown",
   "metadata": {
    "id": "O1g9FPExP75k"
   },
   "source": [
    "Настройте по кросс-валидации коэффициент регуляризации модели для максимизации прибыли (считайте как случайную величину выше). Удалось ли получить какой-то выигрыш? При каком коэффициенте регуляризациии прибыль максимальна? Постройте график зависимости ожидаемой прибыли от коэффициента, укажите стандартные отклонения (вам поможет `plt.errorbar`, [пример](https://jakevdp.github.io/PythonDataScienceHandbook/04.03-errorbars.html))."
   ]
  },
  {
   "cell_type": "code",
   "metadata": {
    "id": "YXx7qU5PP75l",
    "ExecuteTime": {
     "end_time": "2025-02-03T12:34:56.379054Z",
     "start_time": "2025-02-03T12:34:53.167310Z"
    }
   },
   "source": [
    "def get_mean(Сc):\n",
    "    iteration_num = 0\n",
    "    results = []\n",
    "    cv = StratifiedKFold(n_splits=5, shuffle=True, random_state=500)\n",
    "    for train_index, test_index in cv.split(X, y):\n",
    "        X_train, X_test = X.iloc[train_index], X.iloc[test_index]\n",
    "        y_train, y_test = y.iloc[train_index], y.iloc[test_index]\n",
    "    \n",
    "        model = LogisticRegression(penalty='l2', C=Сc)\n",
    "        model.fit(X_train[features_to_use], y_train)\n",
    "    \n",
    "        y_pred = model.predict(X_test[features_to_use])\n",
    "    \n",
    "        money_spend = (y_pred).sum()\n",
    "        success_calls = (y_pred & y_test).sum()\n",
    "    \n",
    "        money_earn = sum([random.uniform(0, 20) for _ in range(success_calls)])\n",
    "    \n",
    "        iteration_num += 1\n",
    "\n",
    "        results.append(money_earn - money_spend)\n",
    "    return np.mean(results)\n",
    "\n",
    "\n",
    "C_list = np.logspace(-4, 4, 10)\n",
    "\n",
    "best_money = 0\n",
    "best_c = 1\n",
    "\n",
    "for c in C_list:\n",
    "    earned = get_mean(c)\n",
    "    if (earned > best_money):\n",
    "        best_money = earned\n",
    "        best_c = c\n",
    "print(best_c, best_money)\n",
    "    "
   ],
   "outputs": [
    {
     "name": "stdout",
     "output_type": "stream",
     "text": [
      "1291.5496650148827 1743.0527514033124\n"
     ]
    }
   ],
   "execution_count": 496
  },
  {
   "cell_type": "markdown",
   "metadata": {
    "id": "sdptRdaIP75l"
   },
   "source": [
    "Попробуйте запустить перебор несколько раз. Находится ли каждый раз один и тот же \"лучший\" коэффициент? Присутствует ли какая-то закономерность? Какие вы можете сделать из этого выводы?"
   ]
  },
  {
   "metadata": {},
   "cell_type": "markdown",
   "source": "тут большую роль играет вероятность чем c"
  },
  {
   "cell_type": "markdown",
   "metadata": {
    "id": "J0j8HubaP75l"
   },
   "source": [
    "#### __Задание 13. Ключевая метрика__ (1 балл)\n",
    "\n",
    "Выше мы уже описали примерную экономическую модель вашей задачи. Как вы считаете, что для вашего бизнеса важнее — хороший precision или recall модели? Почему?\n",
    "\n",
    "__Ответ:__ precision так как звонки платные, если процент успешных будет низким, это невыгодно. как раз процент успешних звонков мы хотим увеличить. а если оптимизировать recall мы будем увеличивать сколько верных звонков мы сделали к числу всех возможных успешних звонков. так можно получить слишком много не успешных звонков\n",
    "\n"
   ]
  },
  {
   "cell_type": "markdown",
   "metadata": {
    "id": "4LFRNnrtP75m"
   },
   "source": [
    "> Вспомним, что на самом деле логистическая регрессия предсказывает нам вероятности положительного класса для объекта. Возможно, путем настройки __порога бинаризации__ этих вероятностей мы сможем получить какой-то выигрыш?\n",
    "\n",
    "Проверьте ваши рассуждения выше с помощью настройки порога бинаризации на кросс-валидации для максимизации прибыли. Воспользуйтесь сеткой от 0 до 1 с шагом 0.01. Напомним, что снижение порога дает нам более высокий recall и более низкий precision, и наоборот."
   ]
  },
  {
   "cell_type": "code",
   "metadata": {
    "id": "3ALl1YeBP75m",
    "ExecuteTime": {
     "end_time": "2025-02-03T13:16:43.338411Z",
     "start_time": "2025-02-03T13:16:07.350996Z"
    }
   },
   "source": [
    "def get_mean(k):\n",
    "    iteration_num = 0\n",
    "    results_earned = []\n",
    "    results_recall = []\n",
    "    results_precision = []\n",
    "    cv = StratifiedKFold(n_splits=5, shuffle=True, random_state=500)\n",
    "    for train_index, test_index in cv.split(X, y):\n",
    "        X_train, X_test = X.iloc[train_index], X.iloc[test_index]\n",
    "        y_train, y_test = y.iloc[train_index], y.iloc[test_index]\n",
    "\n",
    "        model = LogisticRegression(penalty='l2')\n",
    "        model.fit(X_train[features_to_use], y_train)\n",
    "\n",
    "        y_pred = model.predict_proba(X_test[features_to_use])[:, 1]\n",
    "        y_pred = (y_pred > k)\n",
    "\n",
    "        money_spend = (y_pred).sum()\n",
    "        success_calls = (y_pred & y_test).sum()\n",
    "\n",
    "        precision = success_calls / money_spend if money_spend != 0 else 0\n",
    "        recall = success_calls / sum(y_test)\n",
    "\n",
    "        results_recall.append(recall)\n",
    "        results_precision.append(precision)\n",
    "\n",
    "        money_earn = sum([random.uniform(0, 20) for _ in range(success_calls)])\n",
    "        iteration_num += 1\n",
    "        results_earned.append(money_earn - money_spend)\n",
    "    return np.mean(results_earned), np.std(results_earned), np.mean(results_recall), np.std(results_recall), np.mean(results_precision), np.std(results_precision)\n",
    "\n",
    "possible_k = np.arange(0, 1.01, 0.01)\n",
    "\n",
    "means_earn = []\n",
    "stds_earn = []\n",
    "\n",
    "means_recall = []\n",
    "stds_recall = []\n",
    "\n",
    "means_precision = []\n",
    "stds_precision = []\n",
    "\n",
    "\n",
    "\n",
    "best_money = 0\n",
    "best_k = -100\n",
    "for k in possible_k:\n",
    "    earn_mean, earn_std, recall_mean, recall_std, precision_mean, precision_std = get_mean(k)\n",
    "    print(k, earn_mean)\n",
    "    means_earn.append(earn_mean)\n",
    "    stds_earn.append(earn_std)\n",
    "    means_recall.append(recall_mean)\n",
    "    stds_recall.append(recall_std)\n",
    "    means_precision.append(precision_mean)\n",
    "    stds_precision.append(precision_std)\n",
    "    if (earn_mean > best_money):\n",
    "        best_money = earn_mean\n",
    "        best_k = k\n",
    "print(best_k, best_money)"
   ],
   "outputs": [
    {
     "name": "stdout",
     "output_type": "stream",
     "text": [
      "0.0 1135.0582117767285\n",
      "0.01 853.3315828406736\n",
      "0.02 1138.1659039834092\n",
      "0.03 1689.1614924126402\n",
      "0.04 2622.8437359672957\n",
      "0.05 3030.4157428372446\n",
      "0.06 3338.9387882576875\n",
      "0.07 3660.3247155787058\n",
      "0.08 3811.03636713378\n",
      "0.09 4038.9890332905075\n",
      "0.1 4111.597248545529\n",
      "0.11 4091.1320693500866\n",
      "0.12 4071.731185358169\n",
      "0.13 4136.4330068716245\n",
      "0.14 4148.384543912919\n",
      "0.15 4258.366859546459\n",
      "0.16 4119.4508117588\n",
      "0.17 4086.090154162602\n",
      "0.18 4048.621230029495\n",
      "0.19 4087.7661256308807\n",
      "0.2 4063.436470612429\n",
      "0.21 3970.254192356368\n",
      "0.22 3771.027938040354\n",
      "0.23 3608.5431897839344\n",
      "0.24 3577.7452085377217\n",
      "0.25 3571.247599453942\n",
      "0.26 3385.2965658390704\n",
      "0.27 3274.6825718495334\n",
      "0.28 3239.0379639938233\n",
      "0.29 3018.7786027125126\n",
      "0.3 2950.633433990135\n",
      "0.31 2900.275181044325\n",
      "0.32 2737.617642819411\n",
      "0.33 2707.4888770350844\n",
      "0.34 2562.7896240297837\n",
      "0.35000000000000003 2489.682600189733\n",
      "0.36 2484.712044762321\n",
      "0.37 2406.632434992213\n",
      "0.38 2352.090521387539\n",
      "0.39 2376.8364087817617\n",
      "0.4 2276.1602490457926\n",
      "0.41000000000000003 2263.53890700571\n",
      "0.42 2193.07355064969\n",
      "0.43 2084.6925280343394\n",
      "0.44 2098.278346309279\n",
      "0.45 1877.0647533053439\n",
      "0.46 1974.1881795605027\n",
      "0.47000000000000003 1873.4755275434425\n",
      "0.48 1787.0866128370333\n",
      "0.49 1747.5493417893558\n",
      "0.5 1734.1041488984042\n",
      "0.51 1649.0480803878302\n",
      "0.52 1536.7075581612658\n",
      "0.53 1532.2838905227925\n",
      "0.54 1539.3276222054742\n",
      "0.55 1552.8712619448875\n",
      "0.56 1430.6839108720958\n",
      "0.5700000000000001 1382.25602941476\n",
      "0.58 1319.8474720626848\n",
      "0.59 1301.0496152573385\n",
      "0.6 1249.265392232809\n",
      "0.61 1272.5434275078617\n",
      "0.62 1236.411789196431\n",
      "0.63 1147.547484492697\n",
      "0.64 1205.5881062101148\n",
      "0.65 1085.4630614102907\n",
      "0.66 1018.7671631805036\n",
      "0.67 1069.7355224809608\n",
      "0.68 1056.4257569456968\n",
      "0.6900000000000001 1036.2612714133159\n",
      "0.7000000000000001 964.7658433924349\n",
      "0.71 973.9359809919281\n",
      "0.72 868.3727577267442\n",
      "0.73 826.6297741134036\n",
      "0.74 780.6317808272847\n",
      "0.75 675.5998349659891\n",
      "0.76 569.7637574698931\n",
      "0.77 470.8527688380289\n",
      "0.78 386.872006834632\n",
      "0.79 277.0196349077291\n",
      "0.8 227.8208676998219\n",
      "0.81 121.63830849101294\n",
      "0.8200000000000001 76.71037572760247\n",
      "0.8300000000000001 41.48397592847195\n",
      "0.84 15.090395889935696\n",
      "0.85 10.250165617495707\n",
      "0.86 0.0\n",
      "0.87 0.0\n",
      "0.88 0.0\n",
      "0.89 0.0\n",
      "0.9 0.0\n",
      "0.91 0.0\n",
      "0.92 0.0\n",
      "0.93 0.0\n",
      "0.9400000000000001 0.0\n",
      "0.9500000000000001 0.0\n",
      "0.96 0.0\n",
      "0.97 0.0\n",
      "0.98 0.0\n",
      "0.99 0.0\n",
      "1.0 0.0\n",
      "0.15 4258.366859546459\n"
     ]
    }
   ],
   "execution_count": 505
  },
  {
   "cell_type": "markdown",
   "metadata": {
    "id": "fLL7uqb2P75m"
   },
   "source": [
    "Постройте график зависимости прибыли от порога бинаризации, также отметьте на нем стандартные отклонения. Выделите наилучший порог. \n",
    "\n",
    "\n",
    "__Вопрос:__ Замечаете ли вы какую-то закономерность? Для правильного ответа на этот вопрос попробуйте запустить несколько раз и задумайтесь, почему порог получается в какой-то конкретной области?"
   ]
  },
  {
   "cell_type": "code",
   "metadata": {
    "id": "K2D3BkVsP75m",
    "ExecuteTime": {
     "end_time": "2025-02-03T13:17:09.846453Z",
     "start_time": "2025-02-03T13:17:09.766013Z"
    }
   },
   "source": [
    "plt.plot(possible_k, means_earn, label =\"mean\")\n",
    "plt.plot(possible_k, stds_earn, label =\"std\")\n"
   ],
   "outputs": [
    {
     "data": {
      "text/plain": [
       "[<matplotlib.lines.Line2D at 0x27c102b6450>]"
      ]
     },
     "execution_count": 506,
     "metadata": {},
     "output_type": "execute_result"
    },
    {
     "data": {
      "text/plain": [
       "<Figure size 640x480 with 1 Axes>"
      ],
      "image/png": "[encoded data removed]"
     },
     "metadata": {},
     "output_type": "display_data"
    }
   ],
   "execution_count": 506
  },
  {
   "cell_type": "markdown",
   "metadata": {
    "id": "i7Ksl7b9P75m"
   },
   "source": [
    "Каковы значения precision и recall на выбранном пороге? Оцените по кросс-валидации. Также вычислите стандартное отклонение."
   ]
  },
  {
   "cell_type": "code",
   "metadata": {
    "id": "i0fwjmYGP75n",
    "ExecuteTime": {
     "end_time": "2025-02-03T13:17:26.320696Z",
     "start_time": "2025-02-03T13:17:26.213754Z"
    }
   },
   "source": [
    "plt.plot(possible_k, means_precision, label =\"mean\")\n",
    "plt.plot(possible_k, stds_precision, label =\"std\")"
   ],
   "outputs": [
    {
     "data": {
      "text/plain": [
       "[<matplotlib.lines.Line2D at 0x27c1031e540>]"
      ]
     },
     "execution_count": 507,
     "metadata": {},
     "output_type": "execute_result"
    },
    {
     "data": {
      "text/plain": [
       "<Figure size 640x480 with 1 Axes>"
      ],
      "image/png": "[encoded data removed]"
     },
     "metadata": {},
     "output_type": "display_data"
    }
   ],
   "execution_count": 507
  },
  {
   "metadata": {
    "ExecuteTime": {
     "end_time": "2025-02-03T13:17:56.472094Z",
     "start_time": "2025-02-03T13:17:56.366212Z"
    }
   },
   "cell_type": "code",
   "source": [
    "plt.plot(possible_k, means_recall, label =\"mean\")\n",
    "plt.plot(possible_k, stds_recall, label =\"std\")"
   ],
   "outputs": [
    {
     "data": {
      "text/plain": [
       "[<matplotlib.lines.Line2D at 0x27c10365730>]"
      ]
     },
     "execution_count": 508,
     "metadata": {},
     "output_type": "execute_result"
    },
    {
     "data": {
      "text/plain": [
       "<Figure size 640x480 with 1 Axes>"
      ],
      "image/png": "[encoded data removed]"
     },
     "metadata": {},
     "output_type": "display_data"
    }
   ],
   "execution_count": 508
  },
  {
   "cell_type": "markdown",
   "metadata": {
    "id": "H4xmz6caP75n"
   },
   "source": [
    "Можно пронаблюдать, что наша модель склоняется к более высокому recall. Попробуйте оценить качество модели с помощью `PR-AUC` в зоне recall $\\geq$ 0.5. Сделайте это следующим образом:\n",
    "- выберите только те пороги, на которых достигается необходимый recall,\n",
    "- затем интерпретируйте отсеченный в единичном квадрате прямоугольник как новый единичный квадрат,\n",
    "- посчитайте площадь под отсеченной кривой"
   ]
  },
  {
   "metadata": {},
   "cell_type": "markdown",
   "source": "что простите сделать какой квадрат"
  },
  {
   "cell_type": "markdown",
   "metadata": {
    "id": "ACYk14eyP75n"
   },
   "source": [
    "__Бонус (0.01 балла):__ что вы кушали в день сдачи данного ДЗ на завтрак?\n",
    "\n",
    "__Ответ:__ жареный бутер с ветчиной и сыром"
   ]
  },
  {
   "metadata": {},
   "cell_type": "code",
   "outputs": [],
   "execution_count": null,
   "source": ""
  }
 ],
 "metadata": {
  "colab": {
   "collapsed_sections": [
    "eMwMhTpA1MwR"
   ],
   "provenance": []
  },
  "kernelspec": {
   "display_name": "Python 3 (ipykernel)",
   "language": "python",
   "name": "python3"
  },
  "language_info": {
   "codemirror_mode": {
    "name": "ipython",
    "version": 3
   },
   "file_extension": ".py",
   "mimetype": "text/x-python",
   "name": "python",
   "nbconvert_exporter": "python",
   "pygments_lexer": "ipython3",
   "version": "3.9.7"
  }
 },
 "nbformat": 4,
 "nbformat_minor": 1
}
